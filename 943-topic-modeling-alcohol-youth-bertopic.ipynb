{
 "cells": [
  {
   "cell_type": "markdown",
   "metadata": {},
   "source": [
    "# Topic Modeling for youth alcohol consumption - Bertopic"
   ]
  },
  {
   "cell_type": "code",
   "execution_count": 1,
   "metadata": {},
   "outputs": [],
   "source": [
    "# parameters\n",
    "nr_of_articles = 10000\n",
    "startyear = 2000 \n",
    "nr_topics = 11\n",
    "min_topic_size = 25\n",
    "\n",
    "# hyperparameter tuning of Bertopic: https://maartengr.github.io/BERTopic/getting_started/parameter%20tuning/parametertuning.html"
   ]
  },
  {
   "cell_type": "code",
   "execution_count": 4,
   "metadata": {},
   "outputs": [],
   "source": [
    "import matplotlib.pyplot as plt\n",
    "\n",
    "plt.rc('font', size=14)\n",
    "plt.rc('axes', labelsize=14, titlesize=14)\n",
    "plt.rc('legend', fontsize=14)\n",
    "plt.rc('xtick', labelsize=10)\n",
    "plt.rc('ytick', labelsize=10)\n",
    "\n",
    "import numpy as np\n",
    "import pandas as pd\n",
    "\n",
    "pd.set_option('display.max_colwidth', 0)\n",
    "pd.set_option('display.max_rows', 1000)\n",
    "pd.set_option('display.max_columns', 1000)\n"
   ]
  },
  {
   "cell_type": "markdown",
   "metadata": {},
   "source": [
    "## Data"
   ]
  },
  {
   "cell_type": "markdown",
   "metadata": {},
   "source": [
    "Searchstring 1 Web of Science: alcohol* AND (adolescen* OR youth OR minor OR underage*) AND (factors OR determinant* OR Cause* OR influence* OR Predictor*)\n",
    " \n",
    "zoeken op Topic  (--> Searches title, abstract and author keywords.)\n",
    "\n",
    "Dit geeft: n = 23.260 (artikels)\n",
    "\n",
    "inclusie/exclusiecriteria\n",
    "Refine: open acces (n=11.605)\n",
    "Refine: english (n=11.260)\n",
    "Refine: article + early acces (n = 10,436) --> alle andere bronnen geëxcludeerd op deze wijze\n",
    "\n",
    "Sort by relevance. \n",
    "\n",
    "Searchstring 2 Web of Science: (alcohol*) AND (adolescen* OR youth OR minor OR underage*) AND (factor* OR determinant* OR Cause* OR influence* OR Predictor*)\n",
    " \n",
    "zoeken op Title + Abstract\n",
    "\n",
    "languages: english,\n",
    "open acces, \n",
    "Document typers: article\n",
    "Publication Year >= 2000\n",
    "\n",
    "\n",
    "\n"
   ]
  },
  {
   "cell_type": "code",
   "execution_count": 6,
   "metadata": {},
   "outputs": [],
   "source": [
    "art1 = pd.read_excel('datasets/savedrecs-0001-1000.xls')\n",
    "art2 = pd.read_excel('datasets/savedrecs-1001-2000.xls')\n",
    "art3 = pd.read_excel('datasets/savedrecs-2001-3000.xls')\n",
    "art4 = pd.read_excel('datasets/savedrecs-3001-4000.xls')\n",
    "art5 = pd.read_excel('datasets/savedrecs-4001-5000.xls')\n",
    "art6 = pd.read_excel('datasets/savedrecs-5001-5596.xls')    \n",
    "articles = pd.concat([art1, art2, art3, art4, art5, art6], ignore_index=True, axis=0)"
   ]
  },
  {
   "cell_type": "code",
   "execution_count": 7,
   "metadata": {},
   "outputs": [],
   "source": [
    "articles = articles[articles['Publication Year'] >= startyear]"
   ]
  },
  {
   "cell_type": "code",
   "execution_count": 8,
   "metadata": {},
   "outputs": [
    {
     "data": {
      "text/plain": [
       "5597"
      ]
     },
     "execution_count": 8,
     "metadata": {},
     "output_type": "execute_result"
    }
   ],
   "source": [
    "len(articles)"
   ]
  },
  {
   "cell_type": "code",
   "execution_count": 9,
   "metadata": {},
   "outputs": [
    {
     "name": "stdout",
     "output_type": "stream",
     "text": [
      "<class 'pandas.core.frame.DataFrame'>\n",
      "RangeIndex: 5597 entries, 0 to 5596\n",
      "Data columns (total 72 columns):\n",
      " #   Column                      Non-Null Count  Dtype  \n",
      "---  ------                      --------------  -----  \n",
      " 0   Publication Type            5597 non-null   object \n",
      " 1   Authors                     5597 non-null   object \n",
      " 2   Book Authors                0 non-null      float64\n",
      " 3   Book Editors                5 non-null      object \n",
      " 4   Book Group Authors          0 non-null      float64\n",
      " 5   Author Full Names           5597 non-null   object \n",
      " 6   Book Author Full Names      0 non-null      float64\n",
      " 7   Group Authors               104 non-null    object \n",
      " 8   Article Title               5597 non-null   object \n",
      " 9   Source Title                5597 non-null   object \n",
      " 10  Book Series Title           5 non-null      object \n",
      " 11  Book Series Subtitle        0 non-null      float64\n",
      " 12  Language                    5597 non-null   object \n",
      " 13  Document Type               5597 non-null   object \n",
      " 14  Conference Title            53 non-null     object \n",
      " 15  Conference Date             53 non-null     object \n",
      " 16  Conference Location         53 non-null     object \n",
      " 17  Conference Sponsor          39 non-null     object \n",
      " 18  Conference Host             4 non-null      object \n",
      " 19  Author Keywords             4426 non-null   object \n",
      " 20  Keywords Plus               5430 non-null   object \n",
      " 21  Abstract                    5597 non-null   object \n",
      " 22  Addresses                   5594 non-null   object \n",
      " 23  Affiliations                5478 non-null   object \n",
      " 24  Reprint Addresses           5588 non-null   object \n",
      " 25  Email Addresses             5470 non-null   object \n",
      " 26  Researcher Ids              3694 non-null   object \n",
      " 27  ORCIDs                      4443 non-null   object \n",
      " 28  Funding Orgs                4177 non-null   object \n",
      " 29  Funding Name Preferred      4166 non-null   object \n",
      " 30  Funding Text                3719 non-null   object \n",
      " 31  Cited References            0 non-null      float64\n",
      " 32  Cited Reference Count       5597 non-null   int64  \n",
      " 33  Times Cited, WoS Core       5597 non-null   int64  \n",
      " 34  Times Cited, All Databases  5597 non-null   int64  \n",
      " 35  180 Day Usage Count         5597 non-null   int64  \n",
      " 36  Since 2013 Usage Count      5597 non-null   int64  \n",
      " 37  Publisher                   5597 non-null   object \n",
      " 38  Publisher City              5597 non-null   object \n",
      " 39  Publisher Address           5597 non-null   object \n",
      " 40  ISSN                        4883 non-null   object \n",
      " 41  eISSN                       4404 non-null   object \n",
      " 42  ISBN                        3 non-null      object \n",
      " 43  Journal Abbreviation        5597 non-null   object \n",
      " 44  Journal ISO Abbreviation    5596 non-null   object \n",
      " 45  Publication Date            5189 non-null   object \n",
      " 46  Publication Year            5597 non-null   int64  \n",
      " 47  Volume                      5541 non-null   object \n",
      " 48  Issue                       4354 non-null   object \n",
      " 49  Part Number                 17 non-null     object \n",
      " 50  Supplement                  76 non-null     object \n",
      " 51  Special Issue               151 non-null    object \n",
      " 52  Meeting Abstract            0 non-null      float64\n",
      " 53  Start Page                  3833 non-null   object \n",
      " 54  End Page                    3833 non-null   object \n",
      " 55  Article Number              1764 non-null   object \n",
      " 56  DOI                         5567 non-null   object \n",
      " 57  DOI Link                    5567 non-null   float64\n",
      " 58  Book DOI                    0 non-null      float64\n",
      " 59  Early Access Date           706 non-null    object \n",
      " 60  Number of Pages             5597 non-null   int64  \n",
      " 61  WoS Categories              5596 non-null   object \n",
      " 62  Web of Science Index        5597 non-null   object \n",
      " 63  Research Areas              5596 non-null   object \n",
      " 64  IDS Number                  5597 non-null   object \n",
      " 65  Pubmed Id                   5202 non-null   float64\n",
      " 66  Open Access Designations    5597 non-null   object \n",
      " 67  Highly Cited Status         0 non-null      float64\n",
      " 68  Hot Paper Status            0 non-null      float64\n",
      " 69  Date of Export              5597 non-null   object \n",
      " 70  UT (Unique WOS ID)          5597 non-null   object \n",
      " 71  Web of Science Record       5597 non-null   int64  \n",
      "dtypes: float64(11), int64(8), object(53)\n",
      "memory usage: 3.1+ MB\n"
     ]
    }
   ],
   "source": [
    "articles.info()"
   ]
  },
  {
   "cell_type": "markdown",
   "metadata": {},
   "source": [
    "## Preprocessing"
   ]
  },
  {
   "cell_type": "code",
   "execution_count": 10,
   "metadata": {},
   "outputs": [
    {
     "name": "stdout",
     "output_type": "stream",
     "text": [
      "5597\n",
      "5596\n"
     ]
    }
   ],
   "source": [
    "print(len(articles))\n",
    "articles.drop_duplicates(subset=['Article Title', 'Abstract'], inplace=True)\n",
    "print(len(articles))"
   ]
  },
  {
   "cell_type": "code",
   "execution_count": 11,
   "metadata": {},
   "outputs": [
    {
     "data": {
      "text/html": [
       "<div>\n",
       "<style scoped>\n",
       "    .dataframe tbody tr th:only-of-type {\n",
       "        vertical-align: middle;\n",
       "    }\n",
       "\n",
       "    .dataframe tbody tr th {\n",
       "        vertical-align: top;\n",
       "    }\n",
       "\n",
       "    .dataframe thead th {\n",
       "        text-align: right;\n",
       "    }\n",
       "</style>\n",
       "<table border=\"1\" class=\"dataframe\">\n",
       "  <thead>\n",
       "    <tr style=\"text-align: right;\">\n",
       "      <th></th>\n",
       "      <th>Publication Type</th>\n",
       "      <th>Authors</th>\n",
       "      <th>Book Authors</th>\n",
       "      <th>Book Editors</th>\n",
       "      <th>Book Group Authors</th>\n",
       "      <th>Author Full Names</th>\n",
       "      <th>Book Author Full Names</th>\n",
       "      <th>Group Authors</th>\n",
       "      <th>Article Title</th>\n",
       "      <th>Source Title</th>\n",
       "      <th>Book Series Title</th>\n",
       "      <th>Book Series Subtitle</th>\n",
       "      <th>Language</th>\n",
       "      <th>Document Type</th>\n",
       "      <th>Conference Title</th>\n",
       "      <th>Conference Date</th>\n",
       "      <th>Conference Location</th>\n",
       "      <th>Conference Sponsor</th>\n",
       "      <th>Conference Host</th>\n",
       "      <th>Author Keywords</th>\n",
       "      <th>Keywords Plus</th>\n",
       "      <th>Abstract</th>\n",
       "      <th>Addresses</th>\n",
       "      <th>Affiliations</th>\n",
       "      <th>Reprint Addresses</th>\n",
       "      <th>Email Addresses</th>\n",
       "      <th>Researcher Ids</th>\n",
       "      <th>ORCIDs</th>\n",
       "      <th>Funding Orgs</th>\n",
       "      <th>Funding Name Preferred</th>\n",
       "      <th>Funding Text</th>\n",
       "      <th>Cited References</th>\n",
       "      <th>Cited Reference Count</th>\n",
       "      <th>Times Cited, WoS Core</th>\n",
       "      <th>Times Cited, All Databases</th>\n",
       "      <th>180 Day Usage Count</th>\n",
       "      <th>Since 2013 Usage Count</th>\n",
       "      <th>Publisher</th>\n",
       "      <th>Publisher City</th>\n",
       "      <th>Publisher Address</th>\n",
       "      <th>ISSN</th>\n",
       "      <th>eISSN</th>\n",
       "      <th>ISBN</th>\n",
       "      <th>Journal Abbreviation</th>\n",
       "      <th>Journal ISO Abbreviation</th>\n",
       "      <th>Publication Date</th>\n",
       "      <th>Publication Year</th>\n",
       "      <th>Volume</th>\n",
       "      <th>Issue</th>\n",
       "      <th>Part Number</th>\n",
       "      <th>Supplement</th>\n",
       "      <th>Special Issue</th>\n",
       "      <th>Meeting Abstract</th>\n",
       "      <th>Start Page</th>\n",
       "      <th>End Page</th>\n",
       "      <th>Article Number</th>\n",
       "      <th>DOI</th>\n",
       "      <th>DOI Link</th>\n",
       "      <th>Book DOI</th>\n",
       "      <th>Early Access Date</th>\n",
       "      <th>Number of Pages</th>\n",
       "      <th>WoS Categories</th>\n",
       "      <th>Web of Science Index</th>\n",
       "      <th>Research Areas</th>\n",
       "      <th>IDS Number</th>\n",
       "      <th>Pubmed Id</th>\n",
       "      <th>Open Access Designations</th>\n",
       "      <th>Highly Cited Status</th>\n",
       "      <th>Hot Paper Status</th>\n",
       "      <th>Date of Export</th>\n",
       "      <th>UT (Unique WOS ID)</th>\n",
       "      <th>Web of Science Record</th>\n",
       "    </tr>\n",
       "  </thead>\n",
       "  <tbody>\n",
       "    <tr>\n",
       "      <th>0</th>\n",
       "      <td>J</td>\n",
       "      <td>Shin, YJ; Lee, JK; Lu, Y; Hecht, ML</td>\n",
       "      <td>NaN</td>\n",
       "      <td>NaN</td>\n",
       "      <td>NaN</td>\n",
       "      <td>Shin, YoungJu; Lee, Jeong-Kyu; Lu, Yu; Hecht, Michael L.</td>\n",
       "      <td>NaN</td>\n",
       "      <td>NaN</td>\n",
       "      <td>Exploring Parental Influence on the Progression of Alcohol Use in Mexican-Heritage Youth: a Latent Transition Analysis</td>\n",
       "      <td>PREVENTION SCIENCE</td>\n",
       "      <td>NaN</td>\n",
       "      <td>NaN</td>\n",
       "      <td>English</td>\n",
       "      <td>Article</td>\n",
       "      <td>NaN</td>\n",
       "      <td>NaN</td>\n",
       "      <td>NaN</td>\n",
       "      <td>NaN</td>\n",
       "      <td>NaN</td>\n",
       "      <td>Youth substance use; Latent class analysis; Latent transition analysis; Targeted parent-child communication; Parental monitoring</td>\n",
       "      <td>SUBSTANCE USE; DRUG-USE; CHILD COMMUNICATION; FAMILY-STRUCTURE; SAS PROCEDURE; LATINO YOUTH; SELF-ESTEEM; ADOLESCENTS; RISK; MARIJUANA</td>\n",
       "      <td>Mexican-heritage youth are members of the fastest growing minority group and are at particular risk for substance use including alcohol consumption. Youth face numerous risk factors including positive descriptions of substance use on media and peer offers that are potentially ameliorated by parental anti-substance use socialization efforts. Guided by primary socialization theory and the theory of planned behavior, the present study posited eight research questions to identify discrete subgroups/patterns of Mexican-heritage youth alcohol use behavior and parental influence on youth outcomes. Longitudinal survey data (n = 1147) from youth in 29 public schools located in Phoenix, Arizona, were collected over 3 years. Latent class and transition analyses identified four discrete subgroups characterized by response patterns of alcohol use behaviors and perceptions in Mexican-heritage youth: (1) non-drinker, (2) potential drinker, (3) experimenter, and (4) regular drinker. Targeted parent-child communication about alcohol and parental monitoring were found to be significant predictors for youth alcohol use. Research implications and future directions are suggested.</td>\n",
       "      <td>[Shin, YoungJu] Indiana Univ Purdue Univ, Dept Commun Studies, 425 Univ Blvd,Cavanaugh Hall 309, Indianapolis, IN 46202 USA; [Lee, Jeong-Kyu] Univ Wollongong, Ctr Hlth Initiat, Wollongong, NSW, Australia; [Lu, Yu; Hecht, Michael L.] Penn State Univ, Dept Commun Arts &amp; Sci, University Pk, PA 16802 USA</td>\n",
       "      <td>Indiana University System; Indiana University-Purdue University Indianapolis; University of Wollongong; Pennsylvania Commonwealth System of Higher Education (PCSHE); Pennsylvania State University; Pennsylvania State University - University Park</td>\n",
       "      <td>Shin, YJ (corresponding author), Indiana Univ Purdue Univ, Dept Commun Studies, 425 Univ Blvd,Cavanaugh Hall 309, Indianapolis, IN 46202 USA.</td>\n",
       "      <td>younshin@iupui.edu; jklee@uow.edu.au; yxl235@psu.edu; mlh10@psu.edu</td>\n",
       "      <td>Lu, Yu/AGB-5690-2022; Shin, YoungJu/ABA-1000-2020; Lu, Yu/AAA-3190-2020</td>\n",
       "      <td>Lu, Yu/0000-0002-5128-6868; Shin, YoungJu/0000-0001-6751-8064</td>\n",
       "      <td>National Institute on Drug Abuse [R01DA005629]</td>\n",
       "      <td>National Institute on Drug Abuse(United States Department of Health &amp; Human ServicesNational Institutes of Health (NIH) - USANIH National Institute on Drug Abuse (NIDA))</td>\n",
       "      <td>This manuscript was supported by Grant Numbers R01DA005629 from the National Institute on Drug Abuse to The Pennsylvania State University (Grant Recipient), Michael Hecht, Principal Investigator. Its contents are solely the responsibility of the authors and do not necessarily represent the official views of the National Institutes of Health.</td>\n",
       "      <td>NaN</td>\n",
       "      <td>54</td>\n",
       "      <td>29</td>\n",
       "      <td>30</td>\n",
       "      <td>0</td>\n",
       "      <td>19</td>\n",
       "      <td>SPRINGER/PLENUM PUBLISHERS</td>\n",
       "      <td>NEW YORK</td>\n",
       "      <td>233 SPRING ST, NEW YORK, NY 10013 USA</td>\n",
       "      <td>1389-4986</td>\n",
       "      <td>1573-6695</td>\n",
       "      <td>NaN</td>\n",
       "      <td>PREV SCI</td>\n",
       "      <td>Prev. Sci.</td>\n",
       "      <td>FEB</td>\n",
       "      <td>2016</td>\n",
       "      <td>17.0</td>\n",
       "      <td>2</td>\n",
       "      <td>NaN</td>\n",
       "      <td>NaN</td>\n",
       "      <td>NaN</td>\n",
       "      <td>NaN</td>\n",
       "      <td>188</td>\n",
       "      <td>198</td>\n",
       "      <td>NaN</td>\n",
       "      <td>10.1007/s11121-015-0596-1</td>\n",
       "      <td>0.0</td>\n",
       "      <td>NaN</td>\n",
       "      <td>NaN</td>\n",
       "      <td>11</td>\n",
       "      <td>Public, Environmental &amp; Occupational Health</td>\n",
       "      <td>Social Science Citation Index (SSCI)</td>\n",
       "      <td>Public, Environmental &amp; Occupational Health</td>\n",
       "      <td>DB7KA</td>\n",
       "      <td>26300049.0</td>\n",
       "      <td>Green Accepted, Green Submitted</td>\n",
       "      <td>NaN</td>\n",
       "      <td>NaN</td>\n",
       "      <td>2024-05-02</td>\n",
       "      <td>WOS:000368692700005</td>\n",
       "      <td>0</td>\n",
       "    </tr>\n",
       "    <tr>\n",
       "      <th>1</th>\n",
       "      <td>J</td>\n",
       "      <td>Schwinn, TM; Schinke, SP</td>\n",
       "      <td>NaN</td>\n",
       "      <td>NaN</td>\n",
       "      <td>NaN</td>\n",
       "      <td>Schwinn, Traci M.; Schinke, Steven P.</td>\n",
       "      <td>NaN</td>\n",
       "      <td>NaN</td>\n",
       "      <td>Alcohol Use and Related Behaviors Among Late-Adolescent Urban Youths: Peer and Parent Influences</td>\n",
       "      <td>JOURNAL OF CHILD &amp; ADOLESCENT SUBSTANCE ABUSE</td>\n",
       "      <td>NaN</td>\n",
       "      <td>NaN</td>\n",
       "      <td>English</td>\n",
       "      <td>Article</td>\n",
       "      <td>NaN</td>\n",
       "      <td>NaN</td>\n",
       "      <td>NaN</td>\n",
       "      <td>NaN</td>\n",
       "      <td>NaN</td>\n",
       "      <td>alcohol; influences; parents; peers; youth</td>\n",
       "      <td>SUBSTANCE USE; DRUG-USE; TOBACCO; INVOLVEMENT; FAMILY; ABUSE</td>\n",
       "      <td>Peer and parent influences on alcohol use and related risky behaviors were examined in a sample of late-adolescent (M=17.3 years; SD=1.11 years) urban youths. Participants (N=400) completed an online measure assessing peer influences of alcohol use and alcohol offers and also parental influences of rules against alcohol use and perceived levels of emotional family support, relative to youths' alcohol use, binge drinking, alcohol-related consequences, and intentions to drink. Hierarchical regression analyses revealed that increased peer alcohol use and alcohol offers were associated with youths' increased drinking, binge drinking, alcohol-related consequences, and intentions to drink. Controlling for peer influences, parental rules against alcohol use were associated with decreased drinking, binge drinking, and intentions to drink; increased levels of family support were associated with decreased alcohol-related consequences and intentions to drink. These findings suggest that parental influences, albeit small relative to peer influences, are associated with fewer instances of monthly alcohol use and related risky behaviors among late-adolescent urban youths.</td>\n",
       "      <td>[Schwinn, Traci M.; Schinke, Steven P.] Columbia Univ, New York, NY 10027 USA</td>\n",
       "      <td>Columbia University</td>\n",
       "      <td>Schwinn, TM (corresponding author), Columbia Univ, Sch Social Work, 1255 Amsterdam Ave, New York, NY 10027 USA.</td>\n",
       "      <td>tms40@columbia.edu</td>\n",
       "      <td>NaN</td>\n",
       "      <td>NaN</td>\n",
       "      <td>NIAAA NIH HHS [R01 AA011924] Funding Source: Medline</td>\n",
       "      <td>NIAAA NIH HHS(United States Department of Health &amp; Human ServicesNational Institutes of Health (NIH) - USANIH National Institute on Alcohol Abuse &amp; Alcoholism (NIAAA))</td>\n",
       "      <td>NaN</td>\n",
       "      <td>NaN</td>\n",
       "      <td>32</td>\n",
       "      <td>23</td>\n",
       "      <td>38</td>\n",
       "      <td>3</td>\n",
       "      <td>48</td>\n",
       "      <td>ROUTLEDGE JOURNALS, TAYLOR &amp; FRANCIS LTD</td>\n",
       "      <td>ABINGDON</td>\n",
       "      <td>2-4 PARK SQUARE, MILTON PARK, ABINGDON OX14 4RN, OXON, ENGLAND</td>\n",
       "      <td>1067-828X</td>\n",
       "      <td>1547-0652</td>\n",
       "      <td>NaN</td>\n",
       "      <td>J CHILD ADOLES SUBST</td>\n",
       "      <td>J. Child Adolesc. Subst. Abus.</td>\n",
       "      <td>JAN 1</td>\n",
       "      <td>2014</td>\n",
       "      <td>23.0</td>\n",
       "      <td>1</td>\n",
       "      <td>NaN</td>\n",
       "      <td>NaN</td>\n",
       "      <td>NaN</td>\n",
       "      <td>NaN</td>\n",
       "      <td>58</td>\n",
       "      <td>64</td>\n",
       "      <td>NaN</td>\n",
       "      <td>10.1080/1067828X.2012.735561</td>\n",
       "      <td>0.0</td>\n",
       "      <td>NaN</td>\n",
       "      <td>NaN</td>\n",
       "      <td>7</td>\n",
       "      <td>Substance Abuse</td>\n",
       "      <td>Social Science Citation Index (SSCI)</td>\n",
       "      <td>Substance Abuse</td>\n",
       "      <td>242FC</td>\n",
       "      <td>25246757.0</td>\n",
       "      <td>Green Accepted</td>\n",
       "      <td>NaN</td>\n",
       "      <td>NaN</td>\n",
       "      <td>2024-05-02</td>\n",
       "      <td>WOS:000326222300006</td>\n",
       "      <td>0</td>\n",
       "    </tr>\n",
       "  </tbody>\n",
       "</table>\n",
       "</div>"
      ],
      "text/plain": [
       "  Publication Type                              Authors  Book Authors  \\\n",
       "0  J                Shin, YJ; Lee, JK; Lu, Y; Hecht, ML NaN             \n",
       "1  J                Schwinn, TM; Schinke, SP            NaN             \n",
       "\n",
       "  Book Editors  Book Group Authors  \\\n",
       "0  NaN         NaN                   \n",
       "1  NaN         NaN                   \n",
       "\n",
       "                                          Author Full Names  \\\n",
       "0  Shin, YoungJu; Lee, Jeong-Kyu; Lu, Yu; Hecht, Michael L.   \n",
       "1  Schwinn, Traci M.; Schinke, Steven P.                      \n",
       "\n",
       "   Book Author Full Names Group Authors  \\\n",
       "0 NaN                      NaN            \n",
       "1 NaN                      NaN            \n",
       "\n",
       "                                                                                                            Article Title  \\\n",
       "0  Exploring Parental Influence on the Progression of Alcohol Use in Mexican-Heritage Youth: a Latent Transition Analysis   \n",
       "1  Alcohol Use and Related Behaviors Among Late-Adolescent Urban Youths: Peer and Parent Influences                         \n",
       "\n",
       "                                    Source Title Book Series Title  \\\n",
       "0  PREVENTION SCIENCE                             NaN                \n",
       "1  JOURNAL OF CHILD & ADOLESCENT SUBSTANCE ABUSE  NaN                \n",
       "\n",
       "   Book Series Subtitle Language Document Type Conference Title  \\\n",
       "0 NaN                    English  Article       NaN               \n",
       "1 NaN                    English  Article       NaN               \n",
       "\n",
       "  Conference Date Conference Location Conference Sponsor Conference Host  \\\n",
       "0  NaN             NaN                 NaN                NaN              \n",
       "1  NaN             NaN                 NaN                NaN              \n",
       "\n",
       "                                                                                                                    Author Keywords  \\\n",
       "0  Youth substance use; Latent class analysis; Latent transition analysis; Targeted parent-child communication; Parental monitoring   \n",
       "1  alcohol; influences; parents; peers; youth                                                                                         \n",
       "\n",
       "                                                                                                                            Keywords Plus  \\\n",
       "0  SUBSTANCE USE; DRUG-USE; CHILD COMMUNICATION; FAMILY-STRUCTURE; SAS PROCEDURE; LATINO YOUTH; SELF-ESTEEM; ADOLESCENTS; RISK; MARIJUANA   \n",
       "1  SUBSTANCE USE; DRUG-USE; TOBACCO; INVOLVEMENT; FAMILY; ABUSE                                                                             \n",
       "\n",
       "                                                                                                                                                                                                                                                                                                                                                                                                                                                                                                                                                                                                                                                                                                                                                                                                                                                                                                                                                                                                                                                                                                                                                                                                                    Abstract  \\\n",
       "0  Mexican-heritage youth are members of the fastest growing minority group and are at particular risk for substance use including alcohol consumption. Youth face numerous risk factors including positive descriptions of substance use on media and peer offers that are potentially ameliorated by parental anti-substance use socialization efforts. Guided by primary socialization theory and the theory of planned behavior, the present study posited eight research questions to identify discrete subgroups/patterns of Mexican-heritage youth alcohol use behavior and parental influence on youth outcomes. Longitudinal survey data (n = 1147) from youth in 29 public schools located in Phoenix, Arizona, were collected over 3 years. Latent class and transition analyses identified four discrete subgroups characterized by response patterns of alcohol use behaviors and perceptions in Mexican-heritage youth: (1) non-drinker, (2) potential drinker, (3) experimenter, and (4) regular drinker. Targeted parent-child communication about alcohol and parental monitoring were found to be significant predictors for youth alcohol use. Research implications and future directions are suggested.   \n",
       "1  Peer and parent influences on alcohol use and related risky behaviors were examined in a sample of late-adolescent (M=17.3 years; SD=1.11 years) urban youths. Participants (N=400) completed an online measure assessing peer influences of alcohol use and alcohol offers and also parental influences of rules against alcohol use and perceived levels of emotional family support, relative to youths' alcohol use, binge drinking, alcohol-related consequences, and intentions to drink. Hierarchical regression analyses revealed that increased peer alcohol use and alcohol offers were associated with youths' increased drinking, binge drinking, alcohol-related consequences, and intentions to drink. Controlling for peer influences, parental rules against alcohol use were associated with decreased drinking, binge drinking, and intentions to drink; increased levels of family support were associated with decreased alcohol-related consequences and intentions to drink. These findings suggest that parental influences, albeit small relative to peer influences, are associated with fewer instances of monthly alcohol use and related risky behaviors among late-adolescent urban youths.    \n",
       "\n",
       "                                                                                                                                                                                                                                                                                                       Addresses  \\\n",
       "0  [Shin, YoungJu] Indiana Univ Purdue Univ, Dept Commun Studies, 425 Univ Blvd,Cavanaugh Hall 309, Indianapolis, IN 46202 USA; [Lee, Jeong-Kyu] Univ Wollongong, Ctr Hlth Initiat, Wollongong, NSW, Australia; [Lu, Yu; Hecht, Michael L.] Penn State Univ, Dept Commun Arts & Sci, University Pk, PA 16802 USA   \n",
       "1  [Schwinn, Traci M.; Schinke, Steven P.] Columbia Univ, New York, NY 10027 USA                                                                                                                                                                                                                                   \n",
       "\n",
       "                                                                                                                                                                                                                                           Affiliations  \\\n",
       "0  Indiana University System; Indiana University-Purdue University Indianapolis; University of Wollongong; Pennsylvania Commonwealth System of Higher Education (PCSHE); Pennsylvania State University; Pennsylvania State University - University Park   \n",
       "1  Columbia University                                                                                                                                                                                                                                    \n",
       "\n",
       "                                                                                                                               Reprint Addresses  \\\n",
       "0  Shin, YJ (corresponding author), Indiana Univ Purdue Univ, Dept Commun Studies, 425 Univ Blvd,Cavanaugh Hall 309, Indianapolis, IN 46202 USA.   \n",
       "1  Schwinn, TM (corresponding author), Columbia Univ, Sch Social Work, 1255 Amsterdam Ave, New York, NY 10027 USA.                                 \n",
       "\n",
       "                                                       Email Addresses  \\\n",
       "0  younshin@iupui.edu; jklee@uow.edu.au; yxl235@psu.edu; mlh10@psu.edu   \n",
       "1  tms40@columbia.edu                                                    \n",
       "\n",
       "                                                            Researcher Ids  \\\n",
       "0  Lu, Yu/AGB-5690-2022; Shin, YoungJu/ABA-1000-2020; Lu, Yu/AAA-3190-2020   \n",
       "1  NaN                                                                       \n",
       "\n",
       "                                                          ORCIDs  \\\n",
       "0  Lu, Yu/0000-0002-5128-6868; Shin, YoungJu/0000-0001-6751-8064   \n",
       "1  NaN                                                             \n",
       "\n",
       "                                           Funding Orgs  \\\n",
       "0  National Institute on Drug Abuse [R01DA005629]         \n",
       "1  NIAAA NIH HHS [R01 AA011924] Funding Source: Medline   \n",
       "\n",
       "                                                                                                                                                      Funding Name Preferred  \\\n",
       "0  National Institute on Drug Abuse(United States Department of Health & Human ServicesNational Institutes of Health (NIH) - USANIH National Institute on Drug Abuse (NIDA))   \n",
       "1  NIAAA NIH HHS(United States Department of Health & Human ServicesNational Institutes of Health (NIH) - USANIH National Institute on Alcohol Abuse & Alcoholism (NIAAA))     \n",
       "\n",
       "                                                                                                                                                                                                                                                                                                                                              Funding Text  \\\n",
       "0  This manuscript was supported by Grant Numbers R01DA005629 from the National Institute on Drug Abuse to The Pennsylvania State University (Grant Recipient), Michael Hecht, Principal Investigator. Its contents are solely the responsibility of the authors and do not necessarily represent the official views of the National Institutes of Health.   \n",
       "1  NaN                                                                                                                                                                                                                                                                                                                                                       \n",
       "\n",
       "   Cited References  Cited Reference Count  Times Cited, WoS Core  \\\n",
       "0 NaN                54                     29                      \n",
       "1 NaN                32                     23                      \n",
       "\n",
       "   Times Cited, All Databases  180 Day Usage Count  Since 2013 Usage Count  \\\n",
       "0  30                          0                    19                       \n",
       "1  38                          3                    48                       \n",
       "\n",
       "                                  Publisher Publisher City  \\\n",
       "0  SPRINGER/PLENUM PUBLISHERS                NEW YORK        \n",
       "1  ROUTLEDGE JOURNALS, TAYLOR & FRANCIS LTD  ABINGDON        \n",
       "\n",
       "                                                Publisher Address       ISSN  \\\n",
       "0  233 SPRING ST, NEW YORK, NY 10013 USA                           1389-4986   \n",
       "1  2-4 PARK SQUARE, MILTON PARK, ABINGDON OX14 4RN, OXON, ENGLAND  1067-828X   \n",
       "\n",
       "       eISSN ISBN  Journal Abbreviation        Journal ISO Abbreviation  \\\n",
       "0  1573-6695  NaN  PREV SCI              Prev. Sci.                       \n",
       "1  1547-0652  NaN  J CHILD ADOLES SUBST  J. Child Adolesc. Subst. Abus.   \n",
       "\n",
       "  Publication Date  Publication Year Volume Issue Part Number Supplement  \\\n",
       "0  FEB              2016              17.0   2     NaN         NaN         \n",
       "1  JAN 1            2014              23.0   1     NaN         NaN         \n",
       "\n",
       "  Special Issue  Meeting Abstract Start Page End Page Article Number  \\\n",
       "0  NaN          NaN                188        198      NaN             \n",
       "1  NaN          NaN                58         64       NaN             \n",
       "\n",
       "                            DOI  DOI Link  Book DOI Early Access Date  \\\n",
       "0  10.1007/s11121-015-0596-1     0.0      NaN        NaN                \n",
       "1  10.1080/1067828X.2012.735561  0.0      NaN        NaN                \n",
       "\n",
       "   Number of Pages                               WoS Categories  \\\n",
       "0  11               Public, Environmental & Occupational Health   \n",
       "1  7                Substance Abuse                               \n",
       "\n",
       "                   Web of Science Index  \\\n",
       "0  Social Science Citation Index (SSCI)   \n",
       "1  Social Science Citation Index (SSCI)   \n",
       "\n",
       "                                Research Areas IDS Number   Pubmed Id  \\\n",
       "0  Public, Environmental & Occupational Health  DB7KA      26300049.0   \n",
       "1  Substance Abuse                              242FC      25246757.0   \n",
       "\n",
       "          Open Access Designations  Highly Cited Status  Hot Paper Status  \\\n",
       "0  Green Accepted, Green Submitted NaN                  NaN                 \n",
       "1  Green Accepted                  NaN                  NaN                 \n",
       "\n",
       "  Date of Export   UT (Unique WOS ID)  Web of Science Record  \n",
       "0  2024-05-02     WOS:000368692700005  0                      \n",
       "1  2024-05-02     WOS:000326222300006  0                      "
      ]
     },
     "execution_count": 11,
     "metadata": {},
     "output_type": "execute_result"
    }
   ],
   "source": [
    "art = articles\n",
    "art.head(2)"
   ]
  },
  {
   "cell_type": "code",
   "execution_count": 13,
   "metadata": {},
   "outputs": [
    {
     "data": {
      "text/html": [
       "<div>\n",
       "<style scoped>\n",
       "    .dataframe tbody tr th:only-of-type {\n",
       "        vertical-align: middle;\n",
       "    }\n",
       "\n",
       "    .dataframe tbody tr th {\n",
       "        vertical-align: top;\n",
       "    }\n",
       "\n",
       "    .dataframe thead th {\n",
       "        text-align: right;\n",
       "    }\n",
       "</style>\n",
       "<table border=\"1\" class=\"dataframe\">\n",
       "  <thead>\n",
       "    <tr style=\"text-align: right;\">\n",
       "      <th></th>\n",
       "      <th>Publication Type</th>\n",
       "      <th>Authors</th>\n",
       "      <th>Book Authors</th>\n",
       "      <th>Book Editors</th>\n",
       "      <th>Book Group Authors</th>\n",
       "      <th>Author Full Names</th>\n",
       "      <th>Book Author Full Names</th>\n",
       "      <th>Group Authors</th>\n",
       "      <th>Article Title</th>\n",
       "      <th>Source Title</th>\n",
       "      <th>Book Series Title</th>\n",
       "      <th>Book Series Subtitle</th>\n",
       "      <th>Language</th>\n",
       "      <th>Document Type</th>\n",
       "      <th>Conference Title</th>\n",
       "      <th>Conference Date</th>\n",
       "      <th>Conference Location</th>\n",
       "      <th>Conference Sponsor</th>\n",
       "      <th>Conference Host</th>\n",
       "      <th>Author Keywords</th>\n",
       "      <th>Keywords Plus</th>\n",
       "      <th>Abstract</th>\n",
       "      <th>Addresses</th>\n",
       "      <th>Affiliations</th>\n",
       "      <th>Reprint Addresses</th>\n",
       "      <th>Email Addresses</th>\n",
       "      <th>Researcher Ids</th>\n",
       "      <th>ORCIDs</th>\n",
       "      <th>Funding Orgs</th>\n",
       "      <th>Funding Name Preferred</th>\n",
       "      <th>Funding Text</th>\n",
       "      <th>Cited References</th>\n",
       "      <th>Cited Reference Count</th>\n",
       "      <th>Times Cited, WoS Core</th>\n",
       "      <th>Times Cited, All Databases</th>\n",
       "      <th>180 Day Usage Count</th>\n",
       "      <th>Since 2013 Usage Count</th>\n",
       "      <th>Publisher</th>\n",
       "      <th>Publisher City</th>\n",
       "      <th>Publisher Address</th>\n",
       "      <th>ISSN</th>\n",
       "      <th>eISSN</th>\n",
       "      <th>ISBN</th>\n",
       "      <th>Journal Abbreviation</th>\n",
       "      <th>Journal ISO Abbreviation</th>\n",
       "      <th>Publication Date</th>\n",
       "      <th>Publication Year</th>\n",
       "      <th>Volume</th>\n",
       "      <th>Issue</th>\n",
       "      <th>Part Number</th>\n",
       "      <th>Supplement</th>\n",
       "      <th>Special Issue</th>\n",
       "      <th>Meeting Abstract</th>\n",
       "      <th>Start Page</th>\n",
       "      <th>End Page</th>\n",
       "      <th>Article Number</th>\n",
       "      <th>DOI</th>\n",
       "      <th>DOI Link</th>\n",
       "      <th>Book DOI</th>\n",
       "      <th>Early Access Date</th>\n",
       "      <th>Number of Pages</th>\n",
       "      <th>WoS Categories</th>\n",
       "      <th>Web of Science Index</th>\n",
       "      <th>Research Areas</th>\n",
       "      <th>IDS Number</th>\n",
       "      <th>Pubmed Id</th>\n",
       "      <th>Open Access Designations</th>\n",
       "      <th>Highly Cited Status</th>\n",
       "      <th>Hot Paper Status</th>\n",
       "      <th>Date of Export</th>\n",
       "      <th>UT (Unique WOS ID)</th>\n",
       "      <th>Web of Science Record</th>\n",
       "      <th>text</th>\n",
       "    </tr>\n",
       "  </thead>\n",
       "  <tbody>\n",
       "    <tr>\n",
       "      <th>0</th>\n",
       "      <td>J</td>\n",
       "      <td>Shin, YJ; Lee, JK; Lu, Y; Hecht, ML</td>\n",
       "      <td>NaN</td>\n",
       "      <td>NaN</td>\n",
       "      <td>NaN</td>\n",
       "      <td>Shin, YoungJu; Lee, Jeong-Kyu; Lu, Yu; Hecht, Michael L.</td>\n",
       "      <td>NaN</td>\n",
       "      <td>NaN</td>\n",
       "      <td>Exploring Parental Influence on the Progression of Alcohol Use in Mexican-Heritage Youth: a Latent Transition Analysis</td>\n",
       "      <td>PREVENTION SCIENCE</td>\n",
       "      <td>NaN</td>\n",
       "      <td>NaN</td>\n",
       "      <td>English</td>\n",
       "      <td>Article</td>\n",
       "      <td>NaN</td>\n",
       "      <td>NaN</td>\n",
       "      <td>NaN</td>\n",
       "      <td>NaN</td>\n",
       "      <td>NaN</td>\n",
       "      <td>Youth substance use; Latent class analysis; Latent transition analysis; Targeted parent-child communication; Parental monitoring</td>\n",
       "      <td>SUBSTANCE USE; DRUG-USE; CHILD COMMUNICATION; FAMILY-STRUCTURE; SAS PROCEDURE; LATINO YOUTH; SELF-ESTEEM; ADOLESCENTS; RISK; MARIJUANA</td>\n",
       "      <td>Mexican-heritage youth are members of the fastest growing minority group and are at particular risk for substance use including alcohol consumption. Youth face numerous risk factors including positive descriptions of substance use on media and peer offers that are potentially ameliorated by parental anti-substance use socialization efforts. Guided by primary socialization theory and the theory of planned behavior, the present study posited eight research questions to identify discrete subgroups/patterns of Mexican-heritage youth alcohol use behavior and parental influence on youth outcomes. Longitudinal survey data (n = 1147) from youth in 29 public schools located in Phoenix, Arizona, were collected over 3 years. Latent class and transition analyses identified four discrete subgroups characterized by response patterns of alcohol use behaviors and perceptions in Mexican-heritage youth: (1) non-drinker, (2) potential drinker, (3) experimenter, and (4) regular drinker. Targeted parent-child communication about alcohol and parental monitoring were found to be significant predictors for youth alcohol use. Research implications and future directions are suggested.</td>\n",
       "      <td>[Shin, YoungJu] Indiana Univ Purdue Univ, Dept Commun Studies, 425 Univ Blvd,Cavanaugh Hall 309, Indianapolis, IN 46202 USA; [Lee, Jeong-Kyu] Univ Wollongong, Ctr Hlth Initiat, Wollongong, NSW, Australia; [Lu, Yu; Hecht, Michael L.] Penn State Univ, Dept Commun Arts &amp; Sci, University Pk, PA 16802 USA</td>\n",
       "      <td>Indiana University System; Indiana University-Purdue University Indianapolis; University of Wollongong; Pennsylvania Commonwealth System of Higher Education (PCSHE); Pennsylvania State University; Pennsylvania State University - University Park</td>\n",
       "      <td>Shin, YJ (corresponding author), Indiana Univ Purdue Univ, Dept Commun Studies, 425 Univ Blvd,Cavanaugh Hall 309, Indianapolis, IN 46202 USA.</td>\n",
       "      <td>younshin@iupui.edu; jklee@uow.edu.au; yxl235@psu.edu; mlh10@psu.edu</td>\n",
       "      <td>Lu, Yu/AGB-5690-2022; Shin, YoungJu/ABA-1000-2020; Lu, Yu/AAA-3190-2020</td>\n",
       "      <td>Lu, Yu/0000-0002-5128-6868; Shin, YoungJu/0000-0001-6751-8064</td>\n",
       "      <td>National Institute on Drug Abuse [R01DA005629]</td>\n",
       "      <td>National Institute on Drug Abuse(United States Department of Health &amp; Human ServicesNational Institutes of Health (NIH) - USANIH National Institute on Drug Abuse (NIDA))</td>\n",
       "      <td>This manuscript was supported by Grant Numbers R01DA005629 from the National Institute on Drug Abuse to The Pennsylvania State University (Grant Recipient), Michael Hecht, Principal Investigator. Its contents are solely the responsibility of the authors and do not necessarily represent the official views of the National Institutes of Health.</td>\n",
       "      <td>NaN</td>\n",
       "      <td>54</td>\n",
       "      <td>29</td>\n",
       "      <td>30</td>\n",
       "      <td>0</td>\n",
       "      <td>19</td>\n",
       "      <td>SPRINGER/PLENUM PUBLISHERS</td>\n",
       "      <td>NEW YORK</td>\n",
       "      <td>233 SPRING ST, NEW YORK, NY 10013 USA</td>\n",
       "      <td>1389-4986</td>\n",
       "      <td>1573-6695</td>\n",
       "      <td>NaN</td>\n",
       "      <td>PREV SCI</td>\n",
       "      <td>Prev. Sci.</td>\n",
       "      <td>FEB</td>\n",
       "      <td>2016</td>\n",
       "      <td>17.0</td>\n",
       "      <td>2</td>\n",
       "      <td>NaN</td>\n",
       "      <td>NaN</td>\n",
       "      <td>NaN</td>\n",
       "      <td>NaN</td>\n",
       "      <td>188</td>\n",
       "      <td>198</td>\n",
       "      <td>NaN</td>\n",
       "      <td>10.1007/s11121-015-0596-1</td>\n",
       "      <td>0.0</td>\n",
       "      <td>NaN</td>\n",
       "      <td>NaN</td>\n",
       "      <td>11</td>\n",
       "      <td>Public, Environmental &amp; Occupational Health</td>\n",
       "      <td>Social Science Citation Index (SSCI)</td>\n",
       "      <td>Public, Environmental &amp; Occupational Health</td>\n",
       "      <td>DB7KA</td>\n",
       "      <td>26300049.0</td>\n",
       "      <td>Green Accepted, Green Submitted</td>\n",
       "      <td>NaN</td>\n",
       "      <td>NaN</td>\n",
       "      <td>2024-05-02</td>\n",
       "      <td>WOS:000368692700005</td>\n",
       "      <td>0</td>\n",
       "      <td>Exploring Parental Influence on the Progression of Alcohol Use in Mexican-Heritage Youth: a Latent Transition Analysis Mexican-heritage youth are members of the fastest growing minority group and are at particular risk for substance use including alcohol consumption. Youth face numerous risk factors including positive descriptions of substance use on media and peer offers that are potentially ameliorated by parental anti-substance use socialization efforts. Guided by primary socialization theory and the theory of planned behavior, the present study posited eight research questions to identify discrete subgroups/patterns of Mexican-heritage youth alcohol use behavior and parental influence on youth outcomes. Longitudinal survey data (n = 1147) from youth in 29 public schools located in Phoenix, Arizona, were collected over 3 years. Latent class and transition analyses identified four discrete subgroups characterized by response patterns of alcohol use behaviors and perceptions in Mexican-heritage youth: (1) non-drinker, (2) potential drinker, (3) experimenter, and (4) regular drinker. Targeted parent-child communication about alcohol and parental monitoring were found to be significant predictors for youth alcohol use. Research implications and future directions are suggested.</td>\n",
       "    </tr>\n",
       "    <tr>\n",
       "      <th>1</th>\n",
       "      <td>J</td>\n",
       "      <td>Schwinn, TM; Schinke, SP</td>\n",
       "      <td>NaN</td>\n",
       "      <td>NaN</td>\n",
       "      <td>NaN</td>\n",
       "      <td>Schwinn, Traci M.; Schinke, Steven P.</td>\n",
       "      <td>NaN</td>\n",
       "      <td>NaN</td>\n",
       "      <td>Alcohol Use and Related Behaviors Among Late-Adolescent Urban Youths: Peer and Parent Influences</td>\n",
       "      <td>JOURNAL OF CHILD &amp; ADOLESCENT SUBSTANCE ABUSE</td>\n",
       "      <td>NaN</td>\n",
       "      <td>NaN</td>\n",
       "      <td>English</td>\n",
       "      <td>Article</td>\n",
       "      <td>NaN</td>\n",
       "      <td>NaN</td>\n",
       "      <td>NaN</td>\n",
       "      <td>NaN</td>\n",
       "      <td>NaN</td>\n",
       "      <td>alcohol; influences; parents; peers; youth</td>\n",
       "      <td>SUBSTANCE USE; DRUG-USE; TOBACCO; INVOLVEMENT; FAMILY; ABUSE</td>\n",
       "      <td>Peer and parent influences on alcohol use and related risky behaviors were examined in a sample of late-adolescent (M=17.3 years; SD=1.11 years) urban youths. Participants (N=400) completed an online measure assessing peer influences of alcohol use and alcohol offers and also parental influences of rules against alcohol use and perceived levels of emotional family support, relative to youths' alcohol use, binge drinking, alcohol-related consequences, and intentions to drink. Hierarchical regression analyses revealed that increased peer alcohol use and alcohol offers were associated with youths' increased drinking, binge drinking, alcohol-related consequences, and intentions to drink. Controlling for peer influences, parental rules against alcohol use were associated with decreased drinking, binge drinking, and intentions to drink; increased levels of family support were associated with decreased alcohol-related consequences and intentions to drink. These findings suggest that parental influences, albeit small relative to peer influences, are associated with fewer instances of monthly alcohol use and related risky behaviors among late-adolescent urban youths.</td>\n",
       "      <td>[Schwinn, Traci M.; Schinke, Steven P.] Columbia Univ, New York, NY 10027 USA</td>\n",
       "      <td>Columbia University</td>\n",
       "      <td>Schwinn, TM (corresponding author), Columbia Univ, Sch Social Work, 1255 Amsterdam Ave, New York, NY 10027 USA.</td>\n",
       "      <td>tms40@columbia.edu</td>\n",
       "      <td>NaN</td>\n",
       "      <td>NaN</td>\n",
       "      <td>NIAAA NIH HHS [R01 AA011924] Funding Source: Medline</td>\n",
       "      <td>NIAAA NIH HHS(United States Department of Health &amp; Human ServicesNational Institutes of Health (NIH) - USANIH National Institute on Alcohol Abuse &amp; Alcoholism (NIAAA))</td>\n",
       "      <td>NaN</td>\n",
       "      <td>NaN</td>\n",
       "      <td>32</td>\n",
       "      <td>23</td>\n",
       "      <td>38</td>\n",
       "      <td>3</td>\n",
       "      <td>48</td>\n",
       "      <td>ROUTLEDGE JOURNALS, TAYLOR &amp; FRANCIS LTD</td>\n",
       "      <td>ABINGDON</td>\n",
       "      <td>2-4 PARK SQUARE, MILTON PARK, ABINGDON OX14 4RN, OXON, ENGLAND</td>\n",
       "      <td>1067-828X</td>\n",
       "      <td>1547-0652</td>\n",
       "      <td>NaN</td>\n",
       "      <td>J CHILD ADOLES SUBST</td>\n",
       "      <td>J. Child Adolesc. Subst. Abus.</td>\n",
       "      <td>JAN 1</td>\n",
       "      <td>2014</td>\n",
       "      <td>23.0</td>\n",
       "      <td>1</td>\n",
       "      <td>NaN</td>\n",
       "      <td>NaN</td>\n",
       "      <td>NaN</td>\n",
       "      <td>NaN</td>\n",
       "      <td>58</td>\n",
       "      <td>64</td>\n",
       "      <td>NaN</td>\n",
       "      <td>10.1080/1067828X.2012.735561</td>\n",
       "      <td>0.0</td>\n",
       "      <td>NaN</td>\n",
       "      <td>NaN</td>\n",
       "      <td>7</td>\n",
       "      <td>Substance Abuse</td>\n",
       "      <td>Social Science Citation Index (SSCI)</td>\n",
       "      <td>Substance Abuse</td>\n",
       "      <td>242FC</td>\n",
       "      <td>25246757.0</td>\n",
       "      <td>Green Accepted</td>\n",
       "      <td>NaN</td>\n",
       "      <td>NaN</td>\n",
       "      <td>2024-05-02</td>\n",
       "      <td>WOS:000326222300006</td>\n",
       "      <td>0</td>\n",
       "      <td>Alcohol Use and Related Behaviors Among Late-Adolescent Urban Youths: Peer and Parent Influences Peer and parent influences on alcohol use and related risky behaviors were examined in a sample of late-adolescent (M=17.3 years; SD=1.11 years) urban youths. Participants (N=400) completed an online measure assessing peer influences of alcohol use and alcohol offers and also parental influences of rules against alcohol use and perceived levels of emotional family support, relative to youths' alcohol use, binge drinking, alcohol-related consequences, and intentions to drink. Hierarchical regression analyses revealed that increased peer alcohol use and alcohol offers were associated with youths' increased drinking, binge drinking, alcohol-related consequences, and intentions to drink. Controlling for peer influences, parental rules against alcohol use were associated with decreased drinking, binge drinking, and intentions to drink; increased levels of family support were associated with decreased alcohol-related consequences and intentions to drink. These findings suggest that parental influences, albeit small relative to peer influences, are associated with fewer instances of monthly alcohol use and related risky behaviors among late-adolescent urban youths.</td>\n",
       "    </tr>\n",
       "  </tbody>\n",
       "</table>\n",
       "</div>"
      ],
      "text/plain": [
       "  Publication Type                              Authors  Book Authors  \\\n",
       "0  J                Shin, YJ; Lee, JK; Lu, Y; Hecht, ML NaN             \n",
       "1  J                Schwinn, TM; Schinke, SP            NaN             \n",
       "\n",
       "  Book Editors  Book Group Authors  \\\n",
       "0  NaN         NaN                   \n",
       "1  NaN         NaN                   \n",
       "\n",
       "                                          Author Full Names  \\\n",
       "0  Shin, YoungJu; Lee, Jeong-Kyu; Lu, Yu; Hecht, Michael L.   \n",
       "1  Schwinn, Traci M.; Schinke, Steven P.                      \n",
       "\n",
       "   Book Author Full Names Group Authors  \\\n",
       "0 NaN                      NaN            \n",
       "1 NaN                      NaN            \n",
       "\n",
       "                                                                                                            Article Title  \\\n",
       "0  Exploring Parental Influence on the Progression of Alcohol Use in Mexican-Heritage Youth: a Latent Transition Analysis   \n",
       "1  Alcohol Use and Related Behaviors Among Late-Adolescent Urban Youths: Peer and Parent Influences                         \n",
       "\n",
       "                                    Source Title Book Series Title  \\\n",
       "0  PREVENTION SCIENCE                             NaN                \n",
       "1  JOURNAL OF CHILD & ADOLESCENT SUBSTANCE ABUSE  NaN                \n",
       "\n",
       "   Book Series Subtitle Language Document Type Conference Title  \\\n",
       "0 NaN                    English  Article       NaN               \n",
       "1 NaN                    English  Article       NaN               \n",
       "\n",
       "  Conference Date Conference Location Conference Sponsor Conference Host  \\\n",
       "0  NaN             NaN                 NaN                NaN              \n",
       "1  NaN             NaN                 NaN                NaN              \n",
       "\n",
       "                                                                                                                    Author Keywords  \\\n",
       "0  Youth substance use; Latent class analysis; Latent transition analysis; Targeted parent-child communication; Parental monitoring   \n",
       "1  alcohol; influences; parents; peers; youth                                                                                         \n",
       "\n",
       "                                                                                                                            Keywords Plus  \\\n",
       "0  SUBSTANCE USE; DRUG-USE; CHILD COMMUNICATION; FAMILY-STRUCTURE; SAS PROCEDURE; LATINO YOUTH; SELF-ESTEEM; ADOLESCENTS; RISK; MARIJUANA   \n",
       "1  SUBSTANCE USE; DRUG-USE; TOBACCO; INVOLVEMENT; FAMILY; ABUSE                                                                             \n",
       "\n",
       "                                                                                                                                                                                                                                                                                                                                                                                                                                                                                                                                                                                                                                                                                                                                                                                                                                                                                                                                                                                                                                                                                                                                                                                                                    Abstract  \\\n",
       "0  Mexican-heritage youth are members of the fastest growing minority group and are at particular risk for substance use including alcohol consumption. Youth face numerous risk factors including positive descriptions of substance use on media and peer offers that are potentially ameliorated by parental anti-substance use socialization efforts. Guided by primary socialization theory and the theory of planned behavior, the present study posited eight research questions to identify discrete subgroups/patterns of Mexican-heritage youth alcohol use behavior and parental influence on youth outcomes. Longitudinal survey data (n = 1147) from youth in 29 public schools located in Phoenix, Arizona, were collected over 3 years. Latent class and transition analyses identified four discrete subgroups characterized by response patterns of alcohol use behaviors and perceptions in Mexican-heritage youth: (1) non-drinker, (2) potential drinker, (3) experimenter, and (4) regular drinker. Targeted parent-child communication about alcohol and parental monitoring were found to be significant predictors for youth alcohol use. Research implications and future directions are suggested.   \n",
       "1  Peer and parent influences on alcohol use and related risky behaviors were examined in a sample of late-adolescent (M=17.3 years; SD=1.11 years) urban youths. Participants (N=400) completed an online measure assessing peer influences of alcohol use and alcohol offers and also parental influences of rules against alcohol use and perceived levels of emotional family support, relative to youths' alcohol use, binge drinking, alcohol-related consequences, and intentions to drink. Hierarchical regression analyses revealed that increased peer alcohol use and alcohol offers were associated with youths' increased drinking, binge drinking, alcohol-related consequences, and intentions to drink. Controlling for peer influences, parental rules against alcohol use were associated with decreased drinking, binge drinking, and intentions to drink; increased levels of family support were associated with decreased alcohol-related consequences and intentions to drink. These findings suggest that parental influences, albeit small relative to peer influences, are associated with fewer instances of monthly alcohol use and related risky behaviors among late-adolescent urban youths.    \n",
       "\n",
       "                                                                                                                                                                                                                                                                                                       Addresses  \\\n",
       "0  [Shin, YoungJu] Indiana Univ Purdue Univ, Dept Commun Studies, 425 Univ Blvd,Cavanaugh Hall 309, Indianapolis, IN 46202 USA; [Lee, Jeong-Kyu] Univ Wollongong, Ctr Hlth Initiat, Wollongong, NSW, Australia; [Lu, Yu; Hecht, Michael L.] Penn State Univ, Dept Commun Arts & Sci, University Pk, PA 16802 USA   \n",
       "1  [Schwinn, Traci M.; Schinke, Steven P.] Columbia Univ, New York, NY 10027 USA                                                                                                                                                                                                                                   \n",
       "\n",
       "                                                                                                                                                                                                                                           Affiliations  \\\n",
       "0  Indiana University System; Indiana University-Purdue University Indianapolis; University of Wollongong; Pennsylvania Commonwealth System of Higher Education (PCSHE); Pennsylvania State University; Pennsylvania State University - University Park   \n",
       "1  Columbia University                                                                                                                                                                                                                                    \n",
       "\n",
       "                                                                                                                               Reprint Addresses  \\\n",
       "0  Shin, YJ (corresponding author), Indiana Univ Purdue Univ, Dept Commun Studies, 425 Univ Blvd,Cavanaugh Hall 309, Indianapolis, IN 46202 USA.   \n",
       "1  Schwinn, TM (corresponding author), Columbia Univ, Sch Social Work, 1255 Amsterdam Ave, New York, NY 10027 USA.                                 \n",
       "\n",
       "                                                       Email Addresses  \\\n",
       "0  younshin@iupui.edu; jklee@uow.edu.au; yxl235@psu.edu; mlh10@psu.edu   \n",
       "1  tms40@columbia.edu                                                    \n",
       "\n",
       "                                                            Researcher Ids  \\\n",
       "0  Lu, Yu/AGB-5690-2022; Shin, YoungJu/ABA-1000-2020; Lu, Yu/AAA-3190-2020   \n",
       "1  NaN                                                                       \n",
       "\n",
       "                                                          ORCIDs  \\\n",
       "0  Lu, Yu/0000-0002-5128-6868; Shin, YoungJu/0000-0001-6751-8064   \n",
       "1  NaN                                                             \n",
       "\n",
       "                                           Funding Orgs  \\\n",
       "0  National Institute on Drug Abuse [R01DA005629]         \n",
       "1  NIAAA NIH HHS [R01 AA011924] Funding Source: Medline   \n",
       "\n",
       "                                                                                                                                                      Funding Name Preferred  \\\n",
       "0  National Institute on Drug Abuse(United States Department of Health & Human ServicesNational Institutes of Health (NIH) - USANIH National Institute on Drug Abuse (NIDA))   \n",
       "1  NIAAA NIH HHS(United States Department of Health & Human ServicesNational Institutes of Health (NIH) - USANIH National Institute on Alcohol Abuse & Alcoholism (NIAAA))     \n",
       "\n",
       "                                                                                                                                                                                                                                                                                                                                              Funding Text  \\\n",
       "0  This manuscript was supported by Grant Numbers R01DA005629 from the National Institute on Drug Abuse to The Pennsylvania State University (Grant Recipient), Michael Hecht, Principal Investigator. Its contents are solely the responsibility of the authors and do not necessarily represent the official views of the National Institutes of Health.   \n",
       "1  NaN                                                                                                                                                                                                                                                                                                                                                       \n",
       "\n",
       "   Cited References  Cited Reference Count  Times Cited, WoS Core  \\\n",
       "0 NaN                54                     29                      \n",
       "1 NaN                32                     23                      \n",
       "\n",
       "   Times Cited, All Databases  180 Day Usage Count  Since 2013 Usage Count  \\\n",
       "0  30                          0                    19                       \n",
       "1  38                          3                    48                       \n",
       "\n",
       "                                  Publisher Publisher City  \\\n",
       "0  SPRINGER/PLENUM PUBLISHERS                NEW YORK        \n",
       "1  ROUTLEDGE JOURNALS, TAYLOR & FRANCIS LTD  ABINGDON        \n",
       "\n",
       "                                                Publisher Address       ISSN  \\\n",
       "0  233 SPRING ST, NEW YORK, NY 10013 USA                           1389-4986   \n",
       "1  2-4 PARK SQUARE, MILTON PARK, ABINGDON OX14 4RN, OXON, ENGLAND  1067-828X   \n",
       "\n",
       "       eISSN ISBN  Journal Abbreviation        Journal ISO Abbreviation  \\\n",
       "0  1573-6695  NaN  PREV SCI              Prev. Sci.                       \n",
       "1  1547-0652  NaN  J CHILD ADOLES SUBST  J. Child Adolesc. Subst. Abus.   \n",
       "\n",
       "  Publication Date  Publication Year Volume Issue Part Number Supplement  \\\n",
       "0  FEB              2016              17.0   2     NaN         NaN         \n",
       "1  JAN 1            2014              23.0   1     NaN         NaN         \n",
       "\n",
       "  Special Issue  Meeting Abstract Start Page End Page Article Number  \\\n",
       "0  NaN          NaN                188        198      NaN             \n",
       "1  NaN          NaN                58         64       NaN             \n",
       "\n",
       "                            DOI  DOI Link  Book DOI Early Access Date  \\\n",
       "0  10.1007/s11121-015-0596-1     0.0      NaN        NaN                \n",
       "1  10.1080/1067828X.2012.735561  0.0      NaN        NaN                \n",
       "\n",
       "   Number of Pages                               WoS Categories  \\\n",
       "0  11               Public, Environmental & Occupational Health   \n",
       "1  7                Substance Abuse                               \n",
       "\n",
       "                   Web of Science Index  \\\n",
       "0  Social Science Citation Index (SSCI)   \n",
       "1  Social Science Citation Index (SSCI)   \n",
       "\n",
       "                                Research Areas IDS Number   Pubmed Id  \\\n",
       "0  Public, Environmental & Occupational Health  DB7KA      26300049.0   \n",
       "1  Substance Abuse                              242FC      25246757.0   \n",
       "\n",
       "          Open Access Designations  Highly Cited Status  Hot Paper Status  \\\n",
       "0  Green Accepted, Green Submitted NaN                  NaN                 \n",
       "1  Green Accepted                  NaN                  NaN                 \n",
       "\n",
       "  Date of Export   UT (Unique WOS ID)  Web of Science Record  \\\n",
       "0  2024-05-02     WOS:000368692700005  0                       \n",
       "1  2024-05-02     WOS:000326222300006  0                       \n",
       "\n",
       "                                                                                                                                                                                                                                                                                                                                                                                                                                                                                                                                                                                                                                                                                                                                                                                                                                                                                                                                                                                                                                                                                                                                                                                                                                                                                                                                               text  \n",
       "0  Exploring Parental Influence on the Progression of Alcohol Use in Mexican-Heritage Youth: a Latent Transition Analysis Mexican-heritage youth are members of the fastest growing minority group and are at particular risk for substance use including alcohol consumption. Youth face numerous risk factors including positive descriptions of substance use on media and peer offers that are potentially ameliorated by parental anti-substance use socialization efforts. Guided by primary socialization theory and the theory of planned behavior, the present study posited eight research questions to identify discrete subgroups/patterns of Mexican-heritage youth alcohol use behavior and parental influence on youth outcomes. Longitudinal survey data (n = 1147) from youth in 29 public schools located in Phoenix, Arizona, were collected over 3 years. Latent class and transition analyses identified four discrete subgroups characterized by response patterns of alcohol use behaviors and perceptions in Mexican-heritage youth: (1) non-drinker, (2) potential drinker, (3) experimenter, and (4) regular drinker. Targeted parent-child communication about alcohol and parental monitoring were found to be significant predictors for youth alcohol use. Research implications and future directions are suggested.  \n",
       "1  Alcohol Use and Related Behaviors Among Late-Adolescent Urban Youths: Peer and Parent Influences Peer and parent influences on alcohol use and related risky behaviors were examined in a sample of late-adolescent (M=17.3 years; SD=1.11 years) urban youths. Participants (N=400) completed an online measure assessing peer influences of alcohol use and alcohol offers and also parental influences of rules against alcohol use and perceived levels of emotional family support, relative to youths' alcohol use, binge drinking, alcohol-related consequences, and intentions to drink. Hierarchical regression analyses revealed that increased peer alcohol use and alcohol offers were associated with youths' increased drinking, binge drinking, alcohol-related consequences, and intentions to drink. Controlling for peer influences, parental rules against alcohol use were associated with decreased drinking, binge drinking, and intentions to drink; increased levels of family support were associated with decreased alcohol-related consequences and intentions to drink. These findings suggest that parental influences, albeit small relative to peer influences, are associated with fewer instances of monthly alcohol use and related risky behaviors among late-adolescent urban youths.                         "
      ]
     },
     "execution_count": 13,
     "metadata": {},
     "output_type": "execute_result"
    }
   ],
   "source": [
    "art['text'] = art['Article Title'].fillna('') + ' ' + art['Abstract'].fillna('')\n",
    "art.head(2)\n"
   ]
  },
  {
   "cell_type": "code",
   "execution_count": 14,
   "metadata": {},
   "outputs": [
    {
     "name": "stderr",
     "output_type": "stream",
     "text": [
      "[nltk_data] Downloading package stopwords to\n",
      "[nltk_data]     C:\\Users\\jcor864\\AppData\\Roaming\\nltk_data...\n",
      "[nltk_data]   Package stopwords is already up-to-date!\n",
      "[nltk_data] Downloading collection 'all'\n",
      "[nltk_data]    | \n",
      "[nltk_data]    | Downloading package abc to\n",
      "[nltk_data]    |     C:\\Users\\jcor864\\AppData\\Roaming\\nltk_data...\n",
      "[nltk_data]    |   Package abc is already up-to-date!\n",
      "[nltk_data]    | Downloading package alpino to\n",
      "[nltk_data]    |     C:\\Users\\jcor864\\AppData\\Roaming\\nltk_data...\n",
      "[nltk_data]    |   Package alpino is already up-to-date!\n",
      "[nltk_data]    | Downloading package averaged_perceptron_tagger to\n",
      "[nltk_data]    |     C:\\Users\\jcor864\\AppData\\Roaming\\nltk_data...\n",
      "[nltk_data]    |   Package averaged_perceptron_tagger is already up-\n",
      "[nltk_data]    |       to-date!\n",
      "[nltk_data]    | Downloading package averaged_perceptron_tagger_eng to\n",
      "[nltk_data]    |     C:\\Users\\jcor864\\AppData\\Roaming\\nltk_data...\n",
      "[nltk_data]    |   Package averaged_perceptron_tagger_eng is already\n",
      "[nltk_data]    |       up-to-date!\n",
      "[nltk_data]    | Downloading package averaged_perceptron_tagger_ru to\n",
      "[nltk_data]    |     C:\\Users\\jcor864\\AppData\\Roaming\\nltk_data...\n",
      "[nltk_data]    |   Package averaged_perceptron_tagger_ru is already\n",
      "[nltk_data]    |       up-to-date!\n",
      "[nltk_data]    | Downloading package averaged_perceptron_tagger_rus to\n",
      "[nltk_data]    |     C:\\Users\\jcor864\\AppData\\Roaming\\nltk_data...\n",
      "[nltk_data]    |   Package averaged_perceptron_tagger_rus is already\n",
      "[nltk_data]    |       up-to-date!\n",
      "[nltk_data]    | Downloading package basque_grammars to\n",
      "[nltk_data]    |     C:\\Users\\jcor864\\AppData\\Roaming\\nltk_data...\n",
      "[nltk_data]    |   Package basque_grammars is already up-to-date!\n",
      "[nltk_data]    | Downloading package bcp47 to\n",
      "[nltk_data]    |     C:\\Users\\jcor864\\AppData\\Roaming\\nltk_data...\n",
      "[nltk_data]    |   Package bcp47 is already up-to-date!\n",
      "[nltk_data]    | Downloading package biocreative_ppi to\n",
      "[nltk_data]    |     C:\\Users\\jcor864\\AppData\\Roaming\\nltk_data...\n",
      "[nltk_data]    |   Package biocreative_ppi is already up-to-date!\n",
      "[nltk_data]    | Downloading package bllip_wsj_no_aux to\n",
      "[nltk_data]    |     C:\\Users\\jcor864\\AppData\\Roaming\\nltk_data...\n",
      "[nltk_data]    |   Package bllip_wsj_no_aux is already up-to-date!\n",
      "[nltk_data]    | Downloading package book_grammars to\n",
      "[nltk_data]    |     C:\\Users\\jcor864\\AppData\\Roaming\\nltk_data...\n",
      "[nltk_data]    |   Package book_grammars is already up-to-date!\n",
      "[nltk_data]    | Downloading package brown to\n",
      "[nltk_data]    |     C:\\Users\\jcor864\\AppData\\Roaming\\nltk_data...\n",
      "[nltk_data]    |   Package brown is already up-to-date!\n",
      "[nltk_data]    | Downloading package brown_tei to\n",
      "[nltk_data]    |     C:\\Users\\jcor864\\AppData\\Roaming\\nltk_data...\n",
      "[nltk_data]    |   Package brown_tei is already up-to-date!\n",
      "[nltk_data]    | Downloading package cess_cat to\n",
      "[nltk_data]    |     C:\\Users\\jcor864\\AppData\\Roaming\\nltk_data...\n",
      "[nltk_data]    |   Package cess_cat is already up-to-date!\n",
      "[nltk_data]    | Downloading package cess_esp to\n",
      "[nltk_data]    |     C:\\Users\\jcor864\\AppData\\Roaming\\nltk_data...\n",
      "[nltk_data]    |   Package cess_esp is already up-to-date!\n",
      "[nltk_data]    | Downloading package chat80 to\n",
      "[nltk_data]    |     C:\\Users\\jcor864\\AppData\\Roaming\\nltk_data...\n",
      "[nltk_data]    |   Package chat80 is already up-to-date!\n",
      "[nltk_data]    | Downloading package city_database to\n",
      "[nltk_data]    |     C:\\Users\\jcor864\\AppData\\Roaming\\nltk_data...\n",
      "[nltk_data]    |   Package city_database is already up-to-date!\n",
      "[nltk_data]    | Downloading package cmudict to\n",
      "[nltk_data]    |     C:\\Users\\jcor864\\AppData\\Roaming\\nltk_data...\n",
      "[nltk_data]    |   Package cmudict is already up-to-date!\n",
      "[nltk_data]    | Downloading package comparative_sentences to\n",
      "[nltk_data]    |     C:\\Users\\jcor864\\AppData\\Roaming\\nltk_data...\n",
      "[nltk_data]    |   Package comparative_sentences is already up-to-\n",
      "[nltk_data]    |       date!\n",
      "[nltk_data]    | Downloading package comtrans to\n",
      "[nltk_data]    |     C:\\Users\\jcor864\\AppData\\Roaming\\nltk_data...\n",
      "[nltk_data]    |   Package comtrans is already up-to-date!\n",
      "[nltk_data]    | Downloading package conll2000 to\n",
      "[nltk_data]    |     C:\\Users\\jcor864\\AppData\\Roaming\\nltk_data...\n",
      "[nltk_data]    |   Package conll2000 is already up-to-date!\n",
      "[nltk_data]    | Downloading package conll2002 to\n",
      "[nltk_data]    |     C:\\Users\\jcor864\\AppData\\Roaming\\nltk_data...\n",
      "[nltk_data]    |   Package conll2002 is already up-to-date!\n",
      "[nltk_data]    | Downloading package conll2007 to\n",
      "[nltk_data]    |     C:\\Users\\jcor864\\AppData\\Roaming\\nltk_data...\n",
      "[nltk_data]    |   Package conll2007 is already up-to-date!\n",
      "[nltk_data]    | Downloading package crubadan to\n",
      "[nltk_data]    |     C:\\Users\\jcor864\\AppData\\Roaming\\nltk_data...\n",
      "[nltk_data]    |   Package crubadan is already up-to-date!\n",
      "[nltk_data]    | Downloading package dependency_treebank to\n",
      "[nltk_data]    |     C:\\Users\\jcor864\\AppData\\Roaming\\nltk_data...\n",
      "[nltk_data]    |   Package dependency_treebank is already up-to-date!\n",
      "[nltk_data]    | Downloading package dolch to\n",
      "[nltk_data]    |     C:\\Users\\jcor864\\AppData\\Roaming\\nltk_data...\n",
      "[nltk_data]    |   Package dolch is already up-to-date!\n",
      "[nltk_data]    | Downloading package english_wordnet to\n",
      "[nltk_data]    |     C:\\Users\\jcor864\\AppData\\Roaming\\nltk_data...\n",
      "[nltk_data]    |   Package english_wordnet is already up-to-date!\n",
      "[nltk_data]    | Downloading package europarl_raw to\n",
      "[nltk_data]    |     C:\\Users\\jcor864\\AppData\\Roaming\\nltk_data...\n",
      "[nltk_data]    |   Package europarl_raw is already up-to-date!\n",
      "[nltk_data]    | Downloading package extended_omw to\n",
      "[nltk_data]    |     C:\\Users\\jcor864\\AppData\\Roaming\\nltk_data...\n",
      "[nltk_data]    |   Package extended_omw is already up-to-date!\n",
      "[nltk_data]    | Downloading package floresta to\n",
      "[nltk_data]    |     C:\\Users\\jcor864\\AppData\\Roaming\\nltk_data...\n",
      "[nltk_data]    |   Package floresta is already up-to-date!\n",
      "[nltk_data]    | Downloading package framenet_v15 to\n",
      "[nltk_data]    |     C:\\Users\\jcor864\\AppData\\Roaming\\nltk_data...\n",
      "[nltk_data]    |   Package framenet_v15 is already up-to-date!\n",
      "[nltk_data]    | Downloading package framenet_v17 to\n",
      "[nltk_data]    |     C:\\Users\\jcor864\\AppData\\Roaming\\nltk_data...\n",
      "[nltk_data]    |   Package framenet_v17 is already up-to-date!\n",
      "[nltk_data]    | Downloading package gazetteers to\n",
      "[nltk_data]    |     C:\\Users\\jcor864\\AppData\\Roaming\\nltk_data...\n",
      "[nltk_data]    |   Package gazetteers is already up-to-date!\n",
      "[nltk_data]    | Downloading package genesis to\n",
      "[nltk_data]    |     C:\\Users\\jcor864\\AppData\\Roaming\\nltk_data...\n",
      "[nltk_data]    |   Package genesis is already up-to-date!\n",
      "[nltk_data]    | Downloading package gutenberg to\n",
      "[nltk_data]    |     C:\\Users\\jcor864\\AppData\\Roaming\\nltk_data...\n",
      "[nltk_data]    |   Package gutenberg is already up-to-date!\n",
      "[nltk_data]    | Downloading package ieer to\n",
      "[nltk_data]    |     C:\\Users\\jcor864\\AppData\\Roaming\\nltk_data...\n",
      "[nltk_data]    |   Package ieer is already up-to-date!\n",
      "[nltk_data]    | Downloading package inaugural to\n",
      "[nltk_data]    |     C:\\Users\\jcor864\\AppData\\Roaming\\nltk_data...\n",
      "[nltk_data]    |   Package inaugural is already up-to-date!\n",
      "[nltk_data]    | Downloading package indian to\n",
      "[nltk_data]    |     C:\\Users\\jcor864\\AppData\\Roaming\\nltk_data...\n",
      "[nltk_data]    |   Package indian is already up-to-date!\n",
      "[nltk_data]    | Downloading package jeita to\n",
      "[nltk_data]    |     C:\\Users\\jcor864\\AppData\\Roaming\\nltk_data...\n",
      "[nltk_data]    |   Package jeita is already up-to-date!\n",
      "[nltk_data]    | Downloading package kimmo to\n",
      "[nltk_data]    |     C:\\Users\\jcor864\\AppData\\Roaming\\nltk_data...\n",
      "[nltk_data]    |   Package kimmo is already up-to-date!\n",
      "[nltk_data]    | Downloading package knbc to\n",
      "[nltk_data]    |     C:\\Users\\jcor864\\AppData\\Roaming\\nltk_data...\n",
      "[nltk_data]    |   Package knbc is already up-to-date!\n",
      "[nltk_data]    | Downloading package large_grammars to\n",
      "[nltk_data]    |     C:\\Users\\jcor864\\AppData\\Roaming\\nltk_data...\n",
      "[nltk_data]    |   Package large_grammars is already up-to-date!\n",
      "[nltk_data]    | Downloading package lin_thesaurus to\n",
      "[nltk_data]    |     C:\\Users\\jcor864\\AppData\\Roaming\\nltk_data...\n",
      "[nltk_data]    |   Package lin_thesaurus is already up-to-date!\n",
      "[nltk_data]    | Downloading package mac_morpho to\n",
      "[nltk_data]    |     C:\\Users\\jcor864\\AppData\\Roaming\\nltk_data...\n",
      "[nltk_data]    |   Package mac_morpho is already up-to-date!\n",
      "[nltk_data]    | Downloading package machado to\n",
      "[nltk_data]    |     C:\\Users\\jcor864\\AppData\\Roaming\\nltk_data...\n",
      "[nltk_data]    |   Package machado is already up-to-date!\n",
      "[nltk_data]    | Downloading package masc_tagged to\n",
      "[nltk_data]    |     C:\\Users\\jcor864\\AppData\\Roaming\\nltk_data...\n",
      "[nltk_data]    |   Package masc_tagged is already up-to-date!\n",
      "[nltk_data]    | Downloading package maxent_ne_chunker to\n",
      "[nltk_data]    |     C:\\Users\\jcor864\\AppData\\Roaming\\nltk_data...\n",
      "[nltk_data]    |   Package maxent_ne_chunker is already up-to-date!\n",
      "[nltk_data]    | Downloading package maxent_ne_chunker_tab to\n",
      "[nltk_data]    |     C:\\Users\\jcor864\\AppData\\Roaming\\nltk_data...\n",
      "[nltk_data]    |   Package maxent_ne_chunker_tab is already up-to-\n",
      "[nltk_data]    |       date!\n",
      "[nltk_data]    | Downloading package maxent_treebank_pos_tagger to\n",
      "[nltk_data]    |     C:\\Users\\jcor864\\AppData\\Roaming\\nltk_data...\n",
      "[nltk_data]    |   Package maxent_treebank_pos_tagger is already up-\n",
      "[nltk_data]    |       to-date!\n",
      "[nltk_data]    | Downloading package maxent_treebank_pos_tagger_tab to\n",
      "[nltk_data]    |     C:\\Users\\jcor864\\AppData\\Roaming\\nltk_data...\n",
      "[nltk_data]    |   Package maxent_treebank_pos_tagger_tab is already\n",
      "[nltk_data]    |       up-to-date!\n",
      "[nltk_data]    | Downloading package moses_sample to\n",
      "[nltk_data]    |     C:\\Users\\jcor864\\AppData\\Roaming\\nltk_data...\n",
      "[nltk_data]    |   Package moses_sample is already up-to-date!\n",
      "[nltk_data]    | Downloading package movie_reviews to\n",
      "[nltk_data]    |     C:\\Users\\jcor864\\AppData\\Roaming\\nltk_data...\n",
      "[nltk_data]    |   Package movie_reviews is already up-to-date!\n",
      "[nltk_data]    | Downloading package mte_teip5 to\n",
      "[nltk_data]    |     C:\\Users\\jcor864\\AppData\\Roaming\\nltk_data...\n",
      "[nltk_data]    |   Package mte_teip5 is already up-to-date!\n",
      "[nltk_data]    | Downloading package mwa_ppdb to\n",
      "[nltk_data]    |     C:\\Users\\jcor864\\AppData\\Roaming\\nltk_data...\n",
      "[nltk_data]    |   Package mwa_ppdb is already up-to-date!\n",
      "[nltk_data]    | Downloading package names to\n",
      "[nltk_data]    |     C:\\Users\\jcor864\\AppData\\Roaming\\nltk_data...\n",
      "[nltk_data]    |   Package names is already up-to-date!\n",
      "[nltk_data]    | Downloading package nombank.1.0 to\n",
      "[nltk_data]    |     C:\\Users\\jcor864\\AppData\\Roaming\\nltk_data...\n",
      "[nltk_data]    |   Package nombank.1.0 is already up-to-date!\n",
      "[nltk_data]    | Downloading package nonbreaking_prefixes to\n",
      "[nltk_data]    |     C:\\Users\\jcor864\\AppData\\Roaming\\nltk_data...\n",
      "[nltk_data]    |   Package nonbreaking_prefixes is already up-to-date!\n",
      "[nltk_data]    | Downloading package nps_chat to\n",
      "[nltk_data]    |     C:\\Users\\jcor864\\AppData\\Roaming\\nltk_data...\n",
      "[nltk_data]    |   Package nps_chat is already up-to-date!\n",
      "[nltk_data]    | Downloading package omw to\n",
      "[nltk_data]    |     C:\\Users\\jcor864\\AppData\\Roaming\\nltk_data...\n",
      "[nltk_data]    |   Package omw is already up-to-date!\n",
      "[nltk_data]    | Downloading package omw-1.4 to\n",
      "[nltk_data]    |     C:\\Users\\jcor864\\AppData\\Roaming\\nltk_data...\n",
      "[nltk_data]    |   Package omw-1.4 is already up-to-date!\n",
      "[nltk_data]    | Downloading package opinion_lexicon to\n",
      "[nltk_data]    |     C:\\Users\\jcor864\\AppData\\Roaming\\nltk_data...\n",
      "[nltk_data]    |   Package opinion_lexicon is already up-to-date!\n",
      "[nltk_data]    | Downloading package panlex_swadesh to\n",
      "[nltk_data]    |     C:\\Users\\jcor864\\AppData\\Roaming\\nltk_data...\n",
      "[nltk_data]    |   Package panlex_swadesh is already up-to-date!\n",
      "[nltk_data]    | Downloading package paradigms to\n",
      "[nltk_data]    |     C:\\Users\\jcor864\\AppData\\Roaming\\nltk_data...\n",
      "[nltk_data]    |   Package paradigms is already up-to-date!\n",
      "[nltk_data]    | Downloading package pe08 to\n",
      "[nltk_data]    |     C:\\Users\\jcor864\\AppData\\Roaming\\nltk_data...\n",
      "[nltk_data]    |   Package pe08 is already up-to-date!\n",
      "[nltk_data]    | Downloading package perluniprops to\n",
      "[nltk_data]    |     C:\\Users\\jcor864\\AppData\\Roaming\\nltk_data...\n",
      "[nltk_data]    |   Package perluniprops is already up-to-date!\n",
      "[nltk_data]    | Downloading package pil to\n",
      "[nltk_data]    |     C:\\Users\\jcor864\\AppData\\Roaming\\nltk_data...\n",
      "[nltk_data]    |   Package pil is already up-to-date!\n",
      "[nltk_data]    | Downloading package pl196x to\n",
      "[nltk_data]    |     C:\\Users\\jcor864\\AppData\\Roaming\\nltk_data...\n",
      "[nltk_data]    |   Package pl196x is already up-to-date!\n",
      "[nltk_data]    | Downloading package porter_test to\n",
      "[nltk_data]    |     C:\\Users\\jcor864\\AppData\\Roaming\\nltk_data...\n",
      "[nltk_data]    |   Package porter_test is already up-to-date!\n",
      "[nltk_data]    | Downloading package ppattach to\n",
      "[nltk_data]    |     C:\\Users\\jcor864\\AppData\\Roaming\\nltk_data...\n",
      "[nltk_data]    |   Package ppattach is already up-to-date!\n",
      "[nltk_data]    | Downloading package problem_reports to\n",
      "[nltk_data]    |     C:\\Users\\jcor864\\AppData\\Roaming\\nltk_data...\n",
      "[nltk_data]    |   Package problem_reports is already up-to-date!\n",
      "[nltk_data]    | Downloading package product_reviews_1 to\n",
      "[nltk_data]    |     C:\\Users\\jcor864\\AppData\\Roaming\\nltk_data...\n",
      "[nltk_data]    |   Package product_reviews_1 is already up-to-date!\n",
      "[nltk_data]    | Downloading package product_reviews_2 to\n",
      "[nltk_data]    |     C:\\Users\\jcor864\\AppData\\Roaming\\nltk_data...\n",
      "[nltk_data]    |   Package product_reviews_2 is already up-to-date!\n",
      "[nltk_data]    | Downloading package propbank to\n",
      "[nltk_data]    |     C:\\Users\\jcor864\\AppData\\Roaming\\nltk_data...\n",
      "[nltk_data]    |   Package propbank is already up-to-date!\n",
      "[nltk_data]    | Downloading package pros_cons to\n",
      "[nltk_data]    |     C:\\Users\\jcor864\\AppData\\Roaming\\nltk_data...\n",
      "[nltk_data]    |   Package pros_cons is already up-to-date!\n",
      "[nltk_data]    | Downloading package ptb to\n",
      "[nltk_data]    |     C:\\Users\\jcor864\\AppData\\Roaming\\nltk_data...\n",
      "[nltk_data]    |   Package ptb is already up-to-date!\n",
      "[nltk_data]    | Downloading package punkt to\n",
      "[nltk_data]    |     C:\\Users\\jcor864\\AppData\\Roaming\\nltk_data...\n",
      "[nltk_data]    |   Package punkt is already up-to-date!\n",
      "[nltk_data]    | Downloading package punkt_tab to\n",
      "[nltk_data]    |     C:\\Users\\jcor864\\AppData\\Roaming\\nltk_data...\n",
      "[nltk_data]    |   Package punkt_tab is already up-to-date!\n",
      "[nltk_data]    | Downloading package qc to\n",
      "[nltk_data]    |     C:\\Users\\jcor864\\AppData\\Roaming\\nltk_data...\n",
      "[nltk_data]    |   Package qc is already up-to-date!\n",
      "[nltk_data]    | Downloading package reuters to\n",
      "[nltk_data]    |     C:\\Users\\jcor864\\AppData\\Roaming\\nltk_data...\n",
      "[nltk_data]    |   Package reuters is already up-to-date!\n",
      "[nltk_data]    | Downloading package rslp to\n",
      "[nltk_data]    |     C:\\Users\\jcor864\\AppData\\Roaming\\nltk_data...\n",
      "[nltk_data]    |   Package rslp is already up-to-date!\n",
      "[nltk_data]    | Downloading package rte to\n",
      "[nltk_data]    |     C:\\Users\\jcor864\\AppData\\Roaming\\nltk_data...\n",
      "[nltk_data]    |   Package rte is already up-to-date!\n",
      "[nltk_data]    | Downloading package sample_grammars to\n",
      "[nltk_data]    |     C:\\Users\\jcor864\\AppData\\Roaming\\nltk_data...\n",
      "[nltk_data]    |   Package sample_grammars is already up-to-date!\n",
      "[nltk_data]    | Downloading package semcor to\n",
      "[nltk_data]    |     C:\\Users\\jcor864\\AppData\\Roaming\\nltk_data...\n",
      "[nltk_data]    |   Package semcor is already up-to-date!\n",
      "[nltk_data]    | Downloading package senseval to\n",
      "[nltk_data]    |     C:\\Users\\jcor864\\AppData\\Roaming\\nltk_data...\n",
      "[nltk_data]    |   Package senseval is already up-to-date!\n",
      "[nltk_data]    | Downloading package sentence_polarity to\n",
      "[nltk_data]    |     C:\\Users\\jcor864\\AppData\\Roaming\\nltk_data...\n",
      "[nltk_data]    |   Package sentence_polarity is already up-to-date!\n",
      "[nltk_data]    | Downloading package sentiwordnet to\n",
      "[nltk_data]    |     C:\\Users\\jcor864\\AppData\\Roaming\\nltk_data...\n",
      "[nltk_data]    |   Package sentiwordnet is already up-to-date!\n",
      "[nltk_data]    | Downloading package shakespeare to\n",
      "[nltk_data]    |     C:\\Users\\jcor864\\AppData\\Roaming\\nltk_data...\n",
      "[nltk_data]    |   Package shakespeare is already up-to-date!\n",
      "[nltk_data]    | Downloading package sinica_treebank to\n",
      "[nltk_data]    |     C:\\Users\\jcor864\\AppData\\Roaming\\nltk_data...\n",
      "[nltk_data]    |   Package sinica_treebank is already up-to-date!\n",
      "[nltk_data]    | Downloading package smultron to\n",
      "[nltk_data]    |     C:\\Users\\jcor864\\AppData\\Roaming\\nltk_data...\n",
      "[nltk_data]    |   Package smultron is already up-to-date!\n",
      "[nltk_data]    | Downloading package snowball_data to\n",
      "[nltk_data]    |     C:\\Users\\jcor864\\AppData\\Roaming\\nltk_data...\n",
      "[nltk_data]    |   Package snowball_data is already up-to-date!\n",
      "[nltk_data]    | Downloading package spanish_grammars to\n",
      "[nltk_data]    |     C:\\Users\\jcor864\\AppData\\Roaming\\nltk_data...\n",
      "[nltk_data]    |   Package spanish_grammars is already up-to-date!\n",
      "[nltk_data]    | Downloading package state_union to\n",
      "[nltk_data]    |     C:\\Users\\jcor864\\AppData\\Roaming\\nltk_data...\n",
      "[nltk_data]    |   Package state_union is already up-to-date!\n",
      "[nltk_data]    | Downloading package stopwords to\n",
      "[nltk_data]    |     C:\\Users\\jcor864\\AppData\\Roaming\\nltk_data...\n",
      "[nltk_data]    |   Package stopwords is already up-to-date!\n",
      "[nltk_data]    | Downloading package subjectivity to\n",
      "[nltk_data]    |     C:\\Users\\jcor864\\AppData\\Roaming\\nltk_data...\n",
      "[nltk_data]    |   Package subjectivity is already up-to-date!\n",
      "[nltk_data]    | Downloading package swadesh to\n",
      "[nltk_data]    |     C:\\Users\\jcor864\\AppData\\Roaming\\nltk_data...\n",
      "[nltk_data]    |   Package swadesh is already up-to-date!\n",
      "[nltk_data]    | Downloading package switchboard to\n",
      "[nltk_data]    |     C:\\Users\\jcor864\\AppData\\Roaming\\nltk_data...\n",
      "[nltk_data]    |   Package switchboard is already up-to-date!\n",
      "[nltk_data]    | Downloading package tagsets to\n",
      "[nltk_data]    |     C:\\Users\\jcor864\\AppData\\Roaming\\nltk_data...\n",
      "[nltk_data]    |   Package tagsets is already up-to-date!\n",
      "[nltk_data]    | Downloading package tagsets_json to\n",
      "[nltk_data]    |     C:\\Users\\jcor864\\AppData\\Roaming\\nltk_data...\n",
      "[nltk_data]    |   Package tagsets_json is already up-to-date!\n",
      "[nltk_data]    | Downloading package timit to\n",
      "[nltk_data]    |     C:\\Users\\jcor864\\AppData\\Roaming\\nltk_data...\n",
      "[nltk_data]    |   Package timit is already up-to-date!\n",
      "[nltk_data]    | Downloading package toolbox to\n",
      "[nltk_data]    |     C:\\Users\\jcor864\\AppData\\Roaming\\nltk_data...\n",
      "[nltk_data]    |   Package toolbox is already up-to-date!\n",
      "[nltk_data]    | Downloading package treebank to\n",
      "[nltk_data]    |     C:\\Users\\jcor864\\AppData\\Roaming\\nltk_data...\n",
      "[nltk_data]    |   Package treebank is already up-to-date!\n",
      "[nltk_data]    | Downloading package twitter_samples to\n",
      "[nltk_data]    |     C:\\Users\\jcor864\\AppData\\Roaming\\nltk_data...\n",
      "[nltk_data]    |   Package twitter_samples is already up-to-date!\n",
      "[nltk_data]    | Downloading package udhr to\n",
      "[nltk_data]    |     C:\\Users\\jcor864\\AppData\\Roaming\\nltk_data...\n",
      "[nltk_data]    |   Package udhr is already up-to-date!\n",
      "[nltk_data]    | Downloading package udhr2 to\n",
      "[nltk_data]    |     C:\\Users\\jcor864\\AppData\\Roaming\\nltk_data...\n",
      "[nltk_data]    |   Package udhr2 is already up-to-date!\n",
      "[nltk_data]    | Downloading package unicode_samples to\n",
      "[nltk_data]    |     C:\\Users\\jcor864\\AppData\\Roaming\\nltk_data...\n",
      "[nltk_data]    |   Package unicode_samples is already up-to-date!\n",
      "[nltk_data]    | Downloading package universal_tagset to\n",
      "[nltk_data]    |     C:\\Users\\jcor864\\AppData\\Roaming\\nltk_data...\n",
      "[nltk_data]    |   Package universal_tagset is already up-to-date!\n",
      "[nltk_data]    | Downloading package universal_treebanks_v20 to\n",
      "[nltk_data]    |     C:\\Users\\jcor864\\AppData\\Roaming\\nltk_data...\n",
      "[nltk_data]    |   Package universal_treebanks_v20 is already up-to-\n",
      "[nltk_data]    |       date!\n",
      "[nltk_data]    | Downloading package vader_lexicon to\n",
      "[nltk_data]    |     C:\\Users\\jcor864\\AppData\\Roaming\\nltk_data...\n",
      "[nltk_data]    |   Package vader_lexicon is already up-to-date!\n",
      "[nltk_data]    | Downloading package verbnet to\n",
      "[nltk_data]    |     C:\\Users\\jcor864\\AppData\\Roaming\\nltk_data...\n",
      "[nltk_data]    |   Package verbnet is already up-to-date!\n",
      "[nltk_data]    | Downloading package verbnet3 to\n",
      "[nltk_data]    |     C:\\Users\\jcor864\\AppData\\Roaming\\nltk_data...\n",
      "[nltk_data]    |   Package verbnet3 is already up-to-date!\n",
      "[nltk_data]    | Downloading package webtext to\n",
      "[nltk_data]    |     C:\\Users\\jcor864\\AppData\\Roaming\\nltk_data...\n",
      "[nltk_data]    |   Package webtext is already up-to-date!\n",
      "[nltk_data]    | Downloading package wmt15_eval to\n",
      "[nltk_data]    |     C:\\Users\\jcor864\\AppData\\Roaming\\nltk_data...\n",
      "[nltk_data]    |   Package wmt15_eval is already up-to-date!\n",
      "[nltk_data]    | Downloading package word2vec_sample to\n",
      "[nltk_data]    |     C:\\Users\\jcor864\\AppData\\Roaming\\nltk_data...\n",
      "[nltk_data]    |   Package word2vec_sample is already up-to-date!\n",
      "[nltk_data]    | Downloading package wordnet to\n",
      "[nltk_data]    |     C:\\Users\\jcor864\\AppData\\Roaming\\nltk_data...\n",
      "[nltk_data]    |   Package wordnet is already up-to-date!\n",
      "[nltk_data]    | Downloading package wordnet2021 to\n",
      "[nltk_data]    |     C:\\Users\\jcor864\\AppData\\Roaming\\nltk_data...\n",
      "[nltk_data]    |   Package wordnet2021 is already up-to-date!\n",
      "[nltk_data]    | Downloading package wordnet2022 to\n",
      "[nltk_data]    |     C:\\Users\\jcor864\\AppData\\Roaming\\nltk_data...\n",
      "[nltk_data]    |   Package wordnet2022 is already up-to-date!\n",
      "[nltk_data]    | Downloading package wordnet31 to\n",
      "[nltk_data]    |     C:\\Users\\jcor864\\AppData\\Roaming\\nltk_data...\n",
      "[nltk_data]    |   Package wordnet31 is already up-to-date!\n",
      "[nltk_data]    | Downloading package wordnet_ic to\n",
      "[nltk_data]    |     C:\\Users\\jcor864\\AppData\\Roaming\\nltk_data...\n",
      "[nltk_data]    |   Package wordnet_ic is already up-to-date!\n",
      "[nltk_data]    | Downloading package words to\n",
      "[nltk_data]    |     C:\\Users\\jcor864\\AppData\\Roaming\\nltk_data...\n",
      "[nltk_data]    |   Package words is already up-to-date!\n",
      "[nltk_data]    | Downloading package ycoe to\n",
      "[nltk_data]    |     C:\\Users\\jcor864\\AppData\\Roaming\\nltk_data...\n",
      "[nltk_data]    |   Package ycoe is already up-to-date!\n",
      "[nltk_data]    | \n",
      "[nltk_data]  Done downloading collection all\n"
     ]
    }
   ],
   "source": [
    "# Lemmatization\n",
    "import nltk\n",
    "import string\n",
    "nltk.download('stopwords')\n",
    "from nltk.tokenize import word_tokenize \n",
    "nltk.download('all')   # download wordlist\n",
    "from nltk.stem import WordNetLemmatizer\n",
    "english_stopwords = set(nltk.corpus.stopwords.words('english'))\n",
    "punctuation = set(string.punctuation)\n",
    "\n",
    "art['text'] = art['text'].str.replace(r'\\b\\w{1,3}\\b', '') # remove words with less than 3 characters\n",
    "art['text'] = art['text'].str.replace(r'\\d+', '') # remove numbers\n",
    "\n",
    "\n",
    "lemmatizer = WordNetLemmatizer() \n",
    "# tgw = ['alcohol','substance','youth','adolescent','factor','factors','among']  # topic general words to be excluded\n",
    "tgw = ['alcohol','among']  # topic general words to be excluded\n",
    "\n",
    "def lemmatizing_en(text):\n",
    "    word_tokens = word_tokenize(text.lower()) \n",
    "    word_tokens = [word for word in word_tokens if word not in punctuation]\n",
    "    word_tokens = [word for word in word_tokens if word.isalpha()]\n",
    "    word_tokens = [word for word in word_tokens if word not in english_stopwords]\n",
    "    word_tokens = [word for word in word_tokens if word not in tgw]\n",
    "    result = [lemmatizer.lemmatize(x) for x in word_tokens]\n",
    "    seperator = ' '\n",
    "    return seperator.join(result)  # return list and string\n",
    "\n",
    "art['text'] = [lemmatizing_en(s) for s in art['text']]\n",
    "\n",
    "for word in tgw:\n",
    "    art['text'] = art['text'].str.replace(word, '') # remove tgw words\n",
    "\n",
    "art['text'] = art['text'].str.replace(r'\\b\\w{1,3}\\b', '') # remove lemmas with less than 3 characters\n"
   ]
  },
  {
   "cell_type": "code",
   "execution_count": 15,
   "metadata": {},
   "outputs": [
    {
     "data": {
      "text/plain": [
       "'exploring parental influence progression use youth latent transition analysis youth member fastest growing minority group particular risk substance use including consumption youth face numerous risk factor including positive description substance use medium peer offer potentially ameliorated parental use socialization effort guided primary socialization theory theory planned behavior present study posited eight research question identify discrete youth use behavior parental influence youth outcome longitudinal survey data n youth public school located phoenix arizona collected year latent class transition analysis identified four discrete subgroup characterized response pattern use behavior perception youth potential drinker experimenter regular drinker targeted communication parental monitoring found significant predictor youth use research implication future direction suggested'"
      ]
     },
     "execution_count": 15,
     "metadata": {},
     "output_type": "execute_result"
    }
   ],
   "source": [
    "art['text'].iloc[0]"
   ]
  },
  {
   "cell_type": "markdown",
   "metadata": {},
   "source": [
    "## Bertopic"
   ]
  },
  {
   "cell_type": "code",
   "execution_count": 16,
   "metadata": {},
   "outputs": [
    {
     "name": "stdout",
     "output_type": "stream",
     "text": [
      "<class 'pandas.core.frame.DataFrame'>\n",
      "Index: 5596 entries, 0 to 5596\n",
      "Data columns (total 73 columns):\n",
      " #   Column                      Non-Null Count  Dtype  \n",
      "---  ------                      --------------  -----  \n",
      " 0   Publication Type            5596 non-null   object \n",
      " 1   Authors                     5596 non-null   object \n",
      " 2   Book Authors                0 non-null      float64\n",
      " 3   Book Editors                5 non-null      object \n",
      " 4   Book Group Authors          0 non-null      float64\n",
      " 5   Author Full Names           5596 non-null   object \n",
      " 6   Book Author Full Names      0 non-null      float64\n",
      " 7   Group Authors               104 non-null    object \n",
      " 8   Article Title               5596 non-null   object \n",
      " 9   Source Title                5596 non-null   object \n",
      " 10  Book Series Title           5 non-null      object \n",
      " 11  Book Series Subtitle        0 non-null      float64\n",
      " 12  Language                    5596 non-null   object \n",
      " 13  Document Type               5596 non-null   object \n",
      " 14  Conference Title            53 non-null     object \n",
      " 15  Conference Date             53 non-null     object \n",
      " 16  Conference Location         53 non-null     object \n",
      " 17  Conference Sponsor          39 non-null     object \n",
      " 18  Conference Host             4 non-null      object \n",
      " 19  Author Keywords             4425 non-null   object \n",
      " 20  Keywords Plus               5429 non-null   object \n",
      " 21  Abstract                    5596 non-null   object \n",
      " 22  Addresses                   5593 non-null   object \n",
      " 23  Affiliations                5477 non-null   object \n",
      " 24  Reprint Addresses           5587 non-null   object \n",
      " 25  Email Addresses             5469 non-null   object \n",
      " 26  Researcher Ids              3694 non-null   object \n",
      " 27  ORCIDs                      4443 non-null   object \n",
      " 28  Funding Orgs                4176 non-null   object \n",
      " 29  Funding Name Preferred      4165 non-null   object \n",
      " 30  Funding Text                3718 non-null   object \n",
      " 31  Cited References            0 non-null      float64\n",
      " 32  Cited Reference Count       5596 non-null   int64  \n",
      " 33  Times Cited, WoS Core       5596 non-null   int64  \n",
      " 34  Times Cited, All Databases  5596 non-null   int64  \n",
      " 35  180 Day Usage Count         5596 non-null   int64  \n",
      " 36  Since 2013 Usage Count      5596 non-null   int64  \n",
      " 37  Publisher                   5596 non-null   object \n",
      " 38  Publisher City              5596 non-null   object \n",
      " 39  Publisher Address           5596 non-null   object \n",
      " 40  ISSN                        4883 non-null   object \n",
      " 41  eISSN                       4403 non-null   object \n",
      " 42  ISBN                        3 non-null      object \n",
      " 43  Journal Abbreviation        5596 non-null   object \n",
      " 44  Journal ISO Abbreviation    5595 non-null   object \n",
      " 45  Publication Date            5188 non-null   object \n",
      " 46  Publication Year            5596 non-null   int64  \n",
      " 47  Volume                      5540 non-null   object \n",
      " 48  Issue                       4354 non-null   object \n",
      " 49  Part Number                 17 non-null     object \n",
      " 50  Supplement                  76 non-null     object \n",
      " 51  Special Issue               151 non-null    object \n",
      " 52  Meeting Abstract            0 non-null      float64\n",
      " 53  Start Page                  3833 non-null   object \n",
      " 54  End Page                    3833 non-null   object \n",
      " 55  Article Number              1763 non-null   object \n",
      " 56  DOI                         5566 non-null   object \n",
      " 57  DOI Link                    5566 non-null   float64\n",
      " 58  Book DOI                    0 non-null      float64\n",
      " 59  Early Access Date           706 non-null    object \n",
      " 60  Number of Pages             5596 non-null   int64  \n",
      " 61  WoS Categories              5595 non-null   object \n",
      " 62  Web of Science Index        5596 non-null   object \n",
      " 63  Research Areas              5595 non-null   object \n",
      " 64  IDS Number                  5596 non-null   object \n",
      " 65  Pubmed Id                   5201 non-null   float64\n",
      " 66  Open Access Designations    5596 non-null   object \n",
      " 67  Highly Cited Status         0 non-null      float64\n",
      " 68  Hot Paper Status            0 non-null      float64\n",
      " 69  Date of Export              5596 non-null   object \n",
      " 70  UT (Unique WOS ID)          5596 non-null   object \n",
      " 71  Web of Science Record       5596 non-null   int64  \n",
      " 72  text                        5596 non-null   object \n",
      "dtypes: float64(11), int64(8), object(54)\n",
      "memory usage: 3.2+ MB\n"
     ]
    }
   ],
   "source": [
    "art.info()"
   ]
  },
  {
   "cell_type": "code",
   "execution_count": 17,
   "metadata": {},
   "outputs": [],
   "source": [
    "docs = art['text']"
   ]
  },
  {
   "cell_type": "code",
   "execution_count": 25,
   "metadata": {},
   "outputs": [
    {
     "name": "stderr",
     "output_type": "stream",
     "text": [
      "2025-05-05 08:46:58,842 - BERTopic - Embedding - Transforming documents to embeddings.\n",
      "Batches: 100%|██████████| 175/175 [01:41<00:00,  1.73it/s]\n",
      "2025-05-05 08:48:42,228 - BERTopic - Embedding - Completed ✓\n",
      "2025-05-05 08:48:42,229 - BERTopic - Dimensionality - Fitting the dimensionality reduction algorithm\n",
      "2025-05-05 08:49:07,498 - BERTopic - Dimensionality - Completed ✓\n",
      "2025-05-05 08:49:07,499 - BERTopic - Cluster - Start clustering the reduced embeddings\n",
      "2025-05-05 08:49:07,639 - BERTopic - Cluster - Completed ✓\n",
      "2025-05-05 08:49:07,640 - BERTopic - Representation - Extracting topics using c-TF-IDF for topic reduction.\n",
      "2025-05-05 08:49:09,837 - BERTopic - Representation - Completed ✓\n",
      "2025-05-05 08:49:09,845 - BERTopic - Topic reduction - Reducing number of topics\n",
      "2025-05-05 08:49:09,854 - BERTopic - Representation - Fine-tuning topics using representation models.\n",
      "2025-05-05 08:49:14,260 - BERTopic - Representation - Completed ✓\n",
      "2025-05-05 08:49:14,268 - BERTopic - Topic reduction - Reduced number of topics from 85 to 11\n"
     ]
    }
   ],
   "source": [
    "\n",
    "from bertopic import BERTopic\n",
    "\n",
    "# Pre-calculate embeddings\n",
    "# from sentence_transformers import SentenceTransformer\n",
    "# embedding_model = SentenceTransformer(\"all-MiniLM-L6-v2\")\n",
    "# embeddings = embedding_model.encode(docs, show_progress_bar=True)\n",
    "\n",
    "\n",
    "# dimensionality reduction\n",
    "# from umap import UMAP\n",
    "import umap.umap_ as UMAP\n",
    "umap_model = UMAP.UMAP(n_neighbors=15, n_components=5, min_dist=0.0, metric='cosine', random_state=42)    # Prevent Stochastic Behavior with random_state\n",
    "\n",
    "# clustering (controlling number of topics)\n",
    "# from hdbscan import HDBSCAN\n",
    "# hdbscan_model = HDBSCAN(min_cluster_size=150, metric='euclidean', cluster_selection_method='eom', prediction_data=True)\n",
    "\n",
    "# Improve topic representations\n",
    "from sklearn.feature_extraction.text import CountVectorizer\n",
    "vectorizer_model = CountVectorizer(stop_words=\"english\", ngram_range=(1, 2))\n",
    "\n",
    "# Fine-tune your topic representations\n",
    "from bertopic.representation import KeyBERTInspired\n",
    "representation_model = KeyBERTInspired()\n",
    "\n",
    "topic_model = BERTopic(\n",
    "\n",
    "  # Pipeline models\n",
    "  # embedding_model=embedding_model,\n",
    "  umap_model=umap_model,\n",
    "  # hdbscan_model=hdbscan_model,\n",
    "  vectorizer_model=vectorizer_model,\n",
    "  representation_model=representation_model,\n",
    "\n",
    "  # Hyperparameters\n",
    "  nr_topics=nr_topics,\n",
    "  top_n_words=10,\n",
    "  verbose=True\n",
    ")\n",
    "\n",
    "topics, probs = topic_model.fit_transform(docs)\n",
    "\n"
   ]
  },
  {
   "cell_type": "code",
   "execution_count": 26,
   "metadata": {},
   "outputs": [],
   "source": [
    "topic_model.save(path=\".\", serialization=\"safetensors\", save_ctfidf=True)"
   ]
  },
  {
   "cell_type": "code",
   "execution_count": 27,
   "metadata": {},
   "outputs": [
    {
     "data": {
      "text/plain": [
       "11"
      ]
     },
     "execution_count": 27,
     "metadata": {},
     "output_type": "execute_result"
    }
   ],
   "source": [
    "nr_topics"
   ]
  },
  {
   "cell_type": "code",
   "execution_count": 28,
   "metadata": {},
   "outputs": [
    {
     "data": {
      "text/plain": [
       "array([0.        , 0.        , 0.86817102, 0.        , 0.        ,\n",
       "       1.        , 1.        , 0.        , 0.93935844, 0.92708201,\n",
       "       0.83470609, 0.787115  , 0.22766357, 0.        , 0.        ,\n",
       "       1.        , 0.56335879, 0.66178954, 0.        , 0.        ])"
      ]
     },
     "execution_count": 28,
     "metadata": {},
     "output_type": "execute_result"
    }
   ],
   "source": [
    "probs[:20]"
   ]
  },
  {
   "cell_type": "code",
   "execution_count": 29,
   "metadata": {},
   "outputs": [
    {
     "data": {
      "text/plain": [
       "11"
      ]
     },
     "execution_count": 29,
     "metadata": {},
     "output_type": "execute_result"
    }
   ],
   "source": [
    "opt_nr_topics = len(set(topics))\n",
    "opt_nr_topics"
   ]
  },
  {
   "cell_type": "code",
   "execution_count": 30,
   "metadata": {},
   "outputs": [
    {
     "ename": "ValueError",
     "evalue": "Mime type rendering requires nbformat>=4.2.0 but it is not installed",
     "output_type": "error",
     "traceback": [
      "\u001b[1;31m---------------------------------------------------------------------------\u001b[0m",
      "\u001b[1;31mValueError\u001b[0m                                Traceback (most recent call last)",
      "File \u001b[1;32m~\\AppData\\Roaming\\Python\\Python312\\site-packages\\IPython\\core\\formatters.py:984\u001b[0m, in \u001b[0;36mIPythonDisplayFormatter.__call__\u001b[1;34m(self, obj)\u001b[0m\n\u001b[0;32m    982\u001b[0m method \u001b[38;5;241m=\u001b[39m get_real_method(obj, \u001b[38;5;28mself\u001b[39m\u001b[38;5;241m.\u001b[39mprint_method)\n\u001b[0;32m    983\u001b[0m \u001b[38;5;28;01mif\u001b[39;00m method \u001b[38;5;129;01mis\u001b[39;00m \u001b[38;5;129;01mnot\u001b[39;00m \u001b[38;5;28;01mNone\u001b[39;00m:\n\u001b[1;32m--> 984\u001b[0m     \u001b[43mmethod\u001b[49m\u001b[43m(\u001b[49m\u001b[43m)\u001b[49m\n\u001b[0;32m    985\u001b[0m     \u001b[38;5;28;01mreturn\u001b[39;00m \u001b[38;5;28;01mTrue\u001b[39;00m\n",
      "File \u001b[1;32mc:\\Users\\jcor864\\AppData\\Local\\Programs\\Python\\Python312\\Lib\\site-packages\\plotly\\basedatatypes.py:833\u001b[0m, in \u001b[0;36mBaseFigure._ipython_display_\u001b[1;34m(self)\u001b[0m\n\u001b[0;32m    830\u001b[0m \u001b[38;5;28;01mimport\u001b[39;00m\u001b[38;5;250m \u001b[39m\u001b[38;5;21;01mplotly\u001b[39;00m\u001b[38;5;21;01m.\u001b[39;00m\u001b[38;5;21;01mio\u001b[39;00m\u001b[38;5;250m \u001b[39m\u001b[38;5;28;01mas\u001b[39;00m\u001b[38;5;250m \u001b[39m\u001b[38;5;21;01mpio\u001b[39;00m\n\u001b[0;32m    832\u001b[0m \u001b[38;5;28;01mif\u001b[39;00m pio\u001b[38;5;241m.\u001b[39mrenderers\u001b[38;5;241m.\u001b[39mrender_on_display \u001b[38;5;129;01mand\u001b[39;00m pio\u001b[38;5;241m.\u001b[39mrenderers\u001b[38;5;241m.\u001b[39mdefault:\n\u001b[1;32m--> 833\u001b[0m     \u001b[43mpio\u001b[49m\u001b[38;5;241;43m.\u001b[39;49m\u001b[43mshow\u001b[49m\u001b[43m(\u001b[49m\u001b[38;5;28;43mself\u001b[39;49m\u001b[43m)\u001b[49m\n\u001b[0;32m    834\u001b[0m \u001b[38;5;28;01melse\u001b[39;00m:\n\u001b[0;32m    835\u001b[0m     \u001b[38;5;28mprint\u001b[39m(\u001b[38;5;28mrepr\u001b[39m(\u001b[38;5;28mself\u001b[39m))\n",
      "File \u001b[1;32mc:\\Users\\jcor864\\AppData\\Local\\Programs\\Python\\Python312\\Lib\\site-packages\\plotly\\io\\_renderers.py:425\u001b[0m, in \u001b[0;36mshow\u001b[1;34m(fig, renderer, validate, **kwargs)\u001b[0m\n\u001b[0;32m    420\u001b[0m     \u001b[38;5;28;01mraise\u001b[39;00m \u001b[38;5;167;01mValueError\u001b[39;00m(\n\u001b[0;32m    421\u001b[0m         \u001b[38;5;124m\"\u001b[39m\u001b[38;5;124mMime type rendering requires ipython but it is not installed\u001b[39m\u001b[38;5;124m\"\u001b[39m\n\u001b[0;32m    422\u001b[0m     )\n\u001b[0;32m    424\u001b[0m \u001b[38;5;28;01mif\u001b[39;00m \u001b[38;5;129;01mnot\u001b[39;00m nbformat \u001b[38;5;129;01mor\u001b[39;00m Version(nbformat\u001b[38;5;241m.\u001b[39m__version__) \u001b[38;5;241m<\u001b[39m Version(\u001b[38;5;124m\"\u001b[39m\u001b[38;5;124m4.2.0\u001b[39m\u001b[38;5;124m\"\u001b[39m):\n\u001b[1;32m--> 425\u001b[0m     \u001b[38;5;28;01mraise\u001b[39;00m \u001b[38;5;167;01mValueError\u001b[39;00m(\n\u001b[0;32m    426\u001b[0m         \u001b[38;5;124m\"\u001b[39m\u001b[38;5;124mMime type rendering requires nbformat>=4.2.0 but it is not installed\u001b[39m\u001b[38;5;124m\"\u001b[39m\n\u001b[0;32m    427\u001b[0m     )\n\u001b[0;32m    429\u001b[0m display_jupyter_version_warnings()\n\u001b[0;32m    431\u001b[0m ipython_display\u001b[38;5;241m.\u001b[39mdisplay(bundle, raw\u001b[38;5;241m=\u001b[39m\u001b[38;5;28;01mTrue\u001b[39;00m)\n",
      "\u001b[1;31mValueError\u001b[0m: Mime type rendering requires nbformat>=4.2.0 but it is not installed"
     ]
    },
    {
     "data": {
      "application/vnd.plotly.v1+json": {
       "config": {
        "plotlyServerURL": "https://plot.ly"
       },
       "data": [
        {
         "marker": {
          "color": "#D55E00"
         },
         "orientation": "h",
         "type": "bar",
         "x": [
          0.286390095949173,
          0.2887447774410248,
          0.29867544770240784,
          0.30821043252944946,
          0.3167862892150879,
          0.34015098214149475,
          0.34390944242477417,
          0.4113450348377228,
          0.4115491509437561,
          0.4353157877922058
         ],
         "xaxis": "x",
         "y": [
          "tobacco  ",
          "smoking  ",
          "cannabis  ",
          "adulthood  ",
          "youth  ",
          "prevalence  ",
          "marijuana  ",
          "adolescence  ",
          "adolescent  ",
          "substance use  "
         ],
         "yaxis": "y"
        },
        {
         "marker": {
          "color": "#0072B2"
         },
         "orientation": "h",
         "type": "bar",
         "x": [
          0.2445606142282486,
          0.25057363510131836,
          0.30690252780914307,
          0.3158787488937378,
          0.32487764954566956,
          0.3455274701118469,
          0.369458943605423,
          0.4479731321334839,
          0.5101876854896545,
          0.6007471084594727
         ],
         "xaxis": "x2",
         "y": [
          "amygdala  ",
          "prenatal exposure  ",
          "adolescent adult  ",
          "adulthood  ",
          "drinking  ",
          "adolescent  ",
          "adolescence  ",
          "binge drinking  ",
          "ethanol  ",
          "ethanol exposure  "
         ],
         "yaxis": "y2"
        },
        {
         "marker": {
          "color": "#CC79A7"
         },
         "orientation": "h",
         "type": "bar",
         "x": [
          0.4185301959514618,
          0.4198264479637146,
          0.42829906940460205,
          0.43960219621658325,
          0.4460241198539734,
          0.4498913288116455,
          0.4623319208621979,
          0.4673660397529602,
          0.4817284345626831,
          0.5141507387161255
         ],
         "xaxis": "x3",
         "y": [
          "sexual initiation  ",
          "condom  ",
          "hiv infection  ",
          "sexual intercourse  ",
          "sexual behaviour  ",
          "hiv  ",
          "sexual behavior  ",
          "condom use  ",
          "sexually transmitted  ",
          "sexual risk  "
         ],
         "yaxis": "y3"
        },
        {
         "marker": {
          "color": "#E69F00"
         },
         "orientation": "h",
         "type": "bar",
         "x": [
          0.26390841603279114,
          0.27563169598579407,
          0.2794501483440399,
          0.29143765568733215,
          0.3013691008090973,
          0.30307430028915405,
          0.3303466737270355,
          0.3496735095977783,
          0.3745286464691162,
          0.4457639753818512
         ],
         "xaxis": "x4",
         "y": [
          "obese  ",
          "fatty  ",
          "prevalence  ",
          "obesity  ",
          "triglyceride  ",
          "cholesterol  ",
          "hepatic steatosis  ",
          "metabolic syndrome  ",
          "liver disease  ",
          "fatty liver  "
         ],
         "yaxis": "y4"
        },
        {
         "marker": {
          "color": "#56B4E9"
         },
         "orientation": "h",
         "type": "bar",
         "x": [
          0.24276264011859894,
          0.25033876299858093,
          0.26562735438346863,
          0.2688705325126648,
          0.2726392447948456,
          0.28162527084350586,
          0.3005619943141937,
          0.3030247390270233,
          0.3471430838108063,
          0.3651362359523773
         ],
         "xaxis": "x5",
         "y": [
          "risk factor  ",
          "mortality  ",
          "fracture  ",
          "intoxication  ",
          "adolescent  ",
          "accident  ",
          "severity  ",
          "injury  ",
          "acute intoxication  ",
          "trauma  "
         ],
         "yaxis": "y5"
        },
        {
         "marker": {
          "color": "#009E73"
         },
         "orientation": "h",
         "type": "bar",
         "x": [
          0.26821351051330566,
          0.26954784989356995,
          0.27841854095458984,
          0.2948668599128723,
          0.3517884612083435,
          0.35270702838897705,
          0.3565855324268341,
          0.38233256340026855,
          0.3947370946407318,
          0.47226497530937195
         ],
         "xaxis": "x6",
         "y": [
          "fatty acid  ",
          "ethyl  ",
          "spectrometry  ",
          "acetate  ",
          "yeast  ",
          "grape  ",
          "wine  ",
          "ethanol  ",
          "phenolic  ",
          "fermentation  "
         ],
         "yaxis": "y6"
        },
        {
         "marker": {
          "color": "#F0E442"
         },
         "orientation": "h",
         "type": "bar",
         "x": [
          0.41069093346595764,
          0.4258098006248474,
          0.4372217655181885,
          0.44034531712532043,
          0.44068872928619385,
          0.4541701674461365,
          0.46281707286834717,
          0.46705055236816406,
          0.49939242005348206,
          0.6381492018699646
         ],
         "xaxis": "x7",
         "y": [
          "relationship sleep  ",
          "sleepiness  ",
          "daytime sleepiness  ",
          "sleep duration  ",
          "sleep quality  ",
          "sleep loss  ",
          "sleep problem  ",
          "sleep difficulty  ",
          "sleep disturbance  ",
          "adolescent sleep  "
         ],
         "yaxis": "y7"
        },
        {
         "marker": {
          "color": "#D55E00"
         },
         "orientation": "h",
         "type": "bar",
         "x": [
          0.24533243477344513,
          0.24698607623577118,
          0.2510114312171936,
          0.2695983946323395,
          0.2703372836112976,
          0.2799563705921173,
          0.2866733968257904,
          0.3271104395389557,
          0.32977059483528137,
          0.421678751707077
         ],
         "xaxis": "x8",
         "y": [
          "anticoagulation  ",
          "anticoagulant  ",
          "ischemic attack  ",
          "oral anticoagulant  ",
          "echocardiography  ",
          "minor stroke  ",
          "cardiac death  ",
          "stroke  ",
          "atrial fibrillation  ",
          "ischemic stroke  "
         ],
         "yaxis": "y8"
        },
        {
         "marker": {
          "color": "#0072B2"
         },
         "orientation": "h",
         "type": "bar",
         "x": [
          0.3474230468273163,
          0.3495079576969147,
          0.3758910000324249,
          0.38361743092536926,
          0.39490872621536255,
          0.40133482217788696,
          0.432728111743927,
          0.4373283386230469,
          0.4961787462234497,
          0.5286383032798767
         ],
         "xaxis": "x9",
         "y": [
          "bone  ",
          "hip femoral  ",
          "peak bone  ",
          "bone accretion  ",
          "bone mass  ",
          "bone accrual  ",
          "fracture risk  ",
          "bone mineral  ",
          "osteoporosis  ",
          "bone health  "
         ],
         "yaxis": "y9"
        },
        {
         "marker": {
          "color": "#CC79A7"
         },
         "orientation": "h",
         "type": "bar",
         "x": [
          0.6158421635627747,
          0.6269797682762146,
          0.6310034394264221,
          0.6625761389732361,
          0.6669515371322632,
          0.674893319606781,
          0.6757965683937073,
          0.6820491552352905,
          0.6860567927360535,
          0.7076904773712158
         ],
         "xaxis": "x10",
         "y": [
          "nicotine  ",
          "nicotine use  ",
          "nicotine binge  ",
          "nicotine dependence  ",
          "exposure nicotine  ",
          "effect nicotine  ",
          "nicotine exposure  ",
          "nicotine consumption  ",
          "adolescent nicotine  ",
          "nicotine behavioral  "
         ],
         "yaxis": "y10"
        }
       ],
       "layout": {
        "annotations": [
         {
          "font": {
           "size": 16
          },
          "showarrow": false,
          "text": "Topic 0",
          "x": 0.0875,
          "xanchor": "center",
          "xref": "paper",
          "y": 1,
          "yanchor": "bottom",
          "yref": "paper"
         },
         {
          "font": {
           "size": 16
          },
          "showarrow": false,
          "text": "Topic 1",
          "x": 0.36250000000000004,
          "xanchor": "center",
          "xref": "paper",
          "y": 1,
          "yanchor": "bottom",
          "yref": "paper"
         },
         {
          "font": {
           "size": 16
          },
          "showarrow": false,
          "text": "Topic 2",
          "x": 0.6375000000000001,
          "xanchor": "center",
          "xref": "paper",
          "y": 1,
          "yanchor": "bottom",
          "yref": "paper"
         },
         {
          "font": {
           "size": 16
          },
          "showarrow": false,
          "text": "Topic 3",
          "x": 0.9125,
          "xanchor": "center",
          "xref": "paper",
          "y": 1,
          "yanchor": "bottom",
          "yref": "paper"
         },
         {
          "font": {
           "size": 16
          },
          "showarrow": false,
          "text": "Topic 4",
          "x": 0.0875,
          "xanchor": "center",
          "xref": "paper",
          "y": 0.6222222222222222,
          "yanchor": "bottom",
          "yref": "paper"
         },
         {
          "font": {
           "size": 16
          },
          "showarrow": false,
          "text": "Topic 5",
          "x": 0.36250000000000004,
          "xanchor": "center",
          "xref": "paper",
          "y": 0.6222222222222222,
          "yanchor": "bottom",
          "yref": "paper"
         },
         {
          "font": {
           "size": 16
          },
          "showarrow": false,
          "text": "Topic 6",
          "x": 0.6375000000000001,
          "xanchor": "center",
          "xref": "paper",
          "y": 0.6222222222222222,
          "yanchor": "bottom",
          "yref": "paper"
         },
         {
          "font": {
           "size": 16
          },
          "showarrow": false,
          "text": "Topic 7",
          "x": 0.9125,
          "xanchor": "center",
          "xref": "paper",
          "y": 0.6222222222222222,
          "yanchor": "bottom",
          "yref": "paper"
         },
         {
          "font": {
           "size": 16
          },
          "showarrow": false,
          "text": "Topic 8",
          "x": 0.0875,
          "xanchor": "center",
          "xref": "paper",
          "y": 0.24444444444444446,
          "yanchor": "bottom",
          "yref": "paper"
         },
         {
          "font": {
           "size": 16
          },
          "showarrow": false,
          "text": "Topic 9",
          "x": 0.36250000000000004,
          "xanchor": "center",
          "xref": "paper",
          "y": 0.24444444444444446,
          "yanchor": "bottom",
          "yref": "paper"
         }
        ],
        "height": 1050,
        "hoverlabel": {
         "bgcolor": "white",
         "font": {
          "family": "Rockwell",
          "size": 16
         }
        },
        "showlegend": false,
        "template": {
         "data": {
          "bar": [
           {
            "error_x": {
             "color": "#2a3f5f"
            },
            "error_y": {
             "color": "#2a3f5f"
            },
            "marker": {
             "line": {
              "color": "white",
              "width": 0.5
             },
             "pattern": {
              "fillmode": "overlay",
              "size": 10,
              "solidity": 0.2
             }
            },
            "type": "bar"
           }
          ],
          "barpolar": [
           {
            "marker": {
             "line": {
              "color": "white",
              "width": 0.5
             },
             "pattern": {
              "fillmode": "overlay",
              "size": 10,
              "solidity": 0.2
             }
            },
            "type": "barpolar"
           }
          ],
          "carpet": [
           {
            "aaxis": {
             "endlinecolor": "#2a3f5f",
             "gridcolor": "#C8D4E3",
             "linecolor": "#C8D4E3",
             "minorgridcolor": "#C8D4E3",
             "startlinecolor": "#2a3f5f"
            },
            "baxis": {
             "endlinecolor": "#2a3f5f",
             "gridcolor": "#C8D4E3",
             "linecolor": "#C8D4E3",
             "minorgridcolor": "#C8D4E3",
             "startlinecolor": "#2a3f5f"
            },
            "type": "carpet"
           }
          ],
          "choropleth": [
           {
            "colorbar": {
             "outlinewidth": 0,
             "ticks": ""
            },
            "type": "choropleth"
           }
          ],
          "contour": [
           {
            "colorbar": {
             "outlinewidth": 0,
             "ticks": ""
            },
            "colorscale": [
             [
              0,
              "#0d0887"
             ],
             [
              0.1111111111111111,
              "#46039f"
             ],
             [
              0.2222222222222222,
              "#7201a8"
             ],
             [
              0.3333333333333333,
              "#9c179e"
             ],
             [
              0.4444444444444444,
              "#bd3786"
             ],
             [
              0.5555555555555556,
              "#d8576b"
             ],
             [
              0.6666666666666666,
              "#ed7953"
             ],
             [
              0.7777777777777778,
              "#fb9f3a"
             ],
             [
              0.8888888888888888,
              "#fdca26"
             ],
             [
              1,
              "#f0f921"
             ]
            ],
            "type": "contour"
           }
          ],
          "contourcarpet": [
           {
            "colorbar": {
             "outlinewidth": 0,
             "ticks": ""
            },
            "type": "contourcarpet"
           }
          ],
          "heatmap": [
           {
            "colorbar": {
             "outlinewidth": 0,
             "ticks": ""
            },
            "colorscale": [
             [
              0,
              "#0d0887"
             ],
             [
              0.1111111111111111,
              "#46039f"
             ],
             [
              0.2222222222222222,
              "#7201a8"
             ],
             [
              0.3333333333333333,
              "#9c179e"
             ],
             [
              0.4444444444444444,
              "#bd3786"
             ],
             [
              0.5555555555555556,
              "#d8576b"
             ],
             [
              0.6666666666666666,
              "#ed7953"
             ],
             [
              0.7777777777777778,
              "#fb9f3a"
             ],
             [
              0.8888888888888888,
              "#fdca26"
             ],
             [
              1,
              "#f0f921"
             ]
            ],
            "type": "heatmap"
           }
          ],
          "histogram": [
           {
            "marker": {
             "pattern": {
              "fillmode": "overlay",
              "size": 10,
              "solidity": 0.2
             }
            },
            "type": "histogram"
           }
          ],
          "histogram2d": [
           {
            "colorbar": {
             "outlinewidth": 0,
             "ticks": ""
            },
            "colorscale": [
             [
              0,
              "#0d0887"
             ],
             [
              0.1111111111111111,
              "#46039f"
             ],
             [
              0.2222222222222222,
              "#7201a8"
             ],
             [
              0.3333333333333333,
              "#9c179e"
             ],
             [
              0.4444444444444444,
              "#bd3786"
             ],
             [
              0.5555555555555556,
              "#d8576b"
             ],
             [
              0.6666666666666666,
              "#ed7953"
             ],
             [
              0.7777777777777778,
              "#fb9f3a"
             ],
             [
              0.8888888888888888,
              "#fdca26"
             ],
             [
              1,
              "#f0f921"
             ]
            ],
            "type": "histogram2d"
           }
          ],
          "histogram2dcontour": [
           {
            "colorbar": {
             "outlinewidth": 0,
             "ticks": ""
            },
            "colorscale": [
             [
              0,
              "#0d0887"
             ],
             [
              0.1111111111111111,
              "#46039f"
             ],
             [
              0.2222222222222222,
              "#7201a8"
             ],
             [
              0.3333333333333333,
              "#9c179e"
             ],
             [
              0.4444444444444444,
              "#bd3786"
             ],
             [
              0.5555555555555556,
              "#d8576b"
             ],
             [
              0.6666666666666666,
              "#ed7953"
             ],
             [
              0.7777777777777778,
              "#fb9f3a"
             ],
             [
              0.8888888888888888,
              "#fdca26"
             ],
             [
              1,
              "#f0f921"
             ]
            ],
            "type": "histogram2dcontour"
           }
          ],
          "mesh3d": [
           {
            "colorbar": {
             "outlinewidth": 0,
             "ticks": ""
            },
            "type": "mesh3d"
           }
          ],
          "parcoords": [
           {
            "line": {
             "colorbar": {
              "outlinewidth": 0,
              "ticks": ""
             }
            },
            "type": "parcoords"
           }
          ],
          "pie": [
           {
            "automargin": true,
            "type": "pie"
           }
          ],
          "scatter": [
           {
            "fillpattern": {
             "fillmode": "overlay",
             "size": 10,
             "solidity": 0.2
            },
            "type": "scatter"
           }
          ],
          "scatter3d": [
           {
            "line": {
             "colorbar": {
              "outlinewidth": 0,
              "ticks": ""
             }
            },
            "marker": {
             "colorbar": {
              "outlinewidth": 0,
              "ticks": ""
             }
            },
            "type": "scatter3d"
           }
          ],
          "scattercarpet": [
           {
            "marker": {
             "colorbar": {
              "outlinewidth": 0,
              "ticks": ""
             }
            },
            "type": "scattercarpet"
           }
          ],
          "scattergeo": [
           {
            "marker": {
             "colorbar": {
              "outlinewidth": 0,
              "ticks": ""
             }
            },
            "type": "scattergeo"
           }
          ],
          "scattergl": [
           {
            "marker": {
             "colorbar": {
              "outlinewidth": 0,
              "ticks": ""
             }
            },
            "type": "scattergl"
           }
          ],
          "scattermap": [
           {
            "marker": {
             "colorbar": {
              "outlinewidth": 0,
              "ticks": ""
             }
            },
            "type": "scattermap"
           }
          ],
          "scattermapbox": [
           {
            "marker": {
             "colorbar": {
              "outlinewidth": 0,
              "ticks": ""
             }
            },
            "type": "scattermapbox"
           }
          ],
          "scatterpolar": [
           {
            "marker": {
             "colorbar": {
              "outlinewidth": 0,
              "ticks": ""
             }
            },
            "type": "scatterpolar"
           }
          ],
          "scatterpolargl": [
           {
            "marker": {
             "colorbar": {
              "outlinewidth": 0,
              "ticks": ""
             }
            },
            "type": "scatterpolargl"
           }
          ],
          "scatterternary": [
           {
            "marker": {
             "colorbar": {
              "outlinewidth": 0,
              "ticks": ""
             }
            },
            "type": "scatterternary"
           }
          ],
          "surface": [
           {
            "colorbar": {
             "outlinewidth": 0,
             "ticks": ""
            },
            "colorscale": [
             [
              0,
              "#0d0887"
             ],
             [
              0.1111111111111111,
              "#46039f"
             ],
             [
              0.2222222222222222,
              "#7201a8"
             ],
             [
              0.3333333333333333,
              "#9c179e"
             ],
             [
              0.4444444444444444,
              "#bd3786"
             ],
             [
              0.5555555555555556,
              "#d8576b"
             ],
             [
              0.6666666666666666,
              "#ed7953"
             ],
             [
              0.7777777777777778,
              "#fb9f3a"
             ],
             [
              0.8888888888888888,
              "#fdca26"
             ],
             [
              1,
              "#f0f921"
             ]
            ],
            "type": "surface"
           }
          ],
          "table": [
           {
            "cells": {
             "fill": {
              "color": "#EBF0F8"
             },
             "line": {
              "color": "white"
             }
            },
            "header": {
             "fill": {
              "color": "#C8D4E3"
             },
             "line": {
              "color": "white"
             }
            },
            "type": "table"
           }
          ]
         },
         "layout": {
          "annotationdefaults": {
           "arrowcolor": "#2a3f5f",
           "arrowhead": 0,
           "arrowwidth": 1
          },
          "autotypenumbers": "strict",
          "coloraxis": {
           "colorbar": {
            "outlinewidth": 0,
            "ticks": ""
           }
          },
          "colorscale": {
           "diverging": [
            [
             0,
             "#8e0152"
            ],
            [
             0.1,
             "#c51b7d"
            ],
            [
             0.2,
             "#de77ae"
            ],
            [
             0.3,
             "#f1b6da"
            ],
            [
             0.4,
             "#fde0ef"
            ],
            [
             0.5,
             "#f7f7f7"
            ],
            [
             0.6,
             "#e6f5d0"
            ],
            [
             0.7,
             "#b8e186"
            ],
            [
             0.8,
             "#7fbc41"
            ],
            [
             0.9,
             "#4d9221"
            ],
            [
             1,
             "#276419"
            ]
           ],
           "sequential": [
            [
             0,
             "#0d0887"
            ],
            [
             0.1111111111111111,
             "#46039f"
            ],
            [
             0.2222222222222222,
             "#7201a8"
            ],
            [
             0.3333333333333333,
             "#9c179e"
            ],
            [
             0.4444444444444444,
             "#bd3786"
            ],
            [
             0.5555555555555556,
             "#d8576b"
            ],
            [
             0.6666666666666666,
             "#ed7953"
            ],
            [
             0.7777777777777778,
             "#fb9f3a"
            ],
            [
             0.8888888888888888,
             "#fdca26"
            ],
            [
             1,
             "#f0f921"
            ]
           ],
           "sequentialminus": [
            [
             0,
             "#0d0887"
            ],
            [
             0.1111111111111111,
             "#46039f"
            ],
            [
             0.2222222222222222,
             "#7201a8"
            ],
            [
             0.3333333333333333,
             "#9c179e"
            ],
            [
             0.4444444444444444,
             "#bd3786"
            ],
            [
             0.5555555555555556,
             "#d8576b"
            ],
            [
             0.6666666666666666,
             "#ed7953"
            ],
            [
             0.7777777777777778,
             "#fb9f3a"
            ],
            [
             0.8888888888888888,
             "#fdca26"
            ],
            [
             1,
             "#f0f921"
            ]
           ]
          },
          "colorway": [
           "#636efa",
           "#EF553B",
           "#00cc96",
           "#ab63fa",
           "#FFA15A",
           "#19d3f3",
           "#FF6692",
           "#B6E880",
           "#FF97FF",
           "#FECB52"
          ],
          "font": {
           "color": "#2a3f5f"
          },
          "geo": {
           "bgcolor": "white",
           "lakecolor": "white",
           "landcolor": "white",
           "showlakes": true,
           "showland": true,
           "subunitcolor": "#C8D4E3"
          },
          "hoverlabel": {
           "align": "left"
          },
          "hovermode": "closest",
          "mapbox": {
           "style": "light"
          },
          "paper_bgcolor": "white",
          "plot_bgcolor": "white",
          "polar": {
           "angularaxis": {
            "gridcolor": "#EBF0F8",
            "linecolor": "#EBF0F8",
            "ticks": ""
           },
           "bgcolor": "white",
           "radialaxis": {
            "gridcolor": "#EBF0F8",
            "linecolor": "#EBF0F8",
            "ticks": ""
           }
          },
          "scene": {
           "xaxis": {
            "backgroundcolor": "white",
            "gridcolor": "#DFE8F3",
            "gridwidth": 2,
            "linecolor": "#EBF0F8",
            "showbackground": true,
            "ticks": "",
            "zerolinecolor": "#EBF0F8"
           },
           "yaxis": {
            "backgroundcolor": "white",
            "gridcolor": "#DFE8F3",
            "gridwidth": 2,
            "linecolor": "#EBF0F8",
            "showbackground": true,
            "ticks": "",
            "zerolinecolor": "#EBF0F8"
           },
           "zaxis": {
            "backgroundcolor": "white",
            "gridcolor": "#DFE8F3",
            "gridwidth": 2,
            "linecolor": "#EBF0F8",
            "showbackground": true,
            "ticks": "",
            "zerolinecolor": "#EBF0F8"
           }
          },
          "shapedefaults": {
           "line": {
            "color": "#2a3f5f"
           }
          },
          "ternary": {
           "aaxis": {
            "gridcolor": "#DFE8F3",
            "linecolor": "#A2B1C6",
            "ticks": ""
           },
           "baxis": {
            "gridcolor": "#DFE8F3",
            "linecolor": "#A2B1C6",
            "ticks": ""
           },
           "bgcolor": "white",
           "caxis": {
            "gridcolor": "#DFE8F3",
            "linecolor": "#A2B1C6",
            "ticks": ""
           }
          },
          "title": {
           "x": 0.05
          },
          "xaxis": {
           "automargin": true,
           "gridcolor": "#EBF0F8",
           "linecolor": "#EBF0F8",
           "ticks": "",
           "title": {
            "standoff": 15
           },
           "zerolinecolor": "#EBF0F8",
           "zerolinewidth": 2
          },
          "yaxis": {
           "automargin": true,
           "gridcolor": "#EBF0F8",
           "linecolor": "#EBF0F8",
           "ticks": "",
           "title": {
            "standoff": 15
           },
           "zerolinecolor": "#EBF0F8",
           "zerolinewidth": 2
          }
         }
        },
        "title": {
         "font": {
          "color": "Black",
          "size": 22
         },
         "text": "Topic Word Scores",
         "x": 0.5,
         "xanchor": "center",
         "yanchor": "top"
        },
        "width": 1400,
        "xaxis": {
         "anchor": "y",
         "domain": [
          0,
          0.175
         ],
         "showgrid": true
        },
        "xaxis10": {
         "anchor": "y10",
         "domain": [
          0.275,
          0.45
         ],
         "showgrid": true
        },
        "xaxis11": {
         "anchor": "y11",
         "domain": [
          0.55,
          0.7250000000000001
         ],
         "showgrid": true
        },
        "xaxis12": {
         "anchor": "y12",
         "domain": [
          0.825,
          1
         ],
         "showgrid": true
        },
        "xaxis2": {
         "anchor": "y2",
         "domain": [
          0.275,
          0.45
         ],
         "showgrid": true
        },
        "xaxis3": {
         "anchor": "y3",
         "domain": [
          0.55,
          0.7250000000000001
         ],
         "showgrid": true
        },
        "xaxis4": {
         "anchor": "y4",
         "domain": [
          0.825,
          1
         ],
         "showgrid": true
        },
        "xaxis5": {
         "anchor": "y5",
         "domain": [
          0,
          0.175
         ],
         "showgrid": true
        },
        "xaxis6": {
         "anchor": "y6",
         "domain": [
          0.275,
          0.45
         ],
         "showgrid": true
        },
        "xaxis7": {
         "anchor": "y7",
         "domain": [
          0.55,
          0.7250000000000001
         ],
         "showgrid": true
        },
        "xaxis8": {
         "anchor": "y8",
         "domain": [
          0.825,
          1
         ],
         "showgrid": true
        },
        "xaxis9": {
         "anchor": "y9",
         "domain": [
          0,
          0.175
         ],
         "showgrid": true
        },
        "yaxis": {
         "anchor": "x",
         "domain": [
          0.7555555555555555,
          1
         ],
         "showgrid": true
        },
        "yaxis10": {
         "anchor": "x10",
         "domain": [
          0,
          0.24444444444444446
         ],
         "showgrid": true
        },
        "yaxis11": {
         "anchor": "x11",
         "domain": [
          0,
          0.24444444444444446
         ],
         "showgrid": true
        },
        "yaxis12": {
         "anchor": "x12",
         "domain": [
          0,
          0.24444444444444446
         ],
         "showgrid": true
        },
        "yaxis2": {
         "anchor": "x2",
         "domain": [
          0.7555555555555555,
          1
         ],
         "showgrid": true
        },
        "yaxis3": {
         "anchor": "x3",
         "domain": [
          0.7555555555555555,
          1
         ],
         "showgrid": true
        },
        "yaxis4": {
         "anchor": "x4",
         "domain": [
          0.7555555555555555,
          1
         ],
         "showgrid": true
        },
        "yaxis5": {
         "anchor": "x5",
         "domain": [
          0.37777777777777777,
          0.6222222222222222
         ],
         "showgrid": true
        },
        "yaxis6": {
         "anchor": "x6",
         "domain": [
          0.37777777777777777,
          0.6222222222222222
         ],
         "showgrid": true
        },
        "yaxis7": {
         "anchor": "x7",
         "domain": [
          0.37777777777777777,
          0.6222222222222222
         ],
         "showgrid": true
        },
        "yaxis8": {
         "anchor": "x8",
         "domain": [
          0.37777777777777777,
          0.6222222222222222
         ],
         "showgrid": true
        },
        "yaxis9": {
         "anchor": "x9",
         "domain": [
          0,
          0.24444444444444446
         ],
         "showgrid": true
        }
       }
      },
      "text/html": [
       "<div>                        <script type=\"text/javascript\">window.PlotlyConfig = {MathJaxConfig: 'local'};</script>\n",
       "        <script charset=\"utf-8\" src=\"https://cdn.plot.ly/plotly-3.0.1.min.js\"></script>                <div id=\"df2928d3-a6fd-416c-850a-7cbed121343d\" class=\"plotly-graph-div\" style=\"height:1050px; width:1400px;\"></div>            <script type=\"text/javascript\">                window.PLOTLYENV=window.PLOTLYENV || {};                                if (document.getElementById(\"df2928d3-a6fd-416c-850a-7cbed121343d\")) {                    Plotly.newPlot(                        \"df2928d3-a6fd-416c-850a-7cbed121343d\",                        [{\"marker\":{\"color\":\"#D55E00\"},\"orientation\":\"h\",\"x\":[0.286390095949173,0.2887447774410248,0.29867544770240784,0.30821043252944946,0.3167862892150879,0.34015098214149475,0.34390944242477417,0.4113450348377228,0.4115491509437561,0.4353157877922058],\"y\":[\"tobacco  \",\"smoking  \",\"cannabis  \",\"adulthood  \",\"youth  \",\"prevalence  \",\"marijuana  \",\"adolescence  \",\"adolescent  \",\"substance use  \"],\"type\":\"bar\",\"xaxis\":\"x\",\"yaxis\":\"y\"},{\"marker\":{\"color\":\"#0072B2\"},\"orientation\":\"h\",\"x\":[0.2445606142282486,0.25057363510131836,0.30690252780914307,0.3158787488937378,0.32487764954566956,0.3455274701118469,0.369458943605423,0.4479731321334839,0.5101876854896545,0.6007471084594727],\"y\":[\"amygdala  \",\"prenatal exposure  \",\"adolescent adult  \",\"adulthood  \",\"drinking  \",\"adolescent  \",\"adolescence  \",\"binge drinking  \",\"ethanol  \",\"ethanol exposure  \"],\"type\":\"bar\",\"xaxis\":\"x2\",\"yaxis\":\"y2\"},{\"marker\":{\"color\":\"#CC79A7\"},\"orientation\":\"h\",\"x\":[0.4185301959514618,0.4198264479637146,0.42829906940460205,0.43960219621658325,0.4460241198539734,0.4498913288116455,0.4623319208621979,0.4673660397529602,0.4817284345626831,0.5141507387161255],\"y\":[\"sexual initiation  \",\"condom  \",\"hiv infection  \",\"sexual intercourse  \",\"sexual behaviour  \",\"hiv  \",\"sexual behavior  \",\"condom use  \",\"sexually transmitted  \",\"sexual risk  \"],\"type\":\"bar\",\"xaxis\":\"x3\",\"yaxis\":\"y3\"},{\"marker\":{\"color\":\"#E69F00\"},\"orientation\":\"h\",\"x\":[0.26390841603279114,0.27563169598579407,0.2794501483440399,0.29143765568733215,0.3013691008090973,0.30307430028915405,0.3303466737270355,0.3496735095977783,0.3745286464691162,0.4457639753818512],\"y\":[\"obese  \",\"fatty  \",\"prevalence  \",\"obesity  \",\"triglyceride  \",\"cholesterol  \",\"hepatic steatosis  \",\"metabolic syndrome  \",\"liver disease  \",\"fatty liver  \"],\"type\":\"bar\",\"xaxis\":\"x4\",\"yaxis\":\"y4\"},{\"marker\":{\"color\":\"#56B4E9\"},\"orientation\":\"h\",\"x\":[0.24276264011859894,0.25033876299858093,0.26562735438346863,0.2688705325126648,0.2726392447948456,0.28162527084350586,0.3005619943141937,0.3030247390270233,0.3471430838108063,0.3651362359523773],\"y\":[\"risk factor  \",\"mortality  \",\"fracture  \",\"intoxication  \",\"adolescent  \",\"accident  \",\"severity  \",\"injury  \",\"acute intoxication  \",\"trauma  \"],\"type\":\"bar\",\"xaxis\":\"x5\",\"yaxis\":\"y5\"},{\"marker\":{\"color\":\"#009E73\"},\"orientation\":\"h\",\"x\":[0.26821351051330566,0.26954784989356995,0.27841854095458984,0.2948668599128723,0.3517884612083435,0.35270702838897705,0.3565855324268341,0.38233256340026855,0.3947370946407318,0.47226497530937195],\"y\":[\"fatty acid  \",\"ethyl  \",\"spectrometry  \",\"acetate  \",\"yeast  \",\"grape  \",\"wine  \",\"ethanol  \",\"phenolic  \",\"fermentation  \"],\"type\":\"bar\",\"xaxis\":\"x6\",\"yaxis\":\"y6\"},{\"marker\":{\"color\":\"#F0E442\"},\"orientation\":\"h\",\"x\":[0.41069093346595764,0.4258098006248474,0.4372217655181885,0.44034531712532043,0.44068872928619385,0.4541701674461365,0.46281707286834717,0.46705055236816406,0.49939242005348206,0.6381492018699646],\"y\":[\"relationship sleep  \",\"sleepiness  \",\"daytime sleepiness  \",\"sleep duration  \",\"sleep quality  \",\"sleep loss  \",\"sleep problem  \",\"sleep difficulty  \",\"sleep disturbance  \",\"adolescent sleep  \"],\"type\":\"bar\",\"xaxis\":\"x7\",\"yaxis\":\"y7\"},{\"marker\":{\"color\":\"#D55E00\"},\"orientation\":\"h\",\"x\":[0.24533243477344513,0.24698607623577118,0.2510114312171936,0.2695983946323395,0.2703372836112976,0.2799563705921173,0.2866733968257904,0.3271104395389557,0.32977059483528137,0.421678751707077],\"y\":[\"anticoagulation  \",\"anticoagulant  \",\"ischemic attack  \",\"oral anticoagulant  \",\"echocardiography  \",\"minor stroke  \",\"cardiac death  \",\"stroke  \",\"atrial fibrillation  \",\"ischemic stroke  \"],\"type\":\"bar\",\"xaxis\":\"x8\",\"yaxis\":\"y8\"},{\"marker\":{\"color\":\"#0072B2\"},\"orientation\":\"h\",\"x\":[0.3474230468273163,0.3495079576969147,0.3758910000324249,0.38361743092536926,0.39490872621536255,0.40133482217788696,0.432728111743927,0.4373283386230469,0.4961787462234497,0.5286383032798767],\"y\":[\"bone  \",\"hip femoral  \",\"peak bone  \",\"bone accretion  \",\"bone mass  \",\"bone accrual  \",\"fracture risk  \",\"bone mineral  \",\"osteoporosis  \",\"bone health  \"],\"type\":\"bar\",\"xaxis\":\"x9\",\"yaxis\":\"y9\"},{\"marker\":{\"color\":\"#CC79A7\"},\"orientation\":\"h\",\"x\":[0.6158421635627747,0.6269797682762146,0.6310034394264221,0.6625761389732361,0.6669515371322632,0.674893319606781,0.6757965683937073,0.6820491552352905,0.6860567927360535,0.7076904773712158],\"y\":[\"nicotine  \",\"nicotine use  \",\"nicotine binge  \",\"nicotine dependence  \",\"exposure nicotine  \",\"effect nicotine  \",\"nicotine exposure  \",\"nicotine consumption  \",\"adolescent nicotine  \",\"nicotine behavioral  \"],\"type\":\"bar\",\"xaxis\":\"x10\",\"yaxis\":\"y10\"}],                        {\"template\":{\"data\":{\"barpolar\":[{\"marker\":{\"line\":{\"color\":\"white\",\"width\":0.5},\"pattern\":{\"fillmode\":\"overlay\",\"size\":10,\"solidity\":0.2}},\"type\":\"barpolar\"}],\"bar\":[{\"error_x\":{\"color\":\"#2a3f5f\"},\"error_y\":{\"color\":\"#2a3f5f\"},\"marker\":{\"line\":{\"color\":\"white\",\"width\":0.5},\"pattern\":{\"fillmode\":\"overlay\",\"size\":10,\"solidity\":0.2}},\"type\":\"bar\"}],\"carpet\":[{\"aaxis\":{\"endlinecolor\":\"#2a3f5f\",\"gridcolor\":\"#C8D4E3\",\"linecolor\":\"#C8D4E3\",\"minorgridcolor\":\"#C8D4E3\",\"startlinecolor\":\"#2a3f5f\"},\"baxis\":{\"endlinecolor\":\"#2a3f5f\",\"gridcolor\":\"#C8D4E3\",\"linecolor\":\"#C8D4E3\",\"minorgridcolor\":\"#C8D4E3\",\"startlinecolor\":\"#2a3f5f\"},\"type\":\"carpet\"}],\"choropleth\":[{\"colorbar\":{\"outlinewidth\":0,\"ticks\":\"\"},\"type\":\"choropleth\"}],\"contourcarpet\":[{\"colorbar\":{\"outlinewidth\":0,\"ticks\":\"\"},\"type\":\"contourcarpet\"}],\"contour\":[{\"colorbar\":{\"outlinewidth\":0,\"ticks\":\"\"},\"colorscale\":[[0.0,\"#0d0887\"],[0.1111111111111111,\"#46039f\"],[0.2222222222222222,\"#7201a8\"],[0.3333333333333333,\"#9c179e\"],[0.4444444444444444,\"#bd3786\"],[0.5555555555555556,\"#d8576b\"],[0.6666666666666666,\"#ed7953\"],[0.7777777777777778,\"#fb9f3a\"],[0.8888888888888888,\"#fdca26\"],[1.0,\"#f0f921\"]],\"type\":\"contour\"}],\"heatmap\":[{\"colorbar\":{\"outlinewidth\":0,\"ticks\":\"\"},\"colorscale\":[[0.0,\"#0d0887\"],[0.1111111111111111,\"#46039f\"],[0.2222222222222222,\"#7201a8\"],[0.3333333333333333,\"#9c179e\"],[0.4444444444444444,\"#bd3786\"],[0.5555555555555556,\"#d8576b\"],[0.6666666666666666,\"#ed7953\"],[0.7777777777777778,\"#fb9f3a\"],[0.8888888888888888,\"#fdca26\"],[1.0,\"#f0f921\"]],\"type\":\"heatmap\"}],\"histogram2dcontour\":[{\"colorbar\":{\"outlinewidth\":0,\"ticks\":\"\"},\"colorscale\":[[0.0,\"#0d0887\"],[0.1111111111111111,\"#46039f\"],[0.2222222222222222,\"#7201a8\"],[0.3333333333333333,\"#9c179e\"],[0.4444444444444444,\"#bd3786\"],[0.5555555555555556,\"#d8576b\"],[0.6666666666666666,\"#ed7953\"],[0.7777777777777778,\"#fb9f3a\"],[0.8888888888888888,\"#fdca26\"],[1.0,\"#f0f921\"]],\"type\":\"histogram2dcontour\"}],\"histogram2d\":[{\"colorbar\":{\"outlinewidth\":0,\"ticks\":\"\"},\"colorscale\":[[0.0,\"#0d0887\"],[0.1111111111111111,\"#46039f\"],[0.2222222222222222,\"#7201a8\"],[0.3333333333333333,\"#9c179e\"],[0.4444444444444444,\"#bd3786\"],[0.5555555555555556,\"#d8576b\"],[0.6666666666666666,\"#ed7953\"],[0.7777777777777778,\"#fb9f3a\"],[0.8888888888888888,\"#fdca26\"],[1.0,\"#f0f921\"]],\"type\":\"histogram2d\"}],\"histogram\":[{\"marker\":{\"pattern\":{\"fillmode\":\"overlay\",\"size\":10,\"solidity\":0.2}},\"type\":\"histogram\"}],\"mesh3d\":[{\"colorbar\":{\"outlinewidth\":0,\"ticks\":\"\"},\"type\":\"mesh3d\"}],\"parcoords\":[{\"line\":{\"colorbar\":{\"outlinewidth\":0,\"ticks\":\"\"}},\"type\":\"parcoords\"}],\"pie\":[{\"automargin\":true,\"type\":\"pie\"}],\"scatter3d\":[{\"line\":{\"colorbar\":{\"outlinewidth\":0,\"ticks\":\"\"}},\"marker\":{\"colorbar\":{\"outlinewidth\":0,\"ticks\":\"\"}},\"type\":\"scatter3d\"}],\"scattercarpet\":[{\"marker\":{\"colorbar\":{\"outlinewidth\":0,\"ticks\":\"\"}},\"type\":\"scattercarpet\"}],\"scattergeo\":[{\"marker\":{\"colorbar\":{\"outlinewidth\":0,\"ticks\":\"\"}},\"type\":\"scattergeo\"}],\"scattergl\":[{\"marker\":{\"colorbar\":{\"outlinewidth\":0,\"ticks\":\"\"}},\"type\":\"scattergl\"}],\"scattermapbox\":[{\"marker\":{\"colorbar\":{\"outlinewidth\":0,\"ticks\":\"\"}},\"type\":\"scattermapbox\"}],\"scattermap\":[{\"marker\":{\"colorbar\":{\"outlinewidth\":0,\"ticks\":\"\"}},\"type\":\"scattermap\"}],\"scatterpolargl\":[{\"marker\":{\"colorbar\":{\"outlinewidth\":0,\"ticks\":\"\"}},\"type\":\"scatterpolargl\"}],\"scatterpolar\":[{\"marker\":{\"colorbar\":{\"outlinewidth\":0,\"ticks\":\"\"}},\"type\":\"scatterpolar\"}],\"scatter\":[{\"fillpattern\":{\"fillmode\":\"overlay\",\"size\":10,\"solidity\":0.2},\"type\":\"scatter\"}],\"scatterternary\":[{\"marker\":{\"colorbar\":{\"outlinewidth\":0,\"ticks\":\"\"}},\"type\":\"scatterternary\"}],\"surface\":[{\"colorbar\":{\"outlinewidth\":0,\"ticks\":\"\"},\"colorscale\":[[0.0,\"#0d0887\"],[0.1111111111111111,\"#46039f\"],[0.2222222222222222,\"#7201a8\"],[0.3333333333333333,\"#9c179e\"],[0.4444444444444444,\"#bd3786\"],[0.5555555555555556,\"#d8576b\"],[0.6666666666666666,\"#ed7953\"],[0.7777777777777778,\"#fb9f3a\"],[0.8888888888888888,\"#fdca26\"],[1.0,\"#f0f921\"]],\"type\":\"surface\"}],\"table\":[{\"cells\":{\"fill\":{\"color\":\"#EBF0F8\"},\"line\":{\"color\":\"white\"}},\"header\":{\"fill\":{\"color\":\"#C8D4E3\"},\"line\":{\"color\":\"white\"}},\"type\":\"table\"}]},\"layout\":{\"annotationdefaults\":{\"arrowcolor\":\"#2a3f5f\",\"arrowhead\":0,\"arrowwidth\":1},\"autotypenumbers\":\"strict\",\"coloraxis\":{\"colorbar\":{\"outlinewidth\":0,\"ticks\":\"\"}},\"colorscale\":{\"diverging\":[[0,\"#8e0152\"],[0.1,\"#c51b7d\"],[0.2,\"#de77ae\"],[0.3,\"#f1b6da\"],[0.4,\"#fde0ef\"],[0.5,\"#f7f7f7\"],[0.6,\"#e6f5d0\"],[0.7,\"#b8e186\"],[0.8,\"#7fbc41\"],[0.9,\"#4d9221\"],[1,\"#276419\"]],\"sequential\":[[0.0,\"#0d0887\"],[0.1111111111111111,\"#46039f\"],[0.2222222222222222,\"#7201a8\"],[0.3333333333333333,\"#9c179e\"],[0.4444444444444444,\"#bd3786\"],[0.5555555555555556,\"#d8576b\"],[0.6666666666666666,\"#ed7953\"],[0.7777777777777778,\"#fb9f3a\"],[0.8888888888888888,\"#fdca26\"],[1.0,\"#f0f921\"]],\"sequentialminus\":[[0.0,\"#0d0887\"],[0.1111111111111111,\"#46039f\"],[0.2222222222222222,\"#7201a8\"],[0.3333333333333333,\"#9c179e\"],[0.4444444444444444,\"#bd3786\"],[0.5555555555555556,\"#d8576b\"],[0.6666666666666666,\"#ed7953\"],[0.7777777777777778,\"#fb9f3a\"],[0.8888888888888888,\"#fdca26\"],[1.0,\"#f0f921\"]]},\"colorway\":[\"#636efa\",\"#EF553B\",\"#00cc96\",\"#ab63fa\",\"#FFA15A\",\"#19d3f3\",\"#FF6692\",\"#B6E880\",\"#FF97FF\",\"#FECB52\"],\"font\":{\"color\":\"#2a3f5f\"},\"geo\":{\"bgcolor\":\"white\",\"lakecolor\":\"white\",\"landcolor\":\"white\",\"showlakes\":true,\"showland\":true,\"subunitcolor\":\"#C8D4E3\"},\"hoverlabel\":{\"align\":\"left\"},\"hovermode\":\"closest\",\"mapbox\":{\"style\":\"light\"},\"paper_bgcolor\":\"white\",\"plot_bgcolor\":\"white\",\"polar\":{\"angularaxis\":{\"gridcolor\":\"#EBF0F8\",\"linecolor\":\"#EBF0F8\",\"ticks\":\"\"},\"bgcolor\":\"white\",\"radialaxis\":{\"gridcolor\":\"#EBF0F8\",\"linecolor\":\"#EBF0F8\",\"ticks\":\"\"}},\"scene\":{\"xaxis\":{\"backgroundcolor\":\"white\",\"gridcolor\":\"#DFE8F3\",\"gridwidth\":2,\"linecolor\":\"#EBF0F8\",\"showbackground\":true,\"ticks\":\"\",\"zerolinecolor\":\"#EBF0F8\"},\"yaxis\":{\"backgroundcolor\":\"white\",\"gridcolor\":\"#DFE8F3\",\"gridwidth\":2,\"linecolor\":\"#EBF0F8\",\"showbackground\":true,\"ticks\":\"\",\"zerolinecolor\":\"#EBF0F8\"},\"zaxis\":{\"backgroundcolor\":\"white\",\"gridcolor\":\"#DFE8F3\",\"gridwidth\":2,\"linecolor\":\"#EBF0F8\",\"showbackground\":true,\"ticks\":\"\",\"zerolinecolor\":\"#EBF0F8\"}},\"shapedefaults\":{\"line\":{\"color\":\"#2a3f5f\"}},\"ternary\":{\"aaxis\":{\"gridcolor\":\"#DFE8F3\",\"linecolor\":\"#A2B1C6\",\"ticks\":\"\"},\"baxis\":{\"gridcolor\":\"#DFE8F3\",\"linecolor\":\"#A2B1C6\",\"ticks\":\"\"},\"bgcolor\":\"white\",\"caxis\":{\"gridcolor\":\"#DFE8F3\",\"linecolor\":\"#A2B1C6\",\"ticks\":\"\"}},\"title\":{\"x\":0.05},\"xaxis\":{\"automargin\":true,\"gridcolor\":\"#EBF0F8\",\"linecolor\":\"#EBF0F8\",\"ticks\":\"\",\"title\":{\"standoff\":15},\"zerolinecolor\":\"#EBF0F8\",\"zerolinewidth\":2},\"yaxis\":{\"automargin\":true,\"gridcolor\":\"#EBF0F8\",\"linecolor\":\"#EBF0F8\",\"ticks\":\"\",\"title\":{\"standoff\":15},\"zerolinecolor\":\"#EBF0F8\",\"zerolinewidth\":2}}},\"xaxis\":{\"anchor\":\"y\",\"domain\":[0.0,0.175],\"showgrid\":true},\"yaxis\":{\"anchor\":\"x\",\"domain\":[0.7555555555555555,1.0],\"showgrid\":true},\"xaxis2\":{\"anchor\":\"y2\",\"domain\":[0.275,0.45],\"showgrid\":true},\"yaxis2\":{\"anchor\":\"x2\",\"domain\":[0.7555555555555555,1.0],\"showgrid\":true},\"xaxis3\":{\"anchor\":\"y3\",\"domain\":[0.55,0.7250000000000001],\"showgrid\":true},\"yaxis3\":{\"anchor\":\"x3\",\"domain\":[0.7555555555555555,1.0],\"showgrid\":true},\"xaxis4\":{\"anchor\":\"y4\",\"domain\":[0.825,1.0],\"showgrid\":true},\"yaxis4\":{\"anchor\":\"x4\",\"domain\":[0.7555555555555555,1.0],\"showgrid\":true},\"xaxis5\":{\"anchor\":\"y5\",\"domain\":[0.0,0.175],\"showgrid\":true},\"yaxis5\":{\"anchor\":\"x5\",\"domain\":[0.37777777777777777,0.6222222222222222],\"showgrid\":true},\"xaxis6\":{\"anchor\":\"y6\",\"domain\":[0.275,0.45],\"showgrid\":true},\"yaxis6\":{\"anchor\":\"x6\",\"domain\":[0.37777777777777777,0.6222222222222222],\"showgrid\":true},\"xaxis7\":{\"anchor\":\"y7\",\"domain\":[0.55,0.7250000000000001],\"showgrid\":true},\"yaxis7\":{\"anchor\":\"x7\",\"domain\":[0.37777777777777777,0.6222222222222222],\"showgrid\":true},\"xaxis8\":{\"anchor\":\"y8\",\"domain\":[0.825,1.0],\"showgrid\":true},\"yaxis8\":{\"anchor\":\"x8\",\"domain\":[0.37777777777777777,0.6222222222222222],\"showgrid\":true},\"xaxis9\":{\"anchor\":\"y9\",\"domain\":[0.0,0.175],\"showgrid\":true},\"yaxis9\":{\"anchor\":\"x9\",\"domain\":[0.0,0.24444444444444446],\"showgrid\":true},\"xaxis10\":{\"anchor\":\"y10\",\"domain\":[0.275,0.45],\"showgrid\":true},\"yaxis10\":{\"anchor\":\"x10\",\"domain\":[0.0,0.24444444444444446],\"showgrid\":true},\"xaxis11\":{\"anchor\":\"y11\",\"domain\":[0.55,0.7250000000000001],\"showgrid\":true},\"yaxis11\":{\"anchor\":\"x11\",\"domain\":[0.0,0.24444444444444446],\"showgrid\":true},\"xaxis12\":{\"anchor\":\"y12\",\"domain\":[0.825,1.0],\"showgrid\":true},\"yaxis12\":{\"anchor\":\"x12\",\"domain\":[0.0,0.24444444444444446],\"showgrid\":true},\"annotations\":[{\"font\":{\"size\":16},\"showarrow\":false,\"text\":\"Topic 0\",\"x\":0.0875,\"xanchor\":\"center\",\"xref\":\"paper\",\"y\":1.0,\"yanchor\":\"bottom\",\"yref\":\"paper\"},{\"font\":{\"size\":16},\"showarrow\":false,\"text\":\"Topic 1\",\"x\":0.36250000000000004,\"xanchor\":\"center\",\"xref\":\"paper\",\"y\":1.0,\"yanchor\":\"bottom\",\"yref\":\"paper\"},{\"font\":{\"size\":16},\"showarrow\":false,\"text\":\"Topic 2\",\"x\":0.6375000000000001,\"xanchor\":\"center\",\"xref\":\"paper\",\"y\":1.0,\"yanchor\":\"bottom\",\"yref\":\"paper\"},{\"font\":{\"size\":16},\"showarrow\":false,\"text\":\"Topic 3\",\"x\":0.9125,\"xanchor\":\"center\",\"xref\":\"paper\",\"y\":1.0,\"yanchor\":\"bottom\",\"yref\":\"paper\"},{\"font\":{\"size\":16},\"showarrow\":false,\"text\":\"Topic 4\",\"x\":0.0875,\"xanchor\":\"center\",\"xref\":\"paper\",\"y\":0.6222222222222222,\"yanchor\":\"bottom\",\"yref\":\"paper\"},{\"font\":{\"size\":16},\"showarrow\":false,\"text\":\"Topic 5\",\"x\":0.36250000000000004,\"xanchor\":\"center\",\"xref\":\"paper\",\"y\":0.6222222222222222,\"yanchor\":\"bottom\",\"yref\":\"paper\"},{\"font\":{\"size\":16},\"showarrow\":false,\"text\":\"Topic 6\",\"x\":0.6375000000000001,\"xanchor\":\"center\",\"xref\":\"paper\",\"y\":0.6222222222222222,\"yanchor\":\"bottom\",\"yref\":\"paper\"},{\"font\":{\"size\":16},\"showarrow\":false,\"text\":\"Topic 7\",\"x\":0.9125,\"xanchor\":\"center\",\"xref\":\"paper\",\"y\":0.6222222222222222,\"yanchor\":\"bottom\",\"yref\":\"paper\"},{\"font\":{\"size\":16},\"showarrow\":false,\"text\":\"Topic 8\",\"x\":0.0875,\"xanchor\":\"center\",\"xref\":\"paper\",\"y\":0.24444444444444446,\"yanchor\":\"bottom\",\"yref\":\"paper\"},{\"font\":{\"size\":16},\"showarrow\":false,\"text\":\"Topic 9\",\"x\":0.36250000000000004,\"xanchor\":\"center\",\"xref\":\"paper\",\"y\":0.24444444444444446,\"yanchor\":\"bottom\",\"yref\":\"paper\"}],\"title\":{\"font\":{\"size\":22,\"color\":\"Black\"},\"text\":\"Topic Word Scores\",\"x\":0.5,\"xanchor\":\"center\",\"yanchor\":\"top\"},\"hoverlabel\":{\"font\":{\"size\":16,\"family\":\"Rockwell\"},\"bgcolor\":\"white\"},\"showlegend\":false,\"width\":1400,\"height\":1050},                        {\"responsive\": true}                    )                };            </script>        </div>"
      ],
      "text/plain": [
       "Figure({\n",
       "    'data': [{'marker': {'color': '#D55E00'},\n",
       "              'orientation': 'h',\n",
       "              'type': 'bar',\n",
       "              'x': [0.286390095949173, 0.2887447774410248, 0.29867544770240784,\n",
       "                    0.30821043252944946, 0.3167862892150879, 0.34015098214149475,\n",
       "                    0.34390944242477417, 0.4113450348377228, 0.4115491509437561,\n",
       "                    0.4353157877922058],\n",
       "              'xaxis': 'x',\n",
       "              'y': [tobacco  , smoking  , cannabis  , adulthood  , youth  ,\n",
       "                    prevalence  , marijuana  , adolescence  , adolescent  ,\n",
       "                    substance use  ],\n",
       "              'yaxis': 'y'},\n",
       "             {'marker': {'color': '#0072B2'},\n",
       "              'orientation': 'h',\n",
       "              'type': 'bar',\n",
       "              'x': [0.2445606142282486, 0.25057363510131836, 0.30690252780914307,\n",
       "                    0.3158787488937378, 0.32487764954566956, 0.3455274701118469,\n",
       "                    0.369458943605423, 0.4479731321334839, 0.5101876854896545,\n",
       "                    0.6007471084594727],\n",
       "              'xaxis': 'x2',\n",
       "              'y': [amygdala  , prenatal exposure  , adolescent adult  , adulthood\n",
       "                    , drinking  , adolescent  , adolescence  , binge drinking  ,\n",
       "                    ethanol  , ethanol exposure  ],\n",
       "              'yaxis': 'y2'},\n",
       "             {'marker': {'color': '#CC79A7'},\n",
       "              'orientation': 'h',\n",
       "              'type': 'bar',\n",
       "              'x': [0.4185301959514618, 0.4198264479637146, 0.42829906940460205,\n",
       "                    0.43960219621658325, 0.4460241198539734, 0.4498913288116455,\n",
       "                    0.4623319208621979, 0.4673660397529602, 0.4817284345626831,\n",
       "                    0.5141507387161255],\n",
       "              'xaxis': 'x3',\n",
       "              'y': [sexual initiation  , condom  , hiv infection  , sexual\n",
       "                    intercourse  , sexual behaviour  , hiv  , sexual behavior  ,\n",
       "                    condom use  , sexually transmitted  , sexual risk  ],\n",
       "              'yaxis': 'y3'},\n",
       "             {'marker': {'color': '#E69F00'},\n",
       "              'orientation': 'h',\n",
       "              'type': 'bar',\n",
       "              'x': [0.26390841603279114, 0.27563169598579407, 0.2794501483440399,\n",
       "                    0.29143765568733215, 0.3013691008090973, 0.30307430028915405,\n",
       "                    0.3303466737270355, 0.3496735095977783, 0.3745286464691162,\n",
       "                    0.4457639753818512],\n",
       "              'xaxis': 'x4',\n",
       "              'y': [obese  , fatty  , prevalence  , obesity  , triglyceride  ,\n",
       "                    cholesterol  , hepatic steatosis  , metabolic syndrome  , liver\n",
       "                    disease  , fatty liver  ],\n",
       "              'yaxis': 'y4'},\n",
       "             {'marker': {'color': '#56B4E9'},\n",
       "              'orientation': 'h',\n",
       "              'type': 'bar',\n",
       "              'x': [0.24276264011859894, 0.25033876299858093, 0.26562735438346863,\n",
       "                    0.2688705325126648, 0.2726392447948456, 0.28162527084350586,\n",
       "                    0.3005619943141937, 0.3030247390270233, 0.3471430838108063,\n",
       "                    0.3651362359523773],\n",
       "              'xaxis': 'x5',\n",
       "              'y': [risk factor  , mortality  , fracture  , intoxication  ,\n",
       "                    adolescent  , accident  , severity  , injury  , acute\n",
       "                    intoxication  , trauma  ],\n",
       "              'yaxis': 'y5'},\n",
       "             {'marker': {'color': '#009E73'},\n",
       "              'orientation': 'h',\n",
       "              'type': 'bar',\n",
       "              'x': [0.26821351051330566, 0.26954784989356995, 0.27841854095458984,\n",
       "                    0.2948668599128723, 0.3517884612083435, 0.35270702838897705,\n",
       "                    0.3565855324268341, 0.38233256340026855, 0.3947370946407318,\n",
       "                    0.47226497530937195],\n",
       "              'xaxis': 'x6',\n",
       "              'y': [fatty acid  , ethyl  , spectrometry  , acetate  , yeast  ,\n",
       "                    grape  , wine  , ethanol  , phenolic  , fermentation  ],\n",
       "              'yaxis': 'y6'},\n",
       "             {'marker': {'color': '#F0E442'},\n",
       "              'orientation': 'h',\n",
       "              'type': 'bar',\n",
       "              'x': [0.41069093346595764, 0.4258098006248474, 0.4372217655181885,\n",
       "                    0.44034531712532043, 0.44068872928619385, 0.4541701674461365,\n",
       "                    0.46281707286834717, 0.46705055236816406, 0.49939242005348206,\n",
       "                    0.6381492018699646],\n",
       "              'xaxis': 'x7',\n",
       "              'y': [relationship sleep  , sleepiness  , daytime sleepiness  ,\n",
       "                    sleep duration  , sleep quality  , sleep loss  , sleep problem\n",
       "                    , sleep difficulty  , sleep disturbance  , adolescent sleep  ],\n",
       "              'yaxis': 'y7'},\n",
       "             {'marker': {'color': '#D55E00'},\n",
       "              'orientation': 'h',\n",
       "              'type': 'bar',\n",
       "              'x': [0.24533243477344513, 0.24698607623577118, 0.2510114312171936,\n",
       "                    0.2695983946323395, 0.2703372836112976, 0.2799563705921173,\n",
       "                    0.2866733968257904, 0.3271104395389557, 0.32977059483528137,\n",
       "                    0.421678751707077],\n",
       "              'xaxis': 'x8',\n",
       "              'y': [anticoagulation  , anticoagulant  , ischemic attack  , oral\n",
       "                    anticoagulant  , echocardiography  , minor stroke  , cardiac\n",
       "                    death  , stroke  , atrial fibrillation  , ischemic stroke  ],\n",
       "              'yaxis': 'y8'},\n",
       "             {'marker': {'color': '#0072B2'},\n",
       "              'orientation': 'h',\n",
       "              'type': 'bar',\n",
       "              'x': [0.3474230468273163, 0.3495079576969147, 0.3758910000324249,\n",
       "                    0.38361743092536926, 0.39490872621536255, 0.40133482217788696,\n",
       "                    0.432728111743927, 0.4373283386230469, 0.4961787462234497,\n",
       "                    0.5286383032798767],\n",
       "              'xaxis': 'x9',\n",
       "              'y': [bone  , hip femoral  , peak bone  , bone accretion  , bone\n",
       "                    mass  , bone accrual  , fracture risk  , bone mineral  ,\n",
       "                    osteoporosis  , bone health  ],\n",
       "              'yaxis': 'y9'},\n",
       "             {'marker': {'color': '#CC79A7'},\n",
       "              'orientation': 'h',\n",
       "              'type': 'bar',\n",
       "              'x': [0.6158421635627747, 0.6269797682762146, 0.6310034394264221,\n",
       "                    0.6625761389732361, 0.6669515371322632, 0.674893319606781,\n",
       "                    0.6757965683937073, 0.6820491552352905, 0.6860567927360535,\n",
       "                    0.7076904773712158],\n",
       "              'xaxis': 'x10',\n",
       "              'y': [nicotine  , nicotine use  , nicotine binge  , nicotine\n",
       "                    dependence  , exposure nicotine  , effect nicotine  , nicotine\n",
       "                    exposure  , nicotine consumption  , adolescent nicotine  ,\n",
       "                    nicotine behavioral  ],\n",
       "              'yaxis': 'y10'}],\n",
       "    'layout': {'annotations': [{'font': {'size': 16},\n",
       "                                'showarrow': False,\n",
       "                                'text': 'Topic 0',\n",
       "                                'x': 0.0875,\n",
       "                                'xanchor': 'center',\n",
       "                                'xref': 'paper',\n",
       "                                'y': 1.0,\n",
       "                                'yanchor': 'bottom',\n",
       "                                'yref': 'paper'},\n",
       "                               {'font': {'size': 16},\n",
       "                                'showarrow': False,\n",
       "                                'text': 'Topic 1',\n",
       "                                'x': 0.36250000000000004,\n",
       "                                'xanchor': 'center',\n",
       "                                'xref': 'paper',\n",
       "                                'y': 1.0,\n",
       "                                'yanchor': 'bottom',\n",
       "                                'yref': 'paper'},\n",
       "                               {'font': {'size': 16},\n",
       "                                'showarrow': False,\n",
       "                                'text': 'Topic 2',\n",
       "                                'x': 0.6375000000000001,\n",
       "                                'xanchor': 'center',\n",
       "                                'xref': 'paper',\n",
       "                                'y': 1.0,\n",
       "                                'yanchor': 'bottom',\n",
       "                                'yref': 'paper'},\n",
       "                               {'font': {'size': 16},\n",
       "                                'showarrow': False,\n",
       "                                'text': 'Topic 3',\n",
       "                                'x': 0.9125,\n",
       "                                'xanchor': 'center',\n",
       "                                'xref': 'paper',\n",
       "                                'y': 1.0,\n",
       "                                'yanchor': 'bottom',\n",
       "                                'yref': 'paper'},\n",
       "                               {'font': {'size': 16},\n",
       "                                'showarrow': False,\n",
       "                                'text': 'Topic 4',\n",
       "                                'x': 0.0875,\n",
       "                                'xanchor': 'center',\n",
       "                                'xref': 'paper',\n",
       "                                'y': 0.6222222222222222,\n",
       "                                'yanchor': 'bottom',\n",
       "                                'yref': 'paper'},\n",
       "                               {'font': {'size': 16},\n",
       "                                'showarrow': False,\n",
       "                                'text': 'Topic 5',\n",
       "                                'x': 0.36250000000000004,\n",
       "                                'xanchor': 'center',\n",
       "                                'xref': 'paper',\n",
       "                                'y': 0.6222222222222222,\n",
       "                                'yanchor': 'bottom',\n",
       "                                'yref': 'paper'},\n",
       "                               {'font': {'size': 16},\n",
       "                                'showarrow': False,\n",
       "                                'text': 'Topic 6',\n",
       "                                'x': 0.6375000000000001,\n",
       "                                'xanchor': 'center',\n",
       "                                'xref': 'paper',\n",
       "                                'y': 0.6222222222222222,\n",
       "                                'yanchor': 'bottom',\n",
       "                                'yref': 'paper'},\n",
       "                               {'font': {'size': 16},\n",
       "                                'showarrow': False,\n",
       "                                'text': 'Topic 7',\n",
       "                                'x': 0.9125,\n",
       "                                'xanchor': 'center',\n",
       "                                'xref': 'paper',\n",
       "                                'y': 0.6222222222222222,\n",
       "                                'yanchor': 'bottom',\n",
       "                                'yref': 'paper'},\n",
       "                               {'font': {'size': 16},\n",
       "                                'showarrow': False,\n",
       "                                'text': 'Topic 8',\n",
       "                                'x': 0.0875,\n",
       "                                'xanchor': 'center',\n",
       "                                'xref': 'paper',\n",
       "                                'y': 0.24444444444444446,\n",
       "                                'yanchor': 'bottom',\n",
       "                                'yref': 'paper'},\n",
       "                               {'font': {'size': 16},\n",
       "                                'showarrow': False,\n",
       "                                'text': 'Topic 9',\n",
       "                                'x': 0.36250000000000004,\n",
       "                                'xanchor': 'center',\n",
       "                                'xref': 'paper',\n",
       "                                'y': 0.24444444444444446,\n",
       "                                'yanchor': 'bottom',\n",
       "                                'yref': 'paper'}],\n",
       "               'height': 1050,\n",
       "               'hoverlabel': {'bgcolor': 'white', 'font': {'family': 'Rockwell', 'size': 16}},\n",
       "               'showlegend': False,\n",
       "               'template': '...',\n",
       "               'title': {'font': {'color': 'Black', 'size': 22},\n",
       "                         'text': 'Topic Word Scores',\n",
       "                         'x': 0.5,\n",
       "                         'xanchor': 'center',\n",
       "                         'yanchor': 'top'},\n",
       "               'width': 1400,\n",
       "               'xaxis': {'anchor': 'y', 'domain': [0.0, 0.175], 'showgrid': True},\n",
       "               'xaxis10': {'anchor': 'y10', 'domain': [0.275, 0.45], 'showgrid': True},\n",
       "               'xaxis11': {'anchor': 'y11', 'domain': [0.55, 0.7250000000000001], 'showgrid': True},\n",
       "               'xaxis12': {'anchor': 'y12', 'domain': [0.825, 1.0], 'showgrid': True},\n",
       "               'xaxis2': {'anchor': 'y2', 'domain': [0.275, 0.45], 'showgrid': True},\n",
       "               'xaxis3': {'anchor': 'y3', 'domain': [0.55, 0.7250000000000001], 'showgrid': True},\n",
       "               'xaxis4': {'anchor': 'y4', 'domain': [0.825, 1.0], 'showgrid': True},\n",
       "               'xaxis5': {'anchor': 'y5', 'domain': [0.0, 0.175], 'showgrid': True},\n",
       "               'xaxis6': {'anchor': 'y6', 'domain': [0.275, 0.45], 'showgrid': True},\n",
       "               'xaxis7': {'anchor': 'y7', 'domain': [0.55, 0.7250000000000001], 'showgrid': True},\n",
       "               'xaxis8': {'anchor': 'y8', 'domain': [0.825, 1.0], 'showgrid': True},\n",
       "               'xaxis9': {'anchor': 'y9', 'domain': [0.0, 0.175], 'showgrid': True},\n",
       "               'yaxis': {'anchor': 'x', 'domain': [0.7555555555555555, 1.0], 'showgrid': True},\n",
       "               'yaxis10': {'anchor': 'x10', 'domain': [0.0, 0.24444444444444446], 'showgrid': True},\n",
       "               'yaxis11': {'anchor': 'x11', 'domain': [0.0, 0.24444444444444446], 'showgrid': True},\n",
       "               'yaxis12': {'anchor': 'x12', 'domain': [0.0, 0.24444444444444446], 'showgrid': True},\n",
       "               'yaxis2': {'anchor': 'x2', 'domain': [0.7555555555555555, 1.0], 'showgrid': True},\n",
       "               'yaxis3': {'anchor': 'x3', 'domain': [0.7555555555555555, 1.0], 'showgrid': True},\n",
       "               'yaxis4': {'anchor': 'x4', 'domain': [0.7555555555555555, 1.0], 'showgrid': True},\n",
       "               'yaxis5': {'anchor': 'x5', 'domain': [0.37777777777777777, 0.6222222222222222], 'showgrid': True},\n",
       "               'yaxis6': {'anchor': 'x6', 'domain': [0.37777777777777777, 0.6222222222222222], 'showgrid': True},\n",
       "               'yaxis7': {'anchor': 'x7', 'domain': [0.37777777777777777, 0.6222222222222222], 'showgrid': True},\n",
       "               'yaxis8': {'anchor': 'x8', 'domain': [0.37777777777777777, 0.6222222222222222], 'showgrid': True},\n",
       "               'yaxis9': {'anchor': 'x9', 'domain': [0.0, 0.24444444444444446], 'showgrid': True}}\n",
       "})"
      ]
     },
     "execution_count": 30,
     "metadata": {},
     "output_type": "execute_result"
    }
   ],
   "source": [
    "topic_model.visualize_barchart(top_n_topics=10, n_words=10,width=350, height=350)"
   ]
  },
  {
   "cell_type": "code",
   "execution_count": 31,
   "metadata": {},
   "outputs": [
    {
     "ename": "ModuleNotFoundError",
     "evalue": "UMAP is required to reduce the embeddings.. Please install it using `pip install umap-learn`.",
     "output_type": "error",
     "traceback": [
      "\u001b[1;31m---------------------------------------------------------------------------\u001b[0m",
      "\u001b[1;31mModuleNotFoundError\u001b[0m                       Traceback (most recent call last)",
      "Cell \u001b[1;32mIn[31], line 1\u001b[0m\n\u001b[1;32m----> 1\u001b[0m \u001b[43mtopic_model\u001b[49m\u001b[38;5;241;43m.\u001b[39;49m\u001b[43mvisualize_topics\u001b[49m\u001b[43m(\u001b[49m\u001b[43m)\u001b[49m\n",
      "File \u001b[1;32mc:\\Users\\jcor864\\AppData\\Local\\Programs\\Python\\Python312\\Lib\\site-packages\\bertopic\\_bertopic.py:2442\u001b[0m, in \u001b[0;36mBERTopic.visualize_topics\u001b[1;34m(self, topics, top_n_topics, use_ctfidf, custom_labels, title, width, height)\u001b[0m\n\u001b[0;32m   2409\u001b[0m \u001b[38;5;250m\u001b[39m\u001b[38;5;124;03m\"\"\"Visualize topics, their sizes, and their corresponding words.\u001b[39;00m\n\u001b[0;32m   2410\u001b[0m \n\u001b[0;32m   2411\u001b[0m \u001b[38;5;124;03mThis visualization is highly inspired by LDAvis, a great visualization\u001b[39;00m\n\u001b[1;32m   (...)\u001b[0m\n\u001b[0;32m   2439\u001b[0m \u001b[38;5;124;03m```\u001b[39;00m\n\u001b[0;32m   2440\u001b[0m \u001b[38;5;124;03m\"\"\"\u001b[39;00m\n\u001b[0;32m   2441\u001b[0m check_is_fitted(\u001b[38;5;28mself\u001b[39m)\n\u001b[1;32m-> 2442\u001b[0m \u001b[38;5;28;01mreturn\u001b[39;00m \u001b[43mplotting\u001b[49m\u001b[38;5;241;43m.\u001b[39;49m\u001b[43mvisualize_topics\u001b[49m\u001b[43m(\u001b[49m\n\u001b[0;32m   2443\u001b[0m \u001b[43m    \u001b[49m\u001b[38;5;28;43mself\u001b[39;49m\u001b[43m,\u001b[49m\n\u001b[0;32m   2444\u001b[0m \u001b[43m    \u001b[49m\u001b[43mtopics\u001b[49m\u001b[38;5;241;43m=\u001b[39;49m\u001b[43mtopics\u001b[49m\u001b[43m,\u001b[49m\n\u001b[0;32m   2445\u001b[0m \u001b[43m    \u001b[49m\u001b[43mtop_n_topics\u001b[49m\u001b[38;5;241;43m=\u001b[39;49m\u001b[43mtop_n_topics\u001b[49m\u001b[43m,\u001b[49m\n\u001b[0;32m   2446\u001b[0m \u001b[43m    \u001b[49m\u001b[43muse_ctfidf\u001b[49m\u001b[38;5;241;43m=\u001b[39;49m\u001b[43muse_ctfidf\u001b[49m\u001b[43m,\u001b[49m\n\u001b[0;32m   2447\u001b[0m \u001b[43m    \u001b[49m\u001b[43mcustom_labels\u001b[49m\u001b[38;5;241;43m=\u001b[39;49m\u001b[43mcustom_labels\u001b[49m\u001b[43m,\u001b[49m\n\u001b[0;32m   2448\u001b[0m \u001b[43m    \u001b[49m\u001b[43mtitle\u001b[49m\u001b[38;5;241;43m=\u001b[39;49m\u001b[43mtitle\u001b[49m\u001b[43m,\u001b[49m\n\u001b[0;32m   2449\u001b[0m \u001b[43m    \u001b[49m\u001b[43mwidth\u001b[49m\u001b[38;5;241;43m=\u001b[39;49m\u001b[43mwidth\u001b[49m\u001b[43m,\u001b[49m\n\u001b[0;32m   2450\u001b[0m \u001b[43m    \u001b[49m\u001b[43mheight\u001b[49m\u001b[38;5;241;43m=\u001b[39;49m\u001b[43mheight\u001b[49m\u001b[43m,\u001b[49m\n\u001b[0;32m   2451\u001b[0m \u001b[43m\u001b[49m\u001b[43m)\u001b[49m\n",
      "File \u001b[1;32mc:\\Users\\jcor864\\AppData\\Local\\Programs\\Python\\Python312\\Lib\\site-packages\\bertopic\\plotting\\_topics.py:104\u001b[0m, in \u001b[0;36mvisualize_topics\u001b[1;34m(topic_model, topics, top_n_topics, use_ctfidf, custom_labels, title, width, height)\u001b[0m\n\u001b[0;32m    102\u001b[0m         embeddings \u001b[38;5;241m=\u001b[39m UMAP(n_neighbors\u001b[38;5;241m=\u001b[39m\u001b[38;5;241m2\u001b[39m, n_components\u001b[38;5;241m=\u001b[39m\u001b[38;5;241m2\u001b[39m, metric\u001b[38;5;241m=\u001b[39m\u001b[38;5;124m\"\u001b[39m\u001b[38;5;124mcosine\u001b[39m\u001b[38;5;124m\"\u001b[39m, random_state\u001b[38;5;241m=\u001b[39m\u001b[38;5;241m42\u001b[39m)\u001b[38;5;241m.\u001b[39mfit_transform(embeddings)\n\u001b[0;32m    103\u001b[0m \u001b[38;5;28;01melse\u001b[39;00m:\n\u001b[1;32m--> 104\u001b[0m     \u001b[38;5;28;01mraise\u001b[39;00m \u001b[38;5;167;01mModuleNotFoundError\u001b[39;00m(\n\u001b[0;32m    105\u001b[0m         \u001b[38;5;124m\"\u001b[39m\u001b[38;5;124mUMAP is required to reduce the embeddings.. Please install it using `pip install umap-learn`.\u001b[39m\u001b[38;5;124m\"\u001b[39m\n\u001b[0;32m    106\u001b[0m     )\n\u001b[0;32m    108\u001b[0m \u001b[38;5;66;03m# Visualize with plotly\u001b[39;00m\n\u001b[0;32m    109\u001b[0m df \u001b[38;5;241m=\u001b[39m pd\u001b[38;5;241m.\u001b[39mDataFrame(\n\u001b[0;32m    110\u001b[0m     {\n\u001b[0;32m    111\u001b[0m         \u001b[38;5;124m\"\u001b[39m\u001b[38;5;124mx\u001b[39m\u001b[38;5;124m\"\u001b[39m: embeddings[:, \u001b[38;5;241m0\u001b[39m],\n\u001b[1;32m   (...)\u001b[0m\n\u001b[0;32m    116\u001b[0m     }\n\u001b[0;32m    117\u001b[0m )\n",
      "\u001b[1;31mModuleNotFoundError\u001b[0m: UMAP is required to reduce the embeddings.. Please install it using `pip install umap-learn`."
     ]
    }
   ],
   "source": [
    "topic_model.visualize_topics()"
   ]
  },
  {
   "cell_type": "code",
   "execution_count": null,
   "metadata": {},
   "outputs": [
    {
     "ename": "NameError",
     "evalue": "name 'topic_model' is not defined",
     "output_type": "error",
     "traceback": [
      "\u001b[1;31m---------------------------------------------------------------------------\u001b[0m",
      "\u001b[1;31mNameError\u001b[0m                                 Traceback (most recent call last)",
      "Cell \u001b[1;32mIn[20], line 1\u001b[0m\n\u001b[1;32m----> 1\u001b[0m tm \u001b[38;5;241m=\u001b[39m \u001b[43mtopic_model\u001b[49m\u001b[38;5;241m.\u001b[39mget_topic_info()[[\u001b[38;5;124m'\u001b[39m\u001b[38;5;124mTopic\u001b[39m\u001b[38;5;124m'\u001b[39m, \u001b[38;5;124m'\u001b[39m\u001b[38;5;124mCount\u001b[39m\u001b[38;5;124m'\u001b[39m, \u001b[38;5;124m'\u001b[39m\u001b[38;5;124mName\u001b[39m\u001b[38;5;124m'\u001b[39m,\u001b[38;5;124m'\u001b[39m\u001b[38;5;124mRepresentation\u001b[39m\u001b[38;5;124m'\u001b[39m]]\n\u001b[0;32m      2\u001b[0m tm\n",
      "\u001b[1;31mNameError\u001b[0m: name 'topic_model' is not defined"
     ]
    }
   ],
   "source": [
    "tm = topic_model.get_topic_info()[['Topic', 'Count', 'Name','Representation']]\n",
    "tm"
   ]
  },
  {
   "cell_type": "code",
   "execution_count": null,
   "metadata": {},
   "outputs": [],
   "source": [
    "tm.to_excel('../topics.xlsx', index=False)"
   ]
  },
  {
   "cell_type": "code",
   "execution_count": 23,
   "metadata": {},
   "outputs": [],
   "source": [
    "# Run the visualization with the original embeddings\n",
    "# topic_model.visualize_documents(art['text'], embeddings=embeddings)"
   ]
  },
  {
   "cell_type": "code",
   "execution_count": null,
   "metadata": {},
   "outputs": [
    {
     "data": {
      "application/vnd.plotly.v1+json": {
       "config": {
        "plotlyServerURL": "https://plot.ly"
       },
       "data": [
        {
         "coloraxis": "coloraxis",
         "hovertemplate": "x: %{x}<br>y: %{y}<br>Similarity Score: %{z}<extra></extra>",
         "name": "0",
         "type": "heatmap",
         "x": [
          "0_adolescent_adolescence_ri...",
          "1_prenatal exposure_adhd_di...",
          "2_fatty liver_insulin resis...",
          "3_fermentation_ethanol_wine",
          "4_ethanol exposure_intermit...",
          "5_liver disease_fatty liver...",
          "6_adolescent sleep_sleep di...",
          "7_injury severity_trauma ca...",
          "8_risk breast_cancer risk_b...",
          "9_sibling influence_adolesc..."
         ],
         "xaxis": "x",
         "y": [
          "0_adolescent_adolescence_ri...",
          "1_prenatal exposure_adhd_di...",
          "2_fatty liver_insulin resis...",
          "3_fermentation_ethanol_wine",
          "4_ethanol exposure_intermit...",
          "5_liver disease_fatty liver...",
          "6_adolescent sleep_sleep di...",
          "7_injury severity_trauma ca...",
          "8_risk breast_cancer risk_b...",
          "9_sibling influence_adolesc..."
         ],
         "yaxis": "y",
         "z": [
          [
           0.9999999999999997,
           0.8247086513690177,
           0.7298047866248719,
           0.37450933454096913,
           0.6525509150712234,
           0.5788829080746837,
           0.8158233850142963,
           0.5447251089066788,
           0.6384583697455801,
           0.7098281048882901
          ],
          [
           0.8247086513690177,
           0.9999999999999994,
           0.6792040142447164,
           0.3448956476716613,
           0.7515234108821148,
           0.5976501704452406,
           0.7172219752078082,
           0.48764659368432195,
           0.5503330512160348,
           0.6890941070503499
          ],
          [
           0.7298047866248719,
           0.6792040142447164,
           0.9999999999999996,
           0.3957192581495812,
           0.5271014989899542,
           0.8095616965468087,
           0.6855002958834653,
           0.6706330649039708,
           0.7269270323197874,
           0.47519723188087754
          ],
          [
           0.37450933454096913,
           0.3448956476716613,
           0.3957192581495812,
           1.0000000000000004,
           0.4024045580947056,
           0.5224242096274458,
           0.3538187349031063,
           0.36251525404705615,
           0.40775440924076056,
           0.22412810168879638
          ],
          [
           0.6525509150712234,
           0.7515234108821148,
           0.5271014989899542,
           0.4024045580947056,
           0.9999999999999998,
           0.6344799583883015,
           0.5977914100071493,
           0.36404635628351006,
           0.4381115036482159,
           0.484223038841905
          ],
          [
           0.5788829080746837,
           0.5976501704452406,
           0.8095616965468087,
           0.5224242096274458,
           0.6344799583883015,
           0.9999999999999996,
           0.5323386572986686,
           0.6047950561798384,
           0.7465192879097339,
           0.41639572424052484
          ],
          [
           0.8158233850142963,
           0.7172219752078082,
           0.6855002958834653,
           0.3538187349031063,
           0.5977914100071493,
           0.5323386572986686,
           1.0000000000000002,
           0.5249011883185373,
           0.5486150979327851,
           0.5370314994012962
          ],
          [
           0.5447251089066788,
           0.48764659368432195,
           0.6706330649039708,
           0.36251525404705615,
           0.36404635628351006,
           0.6047950561798384,
           0.5249011883185373,
           1.0000000000000002,
           0.572984399939676,
           0.29663700095345946
          ],
          [
           0.6384583697455801,
           0.5503330512160348,
           0.7269270323197874,
           0.40775440924076056,
           0.4381115036482159,
           0.7465192879097339,
           0.5486150979327851,
           0.572984399939676,
           1.0000000000000004,
           0.4337748982747964
          ],
          [
           0.7098281048882901,
           0.6890941070503499,
           0.47519723188087754,
           0.22412810168879638,
           0.484223038841905,
           0.41639572424052484,
           0.5370314994012962,
           0.29663700095345946,
           0.4337748982747964,
           1.0000000000000004
          ]
         ]
        }
       ],
       "layout": {
        "coloraxis": {
         "colorbar": {
          "title": {
           "text": "Similarity Score"
          }
         },
         "colorscale": [
          [
           0,
           "rgb(247,252,240)"
          ],
          [
           0.125,
           "rgb(224,243,219)"
          ],
          [
           0.25,
           "rgb(204,235,197)"
          ],
          [
           0.375,
           "rgb(168,221,181)"
          ],
          [
           0.5,
           "rgb(123,204,196)"
          ],
          [
           0.625,
           "rgb(78,179,211)"
          ],
          [
           0.75,
           "rgb(43,140,190)"
          ],
          [
           0.875,
           "rgb(8,104,172)"
          ],
          [
           1,
           "rgb(8,64,129)"
          ]
         ]
        },
        "height": 800,
        "hoverlabel": {
         "bgcolor": "white",
         "font": {
          "family": "Rockwell",
          "size": 16
         }
        },
        "legend": {
         "title": {
          "text": "Trend"
         }
        },
        "margin": {
         "t": 60
        },
        "showlegend": true,
        "template": {
         "data": {
          "bar": [
           {
            "error_x": {
             "color": "#2a3f5f"
            },
            "error_y": {
             "color": "#2a3f5f"
            },
            "marker": {
             "line": {
              "color": "#E5ECF6",
              "width": 0.5
             },
             "pattern": {
              "fillmode": "overlay",
              "size": 10,
              "solidity": 0.2
             }
            },
            "type": "bar"
           }
          ],
          "barpolar": [
           {
            "marker": {
             "line": {
              "color": "#E5ECF6",
              "width": 0.5
             },
             "pattern": {
              "fillmode": "overlay",
              "size": 10,
              "solidity": 0.2
             }
            },
            "type": "barpolar"
           }
          ],
          "carpet": [
           {
            "aaxis": {
             "endlinecolor": "#2a3f5f",
             "gridcolor": "white",
             "linecolor": "white",
             "minorgridcolor": "white",
             "startlinecolor": "#2a3f5f"
            },
            "baxis": {
             "endlinecolor": "#2a3f5f",
             "gridcolor": "white",
             "linecolor": "white",
             "minorgridcolor": "white",
             "startlinecolor": "#2a3f5f"
            },
            "type": "carpet"
           }
          ],
          "choropleth": [
           {
            "colorbar": {
             "outlinewidth": 0,
             "ticks": ""
            },
            "type": "choropleth"
           }
          ],
          "contour": [
           {
            "colorbar": {
             "outlinewidth": 0,
             "ticks": ""
            },
            "colorscale": [
             [
              0,
              "#0d0887"
             ],
             [
              0.1111111111111111,
              "#46039f"
             ],
             [
              0.2222222222222222,
              "#7201a8"
             ],
             [
              0.3333333333333333,
              "#9c179e"
             ],
             [
              0.4444444444444444,
              "#bd3786"
             ],
             [
              0.5555555555555556,
              "#d8576b"
             ],
             [
              0.6666666666666666,
              "#ed7953"
             ],
             [
              0.7777777777777778,
              "#fb9f3a"
             ],
             [
              0.8888888888888888,
              "#fdca26"
             ],
             [
              1,
              "#f0f921"
             ]
            ],
            "type": "contour"
           }
          ],
          "contourcarpet": [
           {
            "colorbar": {
             "outlinewidth": 0,
             "ticks": ""
            },
            "type": "contourcarpet"
           }
          ],
          "heatmap": [
           {
            "colorbar": {
             "outlinewidth": 0,
             "ticks": ""
            },
            "colorscale": [
             [
              0,
              "#0d0887"
             ],
             [
              0.1111111111111111,
              "#46039f"
             ],
             [
              0.2222222222222222,
              "#7201a8"
             ],
             [
              0.3333333333333333,
              "#9c179e"
             ],
             [
              0.4444444444444444,
              "#bd3786"
             ],
             [
              0.5555555555555556,
              "#d8576b"
             ],
             [
              0.6666666666666666,
              "#ed7953"
             ],
             [
              0.7777777777777778,
              "#fb9f3a"
             ],
             [
              0.8888888888888888,
              "#fdca26"
             ],
             [
              1,
              "#f0f921"
             ]
            ],
            "type": "heatmap"
           }
          ],
          "heatmapgl": [
           {
            "colorbar": {
             "outlinewidth": 0,
             "ticks": ""
            },
            "colorscale": [
             [
              0,
              "#0d0887"
             ],
             [
              0.1111111111111111,
              "#46039f"
             ],
             [
              0.2222222222222222,
              "#7201a8"
             ],
             [
              0.3333333333333333,
              "#9c179e"
             ],
             [
              0.4444444444444444,
              "#bd3786"
             ],
             [
              0.5555555555555556,
              "#d8576b"
             ],
             [
              0.6666666666666666,
              "#ed7953"
             ],
             [
              0.7777777777777778,
              "#fb9f3a"
             ],
             [
              0.8888888888888888,
              "#fdca26"
             ],
             [
              1,
              "#f0f921"
             ]
            ],
            "type": "heatmapgl"
           }
          ],
          "histogram": [
           {
            "marker": {
             "pattern": {
              "fillmode": "overlay",
              "size": 10,
              "solidity": 0.2
             }
            },
            "type": "histogram"
           }
          ],
          "histogram2d": [
           {
            "colorbar": {
             "outlinewidth": 0,
             "ticks": ""
            },
            "colorscale": [
             [
              0,
              "#0d0887"
             ],
             [
              0.1111111111111111,
              "#46039f"
             ],
             [
              0.2222222222222222,
              "#7201a8"
             ],
             [
              0.3333333333333333,
              "#9c179e"
             ],
             [
              0.4444444444444444,
              "#bd3786"
             ],
             [
              0.5555555555555556,
              "#d8576b"
             ],
             [
              0.6666666666666666,
              "#ed7953"
             ],
             [
              0.7777777777777778,
              "#fb9f3a"
             ],
             [
              0.8888888888888888,
              "#fdca26"
             ],
             [
              1,
              "#f0f921"
             ]
            ],
            "type": "histogram2d"
           }
          ],
          "histogram2dcontour": [
           {
            "colorbar": {
             "outlinewidth": 0,
             "ticks": ""
            },
            "colorscale": [
             [
              0,
              "#0d0887"
             ],
             [
              0.1111111111111111,
              "#46039f"
             ],
             [
              0.2222222222222222,
              "#7201a8"
             ],
             [
              0.3333333333333333,
              "#9c179e"
             ],
             [
              0.4444444444444444,
              "#bd3786"
             ],
             [
              0.5555555555555556,
              "#d8576b"
             ],
             [
              0.6666666666666666,
              "#ed7953"
             ],
             [
              0.7777777777777778,
              "#fb9f3a"
             ],
             [
              0.8888888888888888,
              "#fdca26"
             ],
             [
              1,
              "#f0f921"
             ]
            ],
            "type": "histogram2dcontour"
           }
          ],
          "mesh3d": [
           {
            "colorbar": {
             "outlinewidth": 0,
             "ticks": ""
            },
            "type": "mesh3d"
           }
          ],
          "parcoords": [
           {
            "line": {
             "colorbar": {
              "outlinewidth": 0,
              "ticks": ""
             }
            },
            "type": "parcoords"
           }
          ],
          "pie": [
           {
            "automargin": true,
            "type": "pie"
           }
          ],
          "scatter": [
           {
            "fillpattern": {
             "fillmode": "overlay",
             "size": 10,
             "solidity": 0.2
            },
            "type": "scatter"
           }
          ],
          "scatter3d": [
           {
            "line": {
             "colorbar": {
              "outlinewidth": 0,
              "ticks": ""
             }
            },
            "marker": {
             "colorbar": {
              "outlinewidth": 0,
              "ticks": ""
             }
            },
            "type": "scatter3d"
           }
          ],
          "scattercarpet": [
           {
            "marker": {
             "colorbar": {
              "outlinewidth": 0,
              "ticks": ""
             }
            },
            "type": "scattercarpet"
           }
          ],
          "scattergeo": [
           {
            "marker": {
             "colorbar": {
              "outlinewidth": 0,
              "ticks": ""
             }
            },
            "type": "scattergeo"
           }
          ],
          "scattergl": [
           {
            "marker": {
             "colorbar": {
              "outlinewidth": 0,
              "ticks": ""
             }
            },
            "type": "scattergl"
           }
          ],
          "scattermapbox": [
           {
            "marker": {
             "colorbar": {
              "outlinewidth": 0,
              "ticks": ""
             }
            },
            "type": "scattermapbox"
           }
          ],
          "scatterpolar": [
           {
            "marker": {
             "colorbar": {
              "outlinewidth": 0,
              "ticks": ""
             }
            },
            "type": "scatterpolar"
           }
          ],
          "scatterpolargl": [
           {
            "marker": {
             "colorbar": {
              "outlinewidth": 0,
              "ticks": ""
             }
            },
            "type": "scatterpolargl"
           }
          ],
          "scatterternary": [
           {
            "marker": {
             "colorbar": {
              "outlinewidth": 0,
              "ticks": ""
             }
            },
            "type": "scatterternary"
           }
          ],
          "surface": [
           {
            "colorbar": {
             "outlinewidth": 0,
             "ticks": ""
            },
            "colorscale": [
             [
              0,
              "#0d0887"
             ],
             [
              0.1111111111111111,
              "#46039f"
             ],
             [
              0.2222222222222222,
              "#7201a8"
             ],
             [
              0.3333333333333333,
              "#9c179e"
             ],
             [
              0.4444444444444444,
              "#bd3786"
             ],
             [
              0.5555555555555556,
              "#d8576b"
             ],
             [
              0.6666666666666666,
              "#ed7953"
             ],
             [
              0.7777777777777778,
              "#fb9f3a"
             ],
             [
              0.8888888888888888,
              "#fdca26"
             ],
             [
              1,
              "#f0f921"
             ]
            ],
            "type": "surface"
           }
          ],
          "table": [
           {
            "cells": {
             "fill": {
              "color": "#EBF0F8"
             },
             "line": {
              "color": "white"
             }
            },
            "header": {
             "fill": {
              "color": "#C8D4E3"
             },
             "line": {
              "color": "white"
             }
            },
            "type": "table"
           }
          ]
         },
         "layout": {
          "annotationdefaults": {
           "arrowcolor": "#2a3f5f",
           "arrowhead": 0,
           "arrowwidth": 1
          },
          "autotypenumbers": "strict",
          "coloraxis": {
           "colorbar": {
            "outlinewidth": 0,
            "ticks": ""
           }
          },
          "colorscale": {
           "diverging": [
            [
             0,
             "#8e0152"
            ],
            [
             0.1,
             "#c51b7d"
            ],
            [
             0.2,
             "#de77ae"
            ],
            [
             0.3,
             "#f1b6da"
            ],
            [
             0.4,
             "#fde0ef"
            ],
            [
             0.5,
             "#f7f7f7"
            ],
            [
             0.6,
             "#e6f5d0"
            ],
            [
             0.7,
             "#b8e186"
            ],
            [
             0.8,
             "#7fbc41"
            ],
            [
             0.9,
             "#4d9221"
            ],
            [
             1,
             "#276419"
            ]
           ],
           "sequential": [
            [
             0,
             "#0d0887"
            ],
            [
             0.1111111111111111,
             "#46039f"
            ],
            [
             0.2222222222222222,
             "#7201a8"
            ],
            [
             0.3333333333333333,
             "#9c179e"
            ],
            [
             0.4444444444444444,
             "#bd3786"
            ],
            [
             0.5555555555555556,
             "#d8576b"
            ],
            [
             0.6666666666666666,
             "#ed7953"
            ],
            [
             0.7777777777777778,
             "#fb9f3a"
            ],
            [
             0.8888888888888888,
             "#fdca26"
            ],
            [
             1,
             "#f0f921"
            ]
           ],
           "sequentialminus": [
            [
             0,
             "#0d0887"
            ],
            [
             0.1111111111111111,
             "#46039f"
            ],
            [
             0.2222222222222222,
             "#7201a8"
            ],
            [
             0.3333333333333333,
             "#9c179e"
            ],
            [
             0.4444444444444444,
             "#bd3786"
            ],
            [
             0.5555555555555556,
             "#d8576b"
            ],
            [
             0.6666666666666666,
             "#ed7953"
            ],
            [
             0.7777777777777778,
             "#fb9f3a"
            ],
            [
             0.8888888888888888,
             "#fdca26"
            ],
            [
             1,
             "#f0f921"
            ]
           ]
          },
          "colorway": [
           "#636efa",
           "#EF553B",
           "#00cc96",
           "#ab63fa",
           "#FFA15A",
           "#19d3f3",
           "#FF6692",
           "#B6E880",
           "#FF97FF",
           "#FECB52"
          ],
          "font": {
           "color": "#2a3f5f"
          },
          "geo": {
           "bgcolor": "white",
           "lakecolor": "white",
           "landcolor": "#E5ECF6",
           "showlakes": true,
           "showland": true,
           "subunitcolor": "white"
          },
          "hoverlabel": {
           "align": "left"
          },
          "hovermode": "closest",
          "mapbox": {
           "style": "light"
          },
          "paper_bgcolor": "white",
          "plot_bgcolor": "#E5ECF6",
          "polar": {
           "angularaxis": {
            "gridcolor": "white",
            "linecolor": "white",
            "ticks": ""
           },
           "bgcolor": "#E5ECF6",
           "radialaxis": {
            "gridcolor": "white",
            "linecolor": "white",
            "ticks": ""
           }
          },
          "scene": {
           "xaxis": {
            "backgroundcolor": "#E5ECF6",
            "gridcolor": "white",
            "gridwidth": 2,
            "linecolor": "white",
            "showbackground": true,
            "ticks": "",
            "zerolinecolor": "white"
           },
           "yaxis": {
            "backgroundcolor": "#E5ECF6",
            "gridcolor": "white",
            "gridwidth": 2,
            "linecolor": "white",
            "showbackground": true,
            "ticks": "",
            "zerolinecolor": "white"
           },
           "zaxis": {
            "backgroundcolor": "#E5ECF6",
            "gridcolor": "white",
            "gridwidth": 2,
            "linecolor": "white",
            "showbackground": true,
            "ticks": "",
            "zerolinecolor": "white"
           }
          },
          "shapedefaults": {
           "line": {
            "color": "#2a3f5f"
           }
          },
          "ternary": {
           "aaxis": {
            "gridcolor": "white",
            "linecolor": "white",
            "ticks": ""
           },
           "baxis": {
            "gridcolor": "white",
            "linecolor": "white",
            "ticks": ""
           },
           "bgcolor": "#E5ECF6",
           "caxis": {
            "gridcolor": "white",
            "linecolor": "white",
            "ticks": ""
           }
          },
          "title": {
           "x": 0.05
          },
          "xaxis": {
           "automargin": true,
           "gridcolor": "white",
           "linecolor": "white",
           "ticks": "",
           "title": {
            "standoff": 15
           },
           "zerolinecolor": "white",
           "zerolinewidth": 2
          },
          "yaxis": {
           "automargin": true,
           "gridcolor": "white",
           "linecolor": "white",
           "ticks": "",
           "title": {
            "standoff": 15
           },
           "zerolinecolor": "white",
           "zerolinewidth": 2
          }
         }
        },
        "title": {
         "font": {
          "color": "Black",
          "size": 22
         },
         "text": "<b>Similarity Matrix</b>",
         "x": 0.55,
         "xanchor": "center",
         "y": 0.95,
         "yanchor": "top"
        },
        "width": 800,
        "xaxis": {
         "anchor": "y",
         "constrain": "domain",
         "domain": [
          0,
          1
         ],
         "scaleanchor": "y"
        },
        "yaxis": {
         "anchor": "x",
         "autorange": "reversed",
         "constrain": "domain",
         "domain": [
          0,
          1
         ]
        }
       }
      }
     },
     "metadata": {},
     "output_type": "display_data"
    }
   ],
   "source": [
    "topic_model.visualize_heatmap()"
   ]
  },
  {
   "cell_type": "markdown",
   "metadata": {},
   "source": [
    "## Attaching Discovered Topic Labels to Original Articles"
   ]
  },
  {
   "cell_type": "code",
   "execution_count": null,
   "metadata": {},
   "outputs": [],
   "source": [
    "art['Topic'] = topics\n",
    "art['Prob'] = probs\n",
    "# art = art[(art['Topic'] >= 0)]   # -1 refers to all outliers and should typically be ignored. \n",
    "art = art.drop(columns=['text'])"
   ]
  },
  {
   "cell_type": "code",
   "execution_count": null,
   "metadata": {},
   "outputs": [
    {
     "data": {
      "text/html": [
       "<div>\n",
       "<style scoped>\n",
       "    .dataframe tbody tr th:only-of-type {\n",
       "        vertical-align: middle;\n",
       "    }\n",
       "\n",
       "    .dataframe tbody tr th {\n",
       "        vertical-align: top;\n",
       "    }\n",
       "\n",
       "    .dataframe thead th {\n",
       "        text-align: right;\n",
       "    }\n",
       "</style>\n",
       "<table border=\"1\" class=\"dataframe\">\n",
       "  <thead>\n",
       "    <tr style=\"text-align: right;\">\n",
       "      <th></th>\n",
       "      <th>Article Title</th>\n",
       "      <th>Abstract</th>\n",
       "      <th>Prob</th>\n",
       "    </tr>\n",
       "  </thead>\n",
       "  <tbody>\n",
       "    <tr>\n",
       "      <th>130</th>\n",
       "      <td>Emotional Processing and Brain Activity in Youth at High Risk for Alcoholism</td>\n",
       "      <td>Background: Even in the absence of heavy alcohol use, youth with familial alcoholism (family history positive [FHP]) exhibit atypical brain functioning and behavior. Although emotional and cognitive systems are affected in alcohol use disorders (AUDs), little attention has focused on whether brain and behavior phenotypes related to the interplay between affective and executive functioning may be a premorbid risk factor for the development of AUDs in FHP youth. Methods: Twenty-four FHP and 22 family history negative (FHN) 12- to 16-year-old adolescents completed study procedures. After exclusion of participants with clinically significant depressive symptoms and those who did not meet performance criteria during an Emotional Go-NoGo task, 19 FHP and 17 FHN youth were included in functional magnetic resonance imaging (fMRI) analyses. Resting state functional connectivity MRI, using amygdalar seed regions, was analyzed in 16 FHP and 18 FHN youth, after exclusion of participants with excessive head movement. Results: fMRI showed that brain activity in FHP youth, compared with FHN peers, was reduced during emotional processing in the superior temporal cortex, as well as during cognitive control within emotional contexts in frontal and striatal regions. Group differences in resting state amygdalar connectivity were seen bilaterally between FHP and FHN youth. In FHP youth, reduced resting state synchrony between the left amygdala and left superior frontal gyrus was related to poorer response inhibition, as measured during the fMRI task. Conclusions: To our knowledge, this is the first study to examine emotion-cognition interactions and resting state functional connectivity in FHP youth. Findings from this research provide insight into neural and behavioral phenotypes associated with emotional processing in familial alcoholism, which may relate to increased risk of developing AUDs.</td>\n",
       "      <td>0.584518</td>\n",
       "    </tr>\n",
       "    <tr>\n",
       "      <th>141</th>\n",
       "      <td>Prenatal substance exposure, adverse childhood experiences and diagnosed mental and behavioral disorders - A longitudinal register-based matched cohort study in Finland</td>\n",
       "      <td>Both prenatal substance exposure (PSE, alcohol/drugs) and experiences during the first years of life have powerful effects on brain development. However, only a few studies have investigated the combined effect of PSE and adverse childhood experiences (ACEs) on mental and behavioral disorders among exposed adolescents and adults. This longitudinal register-based cohort study 1) compared the nature and extent of diagnosed mental and behavioral disorders among youth with PSE and matched unexposed controls, and 2) investigated the influence of PSE, health in infancy and ACEs (maternal risk factors and out-of-home care, OHC) on diagnoses of mental and behavioral disorders. The data consisted of 615 exposed youth aged 15-24 years and 1787 matched unexposed controls. Data from hospital medical records and nine registers were merged for the analysis. Descriptive analysis methods and Cox regression were used. The results showed that the prevalence of mental and behavioral disorders was twice as high among exposed compared with controls. The highest levels of mental and behavioral disorders and ACEs were found among exposed with at least one OHC episode. The difference in the risk of mental and behavioral disorders between exposed and controls diminished after controlling for the effect of ACEs. Low birth weight, maternal risk factors, and OHC were the strongest predictors of mental and behavioral disorders. The results suggest that PSE alone does not explain poorer mental health among exposed youth. Risk factors accumulate, and low birth weight and ACEs are strongly associated with increased risk of mental and behavioral disorders.</td>\n",
       "      <td>0.688872</td>\n",
       "    </tr>\n",
       "    <tr>\n",
       "      <th>147</th>\n",
       "      <td>The Relationship Between Socioeconomic Status and Brain Volume in Children and Adolescents With Prenatal Alcohol Exposure</td>\n",
       "      <td>The positive relationship between socioeconomic status (SES) and cognitive performance is mediated, in part, by differences in brain structure in typically developing youth. Associations between brain regions that relate to SES overlap with brain regions known to be sensitive to prenatal alcohol exposure (PAE). Animal models demonstrate that PAE attenuates neural and cognitive benefits of early life enrichment. However, whether or not environmental factors related to SES are associated with brain development in youth affected by PAE remains unknown in humans. Methods T1-weighted magnetic resonance imaging (MRI) scans were obtained in participants with PAE and compared to age- and sex- matched Controls (n = 197, 48% with PAE, 44% girls, 6.5-17.7 years old). General linear modeling was utilized to examine associations between SES and subcortical brain volumes for youth with PAE compared to Controls. Results Group by SES interactions were observed within the hippocampus (HPC), nucleus accumbens (NAc) and ventral diencephalon (vDC) (corrected p values &lt;0.05), where positive associations (e.g., higher SES related to larger subcortical volumes) were observed within Controls, but not youth with PAE. Post hoc analyses examined associations between SES and brain volumes within each group independently, and revealed widespread positive associations among Controls (Amyg, HPC, NAc, Pallidum, Putamen, vDC), but not youth with PAE. Across both groups, larger subcortical volumes were related to higher cognitive performance. Conclusion Typically developing youth exhibit increased subcortical volumes with increased SES, and surprisingly, this relationship is absent in adolescents with PAE. Findings suggest that subcortical brain volumes are neurocognitively relevant in both groups. The present results expand our understanding of the impact of PAE on the developing human brain within varying environmental contexts, and may inform novel environmental interventions that aim to improve, in part, on-going disruptions in brain development among youth with PAE. Our study highlights novel complexities in the pursuit to understand SES-brain associations, as we provide evidence that SES matters for brain outcomes among typically developing youth, and possibly not as much on an already altered brain as a result of PAE.</td>\n",
       "      <td>1.000000</td>\n",
       "    </tr>\n",
       "    <tr>\n",
       "      <th>190</th>\n",
       "      <td>Individual differences in the development of youth externalizing problems predict a broad range of adult psychosocial outcomes</td>\n",
       "      <td>This study examined how youth aggressive and delinquent externalizing problem behaviors across childhood and adolescence are connected to consequential psychosocial life outcomes in adulthood. Using data from a longitudinal, high-risk sample (N = 1069) that assessed children and their parents regularly from early childhood (ages 3-5) through adulthood, multilevel growth factors of externalizing behaviors were used to predict adult outcomes (age 24-31), providing a sense of how externalizing problems across development were related to these outcomes via maternal, paternal, teacher, and child report. Findings indicated strong support for the lasting connections between youth externalizing problems with later educational attainment and legal difficulties, spanning informants and enduring beyond other meaningful contributors (i.e., child sex, cognitive ability, parental income and education, parental mental health and relationship quality). Some support was also found, although less consistently, linking externalizing problems and later alcohol use as well as romantic relationship quality. Delinquent/rule-breaking behaviors were often stronger predictors of later outcomes than aggressive behaviors. Taken together, these results indicate the importance of the role youth externalizing behaviors have in adult psychosocial functioning one to two decades later.</td>\n",
       "      <td>0.673816</td>\n",
       "    </tr>\n",
       "    <tr>\n",
       "      <th>230</th>\n",
       "      <td>Lower total and regional grey matter brain volumes in youth with perinatally-acquired HIV infection: Associations with HIV disease severity, substance use, and cognition</td>\n",
       "      <td>Despite improved survival due to combination antiretroviral therapy (cART), youth with perinatallyacquired HIV (PHIV) show cognitive deficits and developmental delay at increased rates. HIV affects the brain during critical periods of development, and the brain may be a persistent reservoir for HIV due to suboptimal blood brain barrier penetration of cART. We conducted structural magnetic resonance imaging (sMRI) and cognitive testing in 40 PHIV youth (mean age = 16.7 years) recruited from the NIH Pediatric HIV/AIDS Cohort Study (PHACS) who are part of the first generation of PHIV youth surviving into adulthood. Historical and current HIV disease severity and substance use measures were also collected. Total and regional cortical grey matter brain volumes were compared to a group of 334 typically developing, HIV-unexposed and uninfected youth (frequency-matched for age and sex) from the Pediatric Imaging, Neurocognition, and Genetics (PING) study (mean age = 16.1 years). PHIV youth had smaller (2.8-5.1%) total and regional grey matter volumes than HIV-unexposed and uninfected youth, with smallest volumes seen among PHIV youth with higher past peak viral load (VL) and recent unsuppressed VL. In PHIV youth, worse cognitive performance correlated with smaller volumes. This pattern of smaller grey matter volumes suggests that PHIV infection may influence brain development and underlie cognitive dysfunction seen in this population. Among PHIV youth, smaller volumes were also linked to substance use (alcohol use: 9.0-13.4%; marijuana use: 10.1-16.0%). In this study, collection of substance use information was limited to the PHIV cohort; future studies should also collect substance use information in controls to further address interactions between HIV and substance use on brain volume. (C) 2017 Elsevier Inc. All rights reserved.</td>\n",
       "      <td>0.790849</td>\n",
       "    </tr>\n",
       "    <tr>\n",
       "      <th>278</th>\n",
       "      <td>Interactive Association of Dopamine Receptor (DRD4) Genotype and ADHD on Alcohol Expectancies in Children</td>\n",
       "      <td>Positive and negative alcohol expectancies (AEs) are beliefs about the consequences of alcohol use (e.g., happy, sad, lazy) and they predict patterns of adolescent and adult alcohol engagement in clinical and nonclinical samples. However, significantly less is known about predictors of AE in children, despite significant variability in AE early in and across development. To identify temporally ordered risk factors that precede AE, we evaluated the independent and interactive association of the functional 7-repeat polymorphism of the dopamine D-4 receptor (DRD4) genotype and attention-deficit/hyperactivity disorder (ADHD) with respect to individual differences in positive-social, negative-arousal, sedated/impaired, and wild/crazy AE in school-age children (N = 149) prospectively followed from 6-9 to 8-13 years of age. Controlling for age, sex, and wave, DRD4 7+ carriers reported more wild/crazy AE, but DRD4 was unrelated to the remaining AE domains. ADHD symptoms independently predicted higher negative-arousal, sedated/impaired, and wild/crazy AE, but not positive-social. We also observed a significant interaction in which ADHD symptoms positively predicted wild/crazy AE only in youth with the 7-repeat DRD4 genotype; the same interaction marginally predicted sedated/impaired AE. No interactive effects were observed for the remaining AE domains. These preliminary results suggest that, among DRD4 youth, early ADHD symptoms predict that children will expect alcohol to have wild/crazy effects. We consider these results within a developmental framework to better understand pathways to and from youth alcohol problems.</td>\n",
       "      <td>0.546188</td>\n",
       "    </tr>\n",
       "    <tr>\n",
       "      <th>502</th>\n",
       "      <td>ADHD and risky sexual behavior in adolescents: Conduct problems and substance use as mediators of risk</td>\n",
       "      <td>BackgroundRecent studies have linked attention-deficit/hyperactivity disorder (ADHD) to elevated rates of risky sexual behavior (RSB) in adult samples. The current study tested whether ADHD symptoms were associated with RSB among adolescents, and examined comorbid conduct problems and problematic substance use as joint mediators of this association. MethodsADHD symptoms, conduct problems (oppositional defiant disorder/conduct disorder symptoms), problematic alcohol use (alcohol use disorder symptoms, alcohol use frequency), problematic marijuana use (marijuana use disorder symptoms, marijuana use frequency), and RSB were assessed among an ethnically diverse cross-sectional sample of adolescents (N=115; mean age=14.9years) involved in the juvenile justice system. ResultsBootstrapped mediation models revealed an initial association between ADHD symptoms and RSB that was accounted for fully by the influence of problematic alcohol and marijuana use, but not conduct problems. A follow-up multiple groups mediation analysis demonstrated that the relationship between ADHD symptoms and RSB emerged only among youth with clinically elevated conduct problems, and that problematic marijuana use fully accounted for this relationship. Hyperactive/impulsive, but not inattentive, symptoms were related to RSB, although the pattern of indirect effects was consistent with the multiple groups analysis. ConclusionsThe association between ADHD and adolescent RSB is restricted to youth with elevated comorbid conduct problems and reflects the contributions of comorbid marijuana use problems, and to a lesser extent alcohol use problems. Early identification and treatment of these comorbid conditions may be important for the prevention of negative sexual health outcomes among youth with ADHD.</td>\n",
       "      <td>1.000000</td>\n",
       "    </tr>\n",
       "    <tr>\n",
       "      <th>518</th>\n",
       "      <td>Association of Prenatal Alcohol Exposure With Psychological, Behavioral, and Neurodevelopmental Outcomes in Children From the Adolescent Brain Cognitive Development Study</td>\n",
       "      <td>Objective: Data on the neurodevelopmental and associated behavioral effects of tight to moderate in utero alcohol exposure are limited. This retrospective investigation tested for associations between reported maternal prenatal alcohol use and psychological, behavioral, and neurodevelopmental outcomes in substance-naive youths. Methods: Participants were 9,719 youths (ages 9.0 to 10.9 years) from the Adolescent Brain Cognitive Development Study. Based on parental reports. 2,518 (25.9%) had been exposed to alcohol in utero. Generalized additive mixed models and multilevel cross-sectional and longitudinal mediation models were used to test whether prenatal alcohol exposure was associated with psychological, behavioral, and cognitive outcomes, and whether differences in brain structure and resting-state functional connectivity partially explained these associations at baseline and 1-year follow-up, after controlling for possible confounding factors. Results: Prenatal alcohol exposure of any severity was associated with greater psychopathology, attention deficits, and impulsiveness, with some effects showing a dose-dependent response. Children with prenatal alcohol exposure, compared with those without, displayed greater cerebral and regional volume and greater regional surface area. Resting-state functional connectivity was largely unaltered in children with in utero exposure. Some of the psychological and behavioral outcomes at baseline and at the 1-year follow-up were partially explained by differences in brain structure among youths who had been exposed to alcohol in utero. Conclusions: Any alcohol use during pregnancy is associated with subtle yet significant psychological and behavioral effects in children. Women should continue to be advised to abstain from alcohol consumption from conception throughout pregnancy.</td>\n",
       "      <td>0.869918</td>\n",
       "    </tr>\n",
       "    <tr>\n",
       "      <th>573</th>\n",
       "      <td>Hippocampal Volumes in Adolescents with and without a Family History of Alcoholism</td>\n",
       "      <td>Background and Objectives: The hippocampus may be vulnerable to the effects of heavy alcohol use during adolescence, which is a time of continued neurodevelopment. However, differences in hippocampal volume may be due to risk factors such as a family history (FH) of alcoholism. We examined hippocampal volumes in youth with and without a FH of alcoholism prior to the initiation of alcohol use. Methods: Participants were demographically matched adolescents (aged 12-14) with positive (n = 15; FHP) and negative (n = 15; FHN) FH of alcoholism. Each group consisted of 10 males and 5 females with minimal previous substance use. Manual hippocampal tracings were completed on high-resolution magnetic resonance images by reliable raters, and intracranial volumes were controlled in analyses. Results: FH groups did not differ on memory or hippocampal volumes, but group x gender interactions (p &lt; .05) indicated that FHP males had larger left hippocampi than FHN males. Females showed greater left versus right hippocampal asymmetry, while males showed larger right versus left asymmetry. For all adolescents, larger right hippocampal volumes predicted poorer delayed visual memory (p &lt; .01). Conclusion and Significance: Alcoholism risk factors, such as family history of alcoholism, may differentially influence adolescent hippocampal development for boys as compared to girls. Results suggest that FH does not account for prior findings of reduced left hippocampal volumes in heavy drinking youth. Findings are preliminary, but suggest that future studies examining the effects of alcohol use on the adolescent brain should consider the influence of FH, especially among boys.</td>\n",
       "      <td>0.604949</td>\n",
       "    </tr>\n",
       "    <tr>\n",
       "      <th>582</th>\n",
       "      <td>Prenatal Exposure And Child brain and mental Health (PEACH) study: protocol for a cohort study of children and youth with prenatal alcohol exposure</td>\n",
       "      <td>Introduction Fetal alcohol spectrum disorder (FASD), which is caused by prenatal alcohol exposure (PAE), affects an estimated 4% of North Americans, and is the most common preventable cause of intellectual disability. Mental health problems, including anxiety and depression, are experienced by nearly all individuals with FASD. However, there is very limited knowledge about effective mental health treatments for individuals with FASD; effective treatments are hindered in part due to a lack of understanding of the basic neurobiology underlying internalising disorders in youth with FASD. Methods and analysis The Prenatal Exposure And Child brain and mental Health (PEACH) study includes children aged 7-18 years. We will use longitudinal neuroimaging (anatomical T1-weighted, diffusion and passive viewing function MRI) and mental health assessments (Behaviour Assessment Scale for Children, Multi-dimensional Anxiety Scale for Children, Children's Depression Inventory (CDI-2), Kiddie Scale of Affective Disorders) to: (1) characterise brain development trajectories in youth with FASD, (2) determine whether brain alterations mediate increased anxiety and depression in youth with FASD and (3) identify baseline brain features that predict changes of anxiety and depression symptoms over the next 2 years. All of this will be done while considering sex and adverse postnatal experiences, which can significantly impact mental health and brain outcomes. This project will forge new understanding of FASD and mental health from a neurobiological perspective, highlighting key time periods (ie, sensitive windows) and brain regions (ie, that may be susceptible to neurostimulation), while identifying factors that predict individual trajectories of anxiety and depression symptoms. Ethics and dissemination This study was approved by the University of Calgary Conjoint Health Research Ethics Board and the University of Alberta Health Research Ethics Board. Study results will be disseminated in peer-reviewed journals, at relevant conferences and in conjunction with our knowledge mobilisation partners.</td>\n",
       "      <td>0.907908</td>\n",
       "    </tr>\n",
       "  </tbody>\n",
       "</table>\n",
       "</div>"
      ],
      "text/plain": [
       "                                                                                                                                                                  Article Title  \\\n",
       "130  Emotional Processing and Brain Activity in Youth at High Risk for Alcoholism                                                                                                 \n",
       "141  Prenatal substance exposure, adverse childhood experiences and diagnosed mental and behavioral disorders - A longitudinal register-based matched cohort study in Finland     \n",
       "147  The Relationship Between Socioeconomic Status and Brain Volume in Children and Adolescents With Prenatal Alcohol Exposure                                                    \n",
       "190  Individual differences in the development of youth externalizing problems predict a broad range of adult psychosocial outcomes                                               \n",
       "230  Lower total and regional grey matter brain volumes in youth with perinatally-acquired HIV infection: Associations with HIV disease severity, substance use, and cognition    \n",
       "278  Interactive Association of Dopamine Receptor (DRD4) Genotype and ADHD on Alcohol Expectancies in Children                                                                    \n",
       "502  ADHD and risky sexual behavior in adolescents: Conduct problems and substance use as mediators of risk                                                                       \n",
       "518  Association of Prenatal Alcohol Exposure With Psychological, Behavioral, and Neurodevelopmental Outcomes in Children From the Adolescent Brain Cognitive Development Study   \n",
       "573  Hippocampal Volumes in Adolescents with and without a Family History of Alcoholism                                                                                           \n",
       "582  Prenatal Exposure And Child brain and mental Health (PEACH) study: protocol for a cohort study of children and youth with prenatal alcohol exposure                          \n",
       "\n",
       "                                                                                                                                                                                                                                                                                                                                                                                                                                                                                                                                                                                                                                                                                                                                                                                                                                                                                                                                                                                                                                                                                                                                                                                                                                                                                                                                                                                                                                                                                                                                                                                                                                                                                                                                                                                                                                                                                                                                                                                                                                                                                                                                                                                                                                                                                                                                                                                                                         Abstract  \\\n",
       "130  Background: Even in the absence of heavy alcohol use, youth with familial alcoholism (family history positive [FHP]) exhibit atypical brain functioning and behavior. Although emotional and cognitive systems are affected in alcohol use disorders (AUDs), little attention has focused on whether brain and behavior phenotypes related to the interplay between affective and executive functioning may be a premorbid risk factor for the development of AUDs in FHP youth. Methods: Twenty-four FHP and 22 family history negative (FHN) 12- to 16-year-old adolescents completed study procedures. After exclusion of participants with clinically significant depressive symptoms and those who did not meet performance criteria during an Emotional Go-NoGo task, 19 FHP and 17 FHN youth were included in functional magnetic resonance imaging (fMRI) analyses. Resting state functional connectivity MRI, using amygdalar seed regions, was analyzed in 16 FHP and 18 FHN youth, after exclusion of participants with excessive head movement. Results: fMRI showed that brain activity in FHP youth, compared with FHN peers, was reduced during emotional processing in the superior temporal cortex, as well as during cognitive control within emotional contexts in frontal and striatal regions. Group differences in resting state amygdalar connectivity were seen bilaterally between FHP and FHN youth. In FHP youth, reduced resting state synchrony between the left amygdala and left superior frontal gyrus was related to poorer response inhibition, as measured during the fMRI task. Conclusions: To our knowledge, this is the first study to examine emotion-cognition interactions and resting state functional connectivity in FHP youth. Findings from this research provide insight into neural and behavioral phenotypes associated with emotional processing in familial alcoholism, which may relate to increased risk of developing AUDs.                                                                                                                                                                                                                                                                                                                                                                                                                                             \n",
       "141  Both prenatal substance exposure (PSE, alcohol/drugs) and experiences during the first years of life have powerful effects on brain development. However, only a few studies have investigated the combined effect of PSE and adverse childhood experiences (ACEs) on mental and behavioral disorders among exposed adolescents and adults. This longitudinal register-based cohort study 1) compared the nature and extent of diagnosed mental and behavioral disorders among youth with PSE and matched unexposed controls, and 2) investigated the influence of PSE, health in infancy and ACEs (maternal risk factors and out-of-home care, OHC) on diagnoses of mental and behavioral disorders. The data consisted of 615 exposed youth aged 15-24 years and 1787 matched unexposed controls. Data from hospital medical records and nine registers were merged for the analysis. Descriptive analysis methods and Cox regression were used. The results showed that the prevalence of mental and behavioral disorders was twice as high among exposed compared with controls. The highest levels of mental and behavioral disorders and ACEs were found among exposed with at least one OHC episode. The difference in the risk of mental and behavioral disorders between exposed and controls diminished after controlling for the effect of ACEs. Low birth weight, maternal risk factors, and OHC were the strongest predictors of mental and behavioral disorders. The results suggest that PSE alone does not explain poorer mental health among exposed youth. Risk factors accumulate, and low birth weight and ACEs are strongly associated with increased risk of mental and behavioral disorders.                                                                                                                                                                                                                                                                                                                                                                                                                                                                                                                                                                                                                                                                                                            \n",
       "147  The positive relationship between socioeconomic status (SES) and cognitive performance is mediated, in part, by differences in brain structure in typically developing youth. Associations between brain regions that relate to SES overlap with brain regions known to be sensitive to prenatal alcohol exposure (PAE). Animal models demonstrate that PAE attenuates neural and cognitive benefits of early life enrichment. However, whether or not environmental factors related to SES are associated with brain development in youth affected by PAE remains unknown in humans. Methods T1-weighted magnetic resonance imaging (MRI) scans were obtained in participants with PAE and compared to age- and sex- matched Controls (n = 197, 48% with PAE, 44% girls, 6.5-17.7 years old). General linear modeling was utilized to examine associations between SES and subcortical brain volumes for youth with PAE compared to Controls. Results Group by SES interactions were observed within the hippocampus (HPC), nucleus accumbens (NAc) and ventral diencephalon (vDC) (corrected p values <0.05), where positive associations (e.g., higher SES related to larger subcortical volumes) were observed within Controls, but not youth with PAE. Post hoc analyses examined associations between SES and brain volumes within each group independently, and revealed widespread positive associations among Controls (Amyg, HPC, NAc, Pallidum, Putamen, vDC), but not youth with PAE. Across both groups, larger subcortical volumes were related to higher cognitive performance. Conclusion Typically developing youth exhibit increased subcortical volumes with increased SES, and surprisingly, this relationship is absent in adolescents with PAE. Findings suggest that subcortical brain volumes are neurocognitively relevant in both groups. The present results expand our understanding of the impact of PAE on the developing human brain within varying environmental contexts, and may inform novel environmental interventions that aim to improve, in part, on-going disruptions in brain development among youth with PAE. Our study highlights novel complexities in the pursuit to understand SES-brain associations, as we provide evidence that SES matters for brain outcomes among typically developing youth, and possibly not as much on an already altered brain as a result of PAE.   \n",
       "190  This study examined how youth aggressive and delinquent externalizing problem behaviors across childhood and adolescence are connected to consequential psychosocial life outcomes in adulthood. Using data from a longitudinal, high-risk sample (N = 1069) that assessed children and their parents regularly from early childhood (ages 3-5) through adulthood, multilevel growth factors of externalizing behaviors were used to predict adult outcomes (age 24-31), providing a sense of how externalizing problems across development were related to these outcomes via maternal, paternal, teacher, and child report. Findings indicated strong support for the lasting connections between youth externalizing problems with later educational attainment and legal difficulties, spanning informants and enduring beyond other meaningful contributors (i.e., child sex, cognitive ability, parental income and education, parental mental health and relationship quality). Some support was also found, although less consistently, linking externalizing problems and later alcohol use as well as romantic relationship quality. Delinquent/rule-breaking behaviors were often stronger predictors of later outcomes than aggressive behaviors. Taken together, these results indicate the importance of the role youth externalizing behaviors have in adult psychosocial functioning one to two decades later.                                                                                                                                                                                                                                                                                                                                                                                                                                                                                                                                                                                                                                                                                                                                                                                                                                                                                                                                                                                                 \n",
       "230  Despite improved survival due to combination antiretroviral therapy (cART), youth with perinatallyacquired HIV (PHIV) show cognitive deficits and developmental delay at increased rates. HIV affects the brain during critical periods of development, and the brain may be a persistent reservoir for HIV due to suboptimal blood brain barrier penetration of cART. We conducted structural magnetic resonance imaging (sMRI) and cognitive testing in 40 PHIV youth (mean age = 16.7 years) recruited from the NIH Pediatric HIV/AIDS Cohort Study (PHACS) who are part of the first generation of PHIV youth surviving into adulthood. Historical and current HIV disease severity and substance use measures were also collected. Total and regional cortical grey matter brain volumes were compared to a group of 334 typically developing, HIV-unexposed and uninfected youth (frequency-matched for age and sex) from the Pediatric Imaging, Neurocognition, and Genetics (PING) study (mean age = 16.1 years). PHIV youth had smaller (2.8-5.1%) total and regional grey matter volumes than HIV-unexposed and uninfected youth, with smallest volumes seen among PHIV youth with higher past peak viral load (VL) and recent unsuppressed VL. In PHIV youth, worse cognitive performance correlated with smaller volumes. This pattern of smaller grey matter volumes suggests that PHIV infection may influence brain development and underlie cognitive dysfunction seen in this population. Among PHIV youth, smaller volumes were also linked to substance use (alcohol use: 9.0-13.4%; marijuana use: 10.1-16.0%). In this study, collection of substance use information was limited to the PHIV cohort; future studies should also collect substance use information in controls to further address interactions between HIV and substance use on brain volume. (C) 2017 Elsevier Inc. All rights reserved.                                                                                                                                                                                                                                                                                                                                                                                                                                                                                                 \n",
       "278  Positive and negative alcohol expectancies (AEs) are beliefs about the consequences of alcohol use (e.g., happy, sad, lazy) and they predict patterns of adolescent and adult alcohol engagement in clinical and nonclinical samples. However, significantly less is known about predictors of AE in children, despite significant variability in AE early in and across development. To identify temporally ordered risk factors that precede AE, we evaluated the independent and interactive association of the functional 7-repeat polymorphism of the dopamine D-4 receptor (DRD4) genotype and attention-deficit/hyperactivity disorder (ADHD) with respect to individual differences in positive-social, negative-arousal, sedated/impaired, and wild/crazy AE in school-age children (N = 149) prospectively followed from 6-9 to 8-13 years of age. Controlling for age, sex, and wave, DRD4 7+ carriers reported more wild/crazy AE, but DRD4 was unrelated to the remaining AE domains. ADHD symptoms independently predicted higher negative-arousal, sedated/impaired, and wild/crazy AE, but not positive-social. We also observed a significant interaction in which ADHD symptoms positively predicted wild/crazy AE only in youth with the 7-repeat DRD4 genotype; the same interaction marginally predicted sedated/impaired AE. No interactive effects were observed for the remaining AE domains. These preliminary results suggest that, among DRD4 youth, early ADHD symptoms predict that children will expect alcohol to have wild/crazy effects. We consider these results within a developmental framework to better understand pathways to and from youth alcohol problems.                                                                                                                                                                                                                                                                                                                                                                                                                                                                                                                                                                                                                                                                                                                         \n",
       "502  BackgroundRecent studies have linked attention-deficit/hyperactivity disorder (ADHD) to elevated rates of risky sexual behavior (RSB) in adult samples. The current study tested whether ADHD symptoms were associated with RSB among adolescents, and examined comorbid conduct problems and problematic substance use as joint mediators of this association. MethodsADHD symptoms, conduct problems (oppositional defiant disorder/conduct disorder symptoms), problematic alcohol use (alcohol use disorder symptoms, alcohol use frequency), problematic marijuana use (marijuana use disorder symptoms, marijuana use frequency), and RSB were assessed among an ethnically diverse cross-sectional sample of adolescents (N=115; mean age=14.9years) involved in the juvenile justice system. ResultsBootstrapped mediation models revealed an initial association between ADHD symptoms and RSB that was accounted for fully by the influence of problematic alcohol and marijuana use, but not conduct problems. A follow-up multiple groups mediation analysis demonstrated that the relationship between ADHD symptoms and RSB emerged only among youth with clinically elevated conduct problems, and that problematic marijuana use fully accounted for this relationship. Hyperactive/impulsive, but not inattentive, symptoms were related to RSB, although the pattern of indirect effects was consistent with the multiple groups analysis. ConclusionsThe association between ADHD and adolescent RSB is restricted to youth with elevated comorbid conduct problems and reflects the contributions of comorbid marijuana use problems, and to a lesser extent alcohol use problems. Early identification and treatment of these comorbid conditions may be important for the prevention of negative sexual health outcomes among youth with ADHD.                                                                                                                                                                                                                                                                                                                                                                                                                                                                                                                                                           \n",
       "518  Objective: Data on the neurodevelopmental and associated behavioral effects of tight to moderate in utero alcohol exposure are limited. This retrospective investigation tested for associations between reported maternal prenatal alcohol use and psychological, behavioral, and neurodevelopmental outcomes in substance-naive youths. Methods: Participants were 9,719 youths (ages 9.0 to 10.9 years) from the Adolescent Brain Cognitive Development Study. Based on parental reports. 2,518 (25.9%) had been exposed to alcohol in utero. Generalized additive mixed models and multilevel cross-sectional and longitudinal mediation models were used to test whether prenatal alcohol exposure was associated with psychological, behavioral, and cognitive outcomes, and whether differences in brain structure and resting-state functional connectivity partially explained these associations at baseline and 1-year follow-up, after controlling for possible confounding factors. Results: Prenatal alcohol exposure of any severity was associated with greater psychopathology, attention deficits, and impulsiveness, with some effects showing a dose-dependent response. Children with prenatal alcohol exposure, compared with those without, displayed greater cerebral and regional volume and greater regional surface area. Resting-state functional connectivity was largely unaltered in children with in utero exposure. Some of the psychological and behavioral outcomes at baseline and at the 1-year follow-up were partially explained by differences in brain structure among youths who had been exposed to alcohol in utero. Conclusions: Any alcohol use during pregnancy is associated with subtle yet significant psychological and behavioral effects in children. Women should continue to be advised to abstain from alcohol consumption from conception throughout pregnancy.                                                                                                                                                                                                                                                                                                                                                                                                                                                                                                       \n",
       "573  Background and Objectives: The hippocampus may be vulnerable to the effects of heavy alcohol use during adolescence, which is a time of continued neurodevelopment. However, differences in hippocampal volume may be due to risk factors such as a family history (FH) of alcoholism. We examined hippocampal volumes in youth with and without a FH of alcoholism prior to the initiation of alcohol use. Methods: Participants were demographically matched adolescents (aged 12-14) with positive (n = 15; FHP) and negative (n = 15; FHN) FH of alcoholism. Each group consisted of 10 males and 5 females with minimal previous substance use. Manual hippocampal tracings were completed on high-resolution magnetic resonance images by reliable raters, and intracranial volumes were controlled in analyses. Results: FH groups did not differ on memory or hippocampal volumes, but group x gender interactions (p < .05) indicated that FHP males had larger left hippocampi than FHN males. Females showed greater left versus right hippocampal asymmetry, while males showed larger right versus left asymmetry. For all adolescents, larger right hippocampal volumes predicted poorer delayed visual memory (p < .01). Conclusion and Significance: Alcoholism risk factors, such as family history of alcoholism, may differentially influence adolescent hippocampal development for boys as compared to girls. Results suggest that FH does not account for prior findings of reduced left hippocampal volumes in heavy drinking youth. Findings are preliminary, but suggest that future studies examining the effects of alcohol use on the adolescent brain should consider the influence of FH, especially among boys.                                                                                                                                                                                                                                                                                                                                                                                                                                                                                                                                                                                                                                                                                 \n",
       "582  Introduction Fetal alcohol spectrum disorder (FASD), which is caused by prenatal alcohol exposure (PAE), affects an estimated 4% of North Americans, and is the most common preventable cause of intellectual disability. Mental health problems, including anxiety and depression, are experienced by nearly all individuals with FASD. However, there is very limited knowledge about effective mental health treatments for individuals with FASD; effective treatments are hindered in part due to a lack of understanding of the basic neurobiology underlying internalising disorders in youth with FASD. Methods and analysis The Prenatal Exposure And Child brain and mental Health (PEACH) study includes children aged 7-18 years. We will use longitudinal neuroimaging (anatomical T1-weighted, diffusion and passive viewing function MRI) and mental health assessments (Behaviour Assessment Scale for Children, Multi-dimensional Anxiety Scale for Children, Children's Depression Inventory (CDI-2), Kiddie Scale of Affective Disorders) to: (1) characterise brain development trajectories in youth with FASD, (2) determine whether brain alterations mediate increased anxiety and depression in youth with FASD and (3) identify baseline brain features that predict changes of anxiety and depression symptoms over the next 2 years. All of this will be done while considering sex and adverse postnatal experiences, which can significantly impact mental health and brain outcomes. This project will forge new understanding of FASD and mental health from a neurobiological perspective, highlighting key time periods (ie, sensitive windows) and brain regions (ie, that may be susceptible to neurostimulation), while identifying factors that predict individual trajectories of anxiety and depression symptoms. Ethics and dissemination This study was approved by the University of Calgary Conjoint Health Research Ethics Board and the University of Alberta Health Research Ethics Board. Study results will be disseminated in peer-reviewed journals, at relevant conferences and in conjunction with our knowledge mobilisation partners.                                                                                                                                                                                                                                   \n",
       "\n",
       "         Prob  \n",
       "130  0.584518  \n",
       "141  0.688872  \n",
       "147  1.000000  \n",
       "190  0.673816  \n",
       "230  0.790849  \n",
       "278  0.546188  \n",
       "502  1.000000  \n",
       "518  0.869918  \n",
       "573  0.604949  \n",
       "582  0.907908  "
      ]
     },
     "execution_count": 26,
     "metadata": {},
     "output_type": "execute_result"
    }
   ],
   "source": [
    "art[art['Topic'] == 1][['Article Title','Abstract','Prob']][:10]"
   ]
  },
  {
   "cell_type": "markdown",
   "metadata": {},
   "source": [
    "## Number of articles per topic and per year"
   ]
  },
  {
   "cell_type": "code",
   "execution_count": null,
   "metadata": {},
   "outputs": [
    {
     "data": {
      "text/html": [
       "<div>\n",
       "<style scoped>\n",
       "    .dataframe tbody tr th:only-of-type {\n",
       "        vertical-align: middle;\n",
       "    }\n",
       "\n",
       "    .dataframe tbody tr th {\n",
       "        vertical-align: top;\n",
       "    }\n",
       "\n",
       "    .dataframe thead th {\n",
       "        text-align: right;\n",
       "    }\n",
       "</style>\n",
       "<table border=\"1\" class=\"dataframe\">\n",
       "  <thead>\n",
       "    <tr style=\"text-align: right;\">\n",
       "      <th>Topic</th>\n",
       "      <th>-1</th>\n",
       "      <th>0</th>\n",
       "      <th>1</th>\n",
       "      <th>2</th>\n",
       "      <th>3</th>\n",
       "      <th>4</th>\n",
       "      <th>5</th>\n",
       "      <th>6</th>\n",
       "      <th>7</th>\n",
       "      <th>8</th>\n",
       "      <th>9</th>\n",
       "      <th>All</th>\n",
       "    </tr>\n",
       "    <tr>\n",
       "      <th>Publication Year</th>\n",
       "      <th></th>\n",
       "      <th></th>\n",
       "      <th></th>\n",
       "      <th></th>\n",
       "      <th></th>\n",
       "      <th></th>\n",
       "      <th></th>\n",
       "      <th></th>\n",
       "      <th></th>\n",
       "      <th></th>\n",
       "      <th></th>\n",
       "      <th></th>\n",
       "    </tr>\n",
       "  </thead>\n",
       "  <tbody>\n",
       "    <tr>\n",
       "      <th>2000</th>\n",
       "      <td>11</td>\n",
       "      <td>10</td>\n",
       "      <td>1</td>\n",
       "      <td>2</td>\n",
       "      <td>0</td>\n",
       "      <td>0</td>\n",
       "      <td>0</td>\n",
       "      <td>0</td>\n",
       "      <td>0</td>\n",
       "      <td>0</td>\n",
       "      <td>0</td>\n",
       "      <td>24</td>\n",
       "    </tr>\n",
       "    <tr>\n",
       "      <th>2001</th>\n",
       "      <td>14</td>\n",
       "      <td>10</td>\n",
       "      <td>3</td>\n",
       "      <td>0</td>\n",
       "      <td>2</td>\n",
       "      <td>0</td>\n",
       "      <td>1</td>\n",
       "      <td>1</td>\n",
       "      <td>0</td>\n",
       "      <td>0</td>\n",
       "      <td>0</td>\n",
       "      <td>31</td>\n",
       "    </tr>\n",
       "    <tr>\n",
       "      <th>2002</th>\n",
       "      <td>12</td>\n",
       "      <td>16</td>\n",
       "      <td>0</td>\n",
       "      <td>2</td>\n",
       "      <td>3</td>\n",
       "      <td>0</td>\n",
       "      <td>1</td>\n",
       "      <td>2</td>\n",
       "      <td>0</td>\n",
       "      <td>0</td>\n",
       "      <td>0</td>\n",
       "      <td>36</td>\n",
       "    </tr>\n",
       "    <tr>\n",
       "      <th>2003</th>\n",
       "      <td>9</td>\n",
       "      <td>16</td>\n",
       "      <td>0</td>\n",
       "      <td>0</td>\n",
       "      <td>1</td>\n",
       "      <td>0</td>\n",
       "      <td>1</td>\n",
       "      <td>0</td>\n",
       "      <td>1</td>\n",
       "      <td>0</td>\n",
       "      <td>0</td>\n",
       "      <td>28</td>\n",
       "    </tr>\n",
       "    <tr>\n",
       "      <th>2004</th>\n",
       "      <td>8</td>\n",
       "      <td>13</td>\n",
       "      <td>1</td>\n",
       "      <td>0</td>\n",
       "      <td>0</td>\n",
       "      <td>0</td>\n",
       "      <td>0</td>\n",
       "      <td>2</td>\n",
       "      <td>0</td>\n",
       "      <td>0</td>\n",
       "      <td>0</td>\n",
       "      <td>24</td>\n",
       "    </tr>\n",
       "    <tr>\n",
       "      <th>2005</th>\n",
       "      <td>13</td>\n",
       "      <td>17</td>\n",
       "      <td>1</td>\n",
       "      <td>2</td>\n",
       "      <td>1</td>\n",
       "      <td>0</td>\n",
       "      <td>0</td>\n",
       "      <td>1</td>\n",
       "      <td>0</td>\n",
       "      <td>1</td>\n",
       "      <td>0</td>\n",
       "      <td>36</td>\n",
       "    </tr>\n",
       "    <tr>\n",
       "      <th>2006</th>\n",
       "      <td>25</td>\n",
       "      <td>35</td>\n",
       "      <td>2</td>\n",
       "      <td>1</td>\n",
       "      <td>1</td>\n",
       "      <td>0</td>\n",
       "      <td>2</td>\n",
       "      <td>0</td>\n",
       "      <td>1</td>\n",
       "      <td>0</td>\n",
       "      <td>0</td>\n",
       "      <td>67</td>\n",
       "    </tr>\n",
       "    <tr>\n",
       "      <th>2007</th>\n",
       "      <td>28</td>\n",
       "      <td>55</td>\n",
       "      <td>4</td>\n",
       "      <td>0</td>\n",
       "      <td>1</td>\n",
       "      <td>1</td>\n",
       "      <td>3</td>\n",
       "      <td>0</td>\n",
       "      <td>0</td>\n",
       "      <td>1</td>\n",
       "      <td>0</td>\n",
       "      <td>93</td>\n",
       "    </tr>\n",
       "    <tr>\n",
       "      <th>2008</th>\n",
       "      <td>47</td>\n",
       "      <td>82</td>\n",
       "      <td>4</td>\n",
       "      <td>1</td>\n",
       "      <td>1</td>\n",
       "      <td>2</td>\n",
       "      <td>4</td>\n",
       "      <td>0</td>\n",
       "      <td>1</td>\n",
       "      <td>1</td>\n",
       "      <td>0</td>\n",
       "      <td>143</td>\n",
       "    </tr>\n",
       "    <tr>\n",
       "      <th>2009</th>\n",
       "      <td>41</td>\n",
       "      <td>92</td>\n",
       "      <td>2</td>\n",
       "      <td>2</td>\n",
       "      <td>2</td>\n",
       "      <td>0</td>\n",
       "      <td>2</td>\n",
       "      <td>1</td>\n",
       "      <td>0</td>\n",
       "      <td>1</td>\n",
       "      <td>0</td>\n",
       "      <td>143</td>\n",
       "    </tr>\n",
       "    <tr>\n",
       "      <th>2010</th>\n",
       "      <td>54</td>\n",
       "      <td>102</td>\n",
       "      <td>1</td>\n",
       "      <td>0</td>\n",
       "      <td>0</td>\n",
       "      <td>0</td>\n",
       "      <td>3</td>\n",
       "      <td>2</td>\n",
       "      <td>2</td>\n",
       "      <td>1</td>\n",
       "      <td>0</td>\n",
       "      <td>165</td>\n",
       "    </tr>\n",
       "    <tr>\n",
       "      <th>2011</th>\n",
       "      <td>74</td>\n",
       "      <td>129</td>\n",
       "      <td>10</td>\n",
       "      <td>6</td>\n",
       "      <td>7</td>\n",
       "      <td>4</td>\n",
       "      <td>2</td>\n",
       "      <td>1</td>\n",
       "      <td>1</td>\n",
       "      <td>4</td>\n",
       "      <td>1</td>\n",
       "      <td>239</td>\n",
       "    </tr>\n",
       "    <tr>\n",
       "      <th>2012</th>\n",
       "      <td>81</td>\n",
       "      <td>141</td>\n",
       "      <td>8</td>\n",
       "      <td>3</td>\n",
       "      <td>5</td>\n",
       "      <td>3</td>\n",
       "      <td>1</td>\n",
       "      <td>3</td>\n",
       "      <td>0</td>\n",
       "      <td>2</td>\n",
       "      <td>0</td>\n",
       "      <td>247</td>\n",
       "    </tr>\n",
       "    <tr>\n",
       "      <th>2013</th>\n",
       "      <td>71</td>\n",
       "      <td>170</td>\n",
       "      <td>10</td>\n",
       "      <td>8</td>\n",
       "      <td>4</td>\n",
       "      <td>1</td>\n",
       "      <td>4</td>\n",
       "      <td>3</td>\n",
       "      <td>1</td>\n",
       "      <td>2</td>\n",
       "      <td>1</td>\n",
       "      <td>275</td>\n",
       "    </tr>\n",
       "    <tr>\n",
       "      <th>2014</th>\n",
       "      <td>99</td>\n",
       "      <td>197</td>\n",
       "      <td>17</td>\n",
       "      <td>3</td>\n",
       "      <td>7</td>\n",
       "      <td>7</td>\n",
       "      <td>5</td>\n",
       "      <td>5</td>\n",
       "      <td>0</td>\n",
       "      <td>2</td>\n",
       "      <td>1</td>\n",
       "      <td>343</td>\n",
       "    </tr>\n",
       "    <tr>\n",
       "      <th>2015</th>\n",
       "      <td>106</td>\n",
       "      <td>179</td>\n",
       "      <td>10</td>\n",
       "      <td>3</td>\n",
       "      <td>4</td>\n",
       "      <td>10</td>\n",
       "      <td>3</td>\n",
       "      <td>1</td>\n",
       "      <td>1</td>\n",
       "      <td>2</td>\n",
       "      <td>3</td>\n",
       "      <td>322</td>\n",
       "    </tr>\n",
       "    <tr>\n",
       "      <th>2016</th>\n",
       "      <td>96</td>\n",
       "      <td>181</td>\n",
       "      <td>13</td>\n",
       "      <td>2</td>\n",
       "      <td>7</td>\n",
       "      <td>5</td>\n",
       "      <td>3</td>\n",
       "      <td>1</td>\n",
       "      <td>4</td>\n",
       "      <td>2</td>\n",
       "      <td>1</td>\n",
       "      <td>315</td>\n",
       "    </tr>\n",
       "    <tr>\n",
       "      <th>2017</th>\n",
       "      <td>112</td>\n",
       "      <td>192</td>\n",
       "      <td>7</td>\n",
       "      <td>10</td>\n",
       "      <td>6</td>\n",
       "      <td>7</td>\n",
       "      <td>5</td>\n",
       "      <td>3</td>\n",
       "      <td>3</td>\n",
       "      <td>5</td>\n",
       "      <td>1</td>\n",
       "      <td>351</td>\n",
       "    </tr>\n",
       "    <tr>\n",
       "      <th>2018</th>\n",
       "      <td>101</td>\n",
       "      <td>194</td>\n",
       "      <td>8</td>\n",
       "      <td>14</td>\n",
       "      <td>7</td>\n",
       "      <td>12</td>\n",
       "      <td>4</td>\n",
       "      <td>5</td>\n",
       "      <td>2</td>\n",
       "      <td>2</td>\n",
       "      <td>1</td>\n",
       "      <td>350</td>\n",
       "    </tr>\n",
       "    <tr>\n",
       "      <th>2019</th>\n",
       "      <td>129</td>\n",
       "      <td>252</td>\n",
       "      <td>8</td>\n",
       "      <td>11</td>\n",
       "      <td>7</td>\n",
       "      <td>9</td>\n",
       "      <td>3</td>\n",
       "      <td>6</td>\n",
       "      <td>6</td>\n",
       "      <td>2</td>\n",
       "      <td>1</td>\n",
       "      <td>434</td>\n",
       "    </tr>\n",
       "    <tr>\n",
       "      <th>2020</th>\n",
       "      <td>140</td>\n",
       "      <td>247</td>\n",
       "      <td>16</td>\n",
       "      <td>15</td>\n",
       "      <td>6</td>\n",
       "      <td>10</td>\n",
       "      <td>6</td>\n",
       "      <td>5</td>\n",
       "      <td>4</td>\n",
       "      <td>1</td>\n",
       "      <td>0</td>\n",
       "      <td>450</td>\n",
       "    </tr>\n",
       "    <tr>\n",
       "      <th>2021</th>\n",
       "      <td>136</td>\n",
       "      <td>249</td>\n",
       "      <td>11</td>\n",
       "      <td>16</td>\n",
       "      <td>11</td>\n",
       "      <td>8</td>\n",
       "      <td>5</td>\n",
       "      <td>4</td>\n",
       "      <td>4</td>\n",
       "      <td>4</td>\n",
       "      <td>0</td>\n",
       "      <td>448</td>\n",
       "    </tr>\n",
       "    <tr>\n",
       "      <th>2022</th>\n",
       "      <td>154</td>\n",
       "      <td>242</td>\n",
       "      <td>8</td>\n",
       "      <td>30</td>\n",
       "      <td>17</td>\n",
       "      <td>8</td>\n",
       "      <td>8</td>\n",
       "      <td>8</td>\n",
       "      <td>7</td>\n",
       "      <td>5</td>\n",
       "      <td>0</td>\n",
       "      <td>487</td>\n",
       "    </tr>\n",
       "    <tr>\n",
       "      <th>2023</th>\n",
       "      <td>127</td>\n",
       "      <td>229</td>\n",
       "      <td>6</td>\n",
       "      <td>15</td>\n",
       "      <td>9</td>\n",
       "      <td>10</td>\n",
       "      <td>7</td>\n",
       "      <td>5</td>\n",
       "      <td>2</td>\n",
       "      <td>3</td>\n",
       "      <td>1</td>\n",
       "      <td>414</td>\n",
       "    </tr>\n",
       "    <tr>\n",
       "      <th>2024</th>\n",
       "      <td>40</td>\n",
       "      <td>68</td>\n",
       "      <td>2</td>\n",
       "      <td>6</td>\n",
       "      <td>7</td>\n",
       "      <td>3</td>\n",
       "      <td>2</td>\n",
       "      <td>2</td>\n",
       "      <td>1</td>\n",
       "      <td>0</td>\n",
       "      <td>0</td>\n",
       "      <td>131</td>\n",
       "    </tr>\n",
       "    <tr>\n",
       "      <th>All</th>\n",
       "      <td>1728</td>\n",
       "      <td>3118</td>\n",
       "      <td>153</td>\n",
       "      <td>152</td>\n",
       "      <td>116</td>\n",
       "      <td>100</td>\n",
       "      <td>75</td>\n",
       "      <td>61</td>\n",
       "      <td>41</td>\n",
       "      <td>41</td>\n",
       "      <td>11</td>\n",
       "      <td>5596</td>\n",
       "    </tr>\n",
       "  </tbody>\n",
       "</table>\n",
       "</div>"
      ],
      "text/plain": [
       "Topic               -1     0    1    2    3    4   5   6   7   8   9   All\n",
       "Publication Year                                                          \n",
       "2000              11    10    1    2    0    0    0   0   0   0   0   24  \n",
       "2001              14    10    3    0    2    0    1   1   0   0   0   31  \n",
       "2002              12    16    0    2    3    0    1   2   0   0   0   36  \n",
       "2003              9     16    0    0    1    0    1   0   1   0   0   28  \n",
       "2004              8     13    1    0    0    0    0   2   0   0   0   24  \n",
       "2005              13    17    1    2    1    0    0   1   0   1   0   36  \n",
       "2006              25    35    2    1    1    0    2   0   1   0   0   67  \n",
       "2007              28    55    4    0    1    1    3   0   0   1   0   93  \n",
       "2008              47    82    4    1    1    2    4   0   1   1   0   143 \n",
       "2009              41    92    2    2    2    0    2   1   0   1   0   143 \n",
       "2010              54    102   1    0    0    0    3   2   2   1   0   165 \n",
       "2011              74    129   10   6    7    4    2   1   1   4   1   239 \n",
       "2012              81    141   8    3    5    3    1   3   0   2   0   247 \n",
       "2013              71    170   10   8    4    1    4   3   1   2   1   275 \n",
       "2014              99    197   17   3    7    7    5   5   0   2   1   343 \n",
       "2015              106   179   10   3    4    10   3   1   1   2   3   322 \n",
       "2016              96    181   13   2    7    5    3   1   4   2   1   315 \n",
       "2017              112   192   7    10   6    7    5   3   3   5   1   351 \n",
       "2018              101   194   8    14   7    12   4   5   2   2   1   350 \n",
       "2019              129   252   8    11   7    9    3   6   6   2   1   434 \n",
       "2020              140   247   16   15   6    10   6   5   4   1   0   450 \n",
       "2021              136   249   11   16   11   8    5   4   4   4   0   448 \n",
       "2022              154   242   8    30   17   8    8   8   7   5   0   487 \n",
       "2023              127   229   6    15   9    10   7   5   2   3   1   414 \n",
       "2024              40    68    2    6    7    3    2   2   1   0   0   131 \n",
       "All               1728  3118  153  152  116  100  75  61  41  41  11  5596"
      ]
     },
     "execution_count": 27,
     "metadata": {},
     "output_type": "execute_result"
    }
   ],
   "source": [
    "# pivot table year x topic --> count\n",
    "\n",
    "pvt = pd.pivot_table(art, columns=\"Topic\", index=\"Publication Year\", values='Abstract',aggfunc='count', margins=True).fillna(0).astype(int)\n",
    "pvt"
   ]
  },
  {
   "cell_type": "code",
   "execution_count": null,
   "metadata": {},
   "outputs": [],
   "source": [
    "pvt.to_excel('../pvt.xlsx')"
   ]
  },
  {
   "cell_type": "markdown",
   "metadata": {},
   "source": [
    "### Time trends"
   ]
  },
  {
   "cell_type": "code",
   "execution_count": null,
   "metadata": {},
   "outputs": [
    {
     "data": {
      "text/html": [
       "<div>\n",
       "<style scoped>\n",
       "    .dataframe tbody tr th:only-of-type {\n",
       "        vertical-align: middle;\n",
       "    }\n",
       "\n",
       "    .dataframe tbody tr th {\n",
       "        vertical-align: top;\n",
       "    }\n",
       "\n",
       "    .dataframe thead th {\n",
       "        text-align: right;\n",
       "    }\n",
       "</style>\n",
       "<table border=\"1\" class=\"dataframe\">\n",
       "  <thead>\n",
       "    <tr style=\"text-align: right;\">\n",
       "      <th>Topic</th>\n",
       "      <th>Publication Year</th>\n",
       "      <th>-1</th>\n",
       "      <th>0</th>\n",
       "      <th>1</th>\n",
       "      <th>2</th>\n",
       "      <th>3</th>\n",
       "      <th>4</th>\n",
       "      <th>5</th>\n",
       "      <th>6</th>\n",
       "      <th>7</th>\n",
       "      <th>8</th>\n",
       "      <th>9</th>\n",
       "    </tr>\n",
       "  </thead>\n",
       "  <tbody>\n",
       "    <tr>\n",
       "      <th>0</th>\n",
       "      <td>2000</td>\n",
       "      <td>11</td>\n",
       "      <td>10</td>\n",
       "      <td>1</td>\n",
       "      <td>2</td>\n",
       "      <td>0</td>\n",
       "      <td>0</td>\n",
       "      <td>0</td>\n",
       "      <td>0</td>\n",
       "      <td>0</td>\n",
       "      <td>0</td>\n",
       "      <td>0</td>\n",
       "    </tr>\n",
       "    <tr>\n",
       "      <th>1</th>\n",
       "      <td>2001</td>\n",
       "      <td>14</td>\n",
       "      <td>10</td>\n",
       "      <td>3</td>\n",
       "      <td>0</td>\n",
       "      <td>2</td>\n",
       "      <td>0</td>\n",
       "      <td>1</td>\n",
       "      <td>1</td>\n",
       "      <td>0</td>\n",
       "      <td>0</td>\n",
       "      <td>0</td>\n",
       "    </tr>\n",
       "    <tr>\n",
       "      <th>2</th>\n",
       "      <td>2002</td>\n",
       "      <td>12</td>\n",
       "      <td>16</td>\n",
       "      <td>0</td>\n",
       "      <td>2</td>\n",
       "      <td>3</td>\n",
       "      <td>0</td>\n",
       "      <td>1</td>\n",
       "      <td>2</td>\n",
       "      <td>0</td>\n",
       "      <td>0</td>\n",
       "      <td>0</td>\n",
       "    </tr>\n",
       "    <tr>\n",
       "      <th>3</th>\n",
       "      <td>2003</td>\n",
       "      <td>9</td>\n",
       "      <td>16</td>\n",
       "      <td>0</td>\n",
       "      <td>0</td>\n",
       "      <td>1</td>\n",
       "      <td>0</td>\n",
       "      <td>1</td>\n",
       "      <td>0</td>\n",
       "      <td>1</td>\n",
       "      <td>0</td>\n",
       "      <td>0</td>\n",
       "    </tr>\n",
       "    <tr>\n",
       "      <th>4</th>\n",
       "      <td>2004</td>\n",
       "      <td>8</td>\n",
       "      <td>13</td>\n",
       "      <td>1</td>\n",
       "      <td>0</td>\n",
       "      <td>0</td>\n",
       "      <td>0</td>\n",
       "      <td>0</td>\n",
       "      <td>2</td>\n",
       "      <td>0</td>\n",
       "      <td>0</td>\n",
       "      <td>0</td>\n",
       "    </tr>\n",
       "    <tr>\n",
       "      <th>5</th>\n",
       "      <td>2005</td>\n",
       "      <td>13</td>\n",
       "      <td>17</td>\n",
       "      <td>1</td>\n",
       "      <td>2</td>\n",
       "      <td>1</td>\n",
       "      <td>0</td>\n",
       "      <td>0</td>\n",
       "      <td>1</td>\n",
       "      <td>0</td>\n",
       "      <td>1</td>\n",
       "      <td>0</td>\n",
       "    </tr>\n",
       "    <tr>\n",
       "      <th>6</th>\n",
       "      <td>2006</td>\n",
       "      <td>25</td>\n",
       "      <td>35</td>\n",
       "      <td>2</td>\n",
       "      <td>1</td>\n",
       "      <td>1</td>\n",
       "      <td>0</td>\n",
       "      <td>2</td>\n",
       "      <td>0</td>\n",
       "      <td>1</td>\n",
       "      <td>0</td>\n",
       "      <td>0</td>\n",
       "    </tr>\n",
       "    <tr>\n",
       "      <th>7</th>\n",
       "      <td>2007</td>\n",
       "      <td>28</td>\n",
       "      <td>55</td>\n",
       "      <td>4</td>\n",
       "      <td>0</td>\n",
       "      <td>1</td>\n",
       "      <td>1</td>\n",
       "      <td>3</td>\n",
       "      <td>0</td>\n",
       "      <td>0</td>\n",
       "      <td>1</td>\n",
       "      <td>0</td>\n",
       "    </tr>\n",
       "    <tr>\n",
       "      <th>8</th>\n",
       "      <td>2008</td>\n",
       "      <td>47</td>\n",
       "      <td>82</td>\n",
       "      <td>4</td>\n",
       "      <td>1</td>\n",
       "      <td>1</td>\n",
       "      <td>2</td>\n",
       "      <td>4</td>\n",
       "      <td>0</td>\n",
       "      <td>1</td>\n",
       "      <td>1</td>\n",
       "      <td>0</td>\n",
       "    </tr>\n",
       "    <tr>\n",
       "      <th>9</th>\n",
       "      <td>2009</td>\n",
       "      <td>41</td>\n",
       "      <td>92</td>\n",
       "      <td>2</td>\n",
       "      <td>2</td>\n",
       "      <td>2</td>\n",
       "      <td>0</td>\n",
       "      <td>2</td>\n",
       "      <td>1</td>\n",
       "      <td>0</td>\n",
       "      <td>1</td>\n",
       "      <td>0</td>\n",
       "    </tr>\n",
       "    <tr>\n",
       "      <th>10</th>\n",
       "      <td>2010</td>\n",
       "      <td>54</td>\n",
       "      <td>102</td>\n",
       "      <td>1</td>\n",
       "      <td>0</td>\n",
       "      <td>0</td>\n",
       "      <td>0</td>\n",
       "      <td>3</td>\n",
       "      <td>2</td>\n",
       "      <td>2</td>\n",
       "      <td>1</td>\n",
       "      <td>0</td>\n",
       "    </tr>\n",
       "    <tr>\n",
       "      <th>11</th>\n",
       "      <td>2011</td>\n",
       "      <td>74</td>\n",
       "      <td>129</td>\n",
       "      <td>10</td>\n",
       "      <td>6</td>\n",
       "      <td>7</td>\n",
       "      <td>4</td>\n",
       "      <td>2</td>\n",
       "      <td>1</td>\n",
       "      <td>1</td>\n",
       "      <td>4</td>\n",
       "      <td>1</td>\n",
       "    </tr>\n",
       "    <tr>\n",
       "      <th>12</th>\n",
       "      <td>2012</td>\n",
       "      <td>81</td>\n",
       "      <td>141</td>\n",
       "      <td>8</td>\n",
       "      <td>3</td>\n",
       "      <td>5</td>\n",
       "      <td>3</td>\n",
       "      <td>1</td>\n",
       "      <td>3</td>\n",
       "      <td>0</td>\n",
       "      <td>2</td>\n",
       "      <td>0</td>\n",
       "    </tr>\n",
       "    <tr>\n",
       "      <th>13</th>\n",
       "      <td>2013</td>\n",
       "      <td>71</td>\n",
       "      <td>170</td>\n",
       "      <td>10</td>\n",
       "      <td>8</td>\n",
       "      <td>4</td>\n",
       "      <td>1</td>\n",
       "      <td>4</td>\n",
       "      <td>3</td>\n",
       "      <td>1</td>\n",
       "      <td>2</td>\n",
       "      <td>1</td>\n",
       "    </tr>\n",
       "    <tr>\n",
       "      <th>14</th>\n",
       "      <td>2014</td>\n",
       "      <td>99</td>\n",
       "      <td>197</td>\n",
       "      <td>17</td>\n",
       "      <td>3</td>\n",
       "      <td>7</td>\n",
       "      <td>7</td>\n",
       "      <td>5</td>\n",
       "      <td>5</td>\n",
       "      <td>0</td>\n",
       "      <td>2</td>\n",
       "      <td>1</td>\n",
       "    </tr>\n",
       "    <tr>\n",
       "      <th>15</th>\n",
       "      <td>2015</td>\n",
       "      <td>106</td>\n",
       "      <td>179</td>\n",
       "      <td>10</td>\n",
       "      <td>3</td>\n",
       "      <td>4</td>\n",
       "      <td>10</td>\n",
       "      <td>3</td>\n",
       "      <td>1</td>\n",
       "      <td>1</td>\n",
       "      <td>2</td>\n",
       "      <td>3</td>\n",
       "    </tr>\n",
       "    <tr>\n",
       "      <th>16</th>\n",
       "      <td>2016</td>\n",
       "      <td>96</td>\n",
       "      <td>181</td>\n",
       "      <td>13</td>\n",
       "      <td>2</td>\n",
       "      <td>7</td>\n",
       "      <td>5</td>\n",
       "      <td>3</td>\n",
       "      <td>1</td>\n",
       "      <td>4</td>\n",
       "      <td>2</td>\n",
       "      <td>1</td>\n",
       "    </tr>\n",
       "    <tr>\n",
       "      <th>17</th>\n",
       "      <td>2017</td>\n",
       "      <td>112</td>\n",
       "      <td>192</td>\n",
       "      <td>7</td>\n",
       "      <td>10</td>\n",
       "      <td>6</td>\n",
       "      <td>7</td>\n",
       "      <td>5</td>\n",
       "      <td>3</td>\n",
       "      <td>3</td>\n",
       "      <td>5</td>\n",
       "      <td>1</td>\n",
       "    </tr>\n",
       "    <tr>\n",
       "      <th>18</th>\n",
       "      <td>2018</td>\n",
       "      <td>101</td>\n",
       "      <td>194</td>\n",
       "      <td>8</td>\n",
       "      <td>14</td>\n",
       "      <td>7</td>\n",
       "      <td>12</td>\n",
       "      <td>4</td>\n",
       "      <td>5</td>\n",
       "      <td>2</td>\n",
       "      <td>2</td>\n",
       "      <td>1</td>\n",
       "    </tr>\n",
       "    <tr>\n",
       "      <th>19</th>\n",
       "      <td>2019</td>\n",
       "      <td>129</td>\n",
       "      <td>252</td>\n",
       "      <td>8</td>\n",
       "      <td>11</td>\n",
       "      <td>7</td>\n",
       "      <td>9</td>\n",
       "      <td>3</td>\n",
       "      <td>6</td>\n",
       "      <td>6</td>\n",
       "      <td>2</td>\n",
       "      <td>1</td>\n",
       "    </tr>\n",
       "    <tr>\n",
       "      <th>20</th>\n",
       "      <td>2020</td>\n",
       "      <td>140</td>\n",
       "      <td>247</td>\n",
       "      <td>16</td>\n",
       "      <td>15</td>\n",
       "      <td>6</td>\n",
       "      <td>10</td>\n",
       "      <td>6</td>\n",
       "      <td>5</td>\n",
       "      <td>4</td>\n",
       "      <td>1</td>\n",
       "      <td>0</td>\n",
       "    </tr>\n",
       "    <tr>\n",
       "      <th>21</th>\n",
       "      <td>2021</td>\n",
       "      <td>136</td>\n",
       "      <td>249</td>\n",
       "      <td>11</td>\n",
       "      <td>16</td>\n",
       "      <td>11</td>\n",
       "      <td>8</td>\n",
       "      <td>5</td>\n",
       "      <td>4</td>\n",
       "      <td>4</td>\n",
       "      <td>4</td>\n",
       "      <td>0</td>\n",
       "    </tr>\n",
       "    <tr>\n",
       "      <th>22</th>\n",
       "      <td>2022</td>\n",
       "      <td>154</td>\n",
       "      <td>242</td>\n",
       "      <td>8</td>\n",
       "      <td>30</td>\n",
       "      <td>17</td>\n",
       "      <td>8</td>\n",
       "      <td>8</td>\n",
       "      <td>8</td>\n",
       "      <td>7</td>\n",
       "      <td>5</td>\n",
       "      <td>0</td>\n",
       "    </tr>\n",
       "    <tr>\n",
       "      <th>23</th>\n",
       "      <td>2023</td>\n",
       "      <td>127</td>\n",
       "      <td>229</td>\n",
       "      <td>6</td>\n",
       "      <td>15</td>\n",
       "      <td>9</td>\n",
       "      <td>10</td>\n",
       "      <td>7</td>\n",
       "      <td>5</td>\n",
       "      <td>2</td>\n",
       "      <td>3</td>\n",
       "      <td>1</td>\n",
       "    </tr>\n",
       "    <tr>\n",
       "      <th>24</th>\n",
       "      <td>2024</td>\n",
       "      <td>40</td>\n",
       "      <td>68</td>\n",
       "      <td>2</td>\n",
       "      <td>6</td>\n",
       "      <td>7</td>\n",
       "      <td>3</td>\n",
       "      <td>2</td>\n",
       "      <td>2</td>\n",
       "      <td>1</td>\n",
       "      <td>0</td>\n",
       "      <td>0</td>\n",
       "    </tr>\n",
       "  </tbody>\n",
       "</table>\n",
       "</div>"
      ],
      "text/plain": [
       "Topic Publication Year   -1    0   1   2   3   4  5  6  7  8  9\n",
       "0      2000             11   10   1   2   0   0   0  0  0  0  0\n",
       "1      2001             14   10   3   0   2   0   1  1  0  0  0\n",
       "2      2002             12   16   0   2   3   0   1  2  0  0  0\n",
       "3      2003             9    16   0   0   1   0   1  0  1  0  0\n",
       "4      2004             8    13   1   0   0   0   0  2  0  0  0\n",
       "5      2005             13   17   1   2   1   0   0  1  0  1  0\n",
       "6      2006             25   35   2   1   1   0   2  0  1  0  0\n",
       "7      2007             28   55   4   0   1   1   3  0  0  1  0\n",
       "8      2008             47   82   4   1   1   2   4  0  1  1  0\n",
       "9      2009             41   92   2   2   2   0   2  1  0  1  0\n",
       "10     2010             54   102  1   0   0   0   3  2  2  1  0\n",
       "11     2011             74   129  10  6   7   4   2  1  1  4  1\n",
       "12     2012             81   141  8   3   5   3   1  3  0  2  0\n",
       "13     2013             71   170  10  8   4   1   4  3  1  2  1\n",
       "14     2014             99   197  17  3   7   7   5  5  0  2  1\n",
       "15     2015             106  179  10  3   4   10  3  1  1  2  3\n",
       "16     2016             96   181  13  2   7   5   3  1  4  2  1\n",
       "17     2017             112  192  7   10  6   7   5  3  3  5  1\n",
       "18     2018             101  194  8   14  7   12  4  5  2  2  1\n",
       "19     2019             129  252  8   11  7   9   3  6  6  2  1\n",
       "20     2020             140  247  16  15  6   10  6  5  4  1  0\n",
       "21     2021             136  249  11  16  11  8   5  4  4  4  0\n",
       "22     2022             154  242  8   30  17  8   8  8  7  5  0\n",
       "23     2023             127  229  6   15  9   10  7  5  2  3  1\n",
       "24     2024             40   68   2   6   7   3   2  2  1  0  0"
      ]
     },
     "execution_count": 29,
     "metadata": {},
     "output_type": "execute_result"
    }
   ],
   "source": [
    "pvt1 = pvt.reset_index()\n",
    "pvt2 = pvt1.copy()\n",
    "\n",
    "pvt1 = pvt1.drop('All',axis=1)\n",
    "# pvt1 = pvt1[(pvt1['Publication Year'] != 2024)]\n",
    "pvt1 = pvt1[:-1]\n",
    "pvt1"
   ]
  },
  {
   "cell_type": "code",
   "execution_count": null,
   "metadata": {},
   "outputs": [
    {
     "data": {
      "image/png": "[encoded data removed]",
      "text/plain": [
       "<Figure size 2000x800 with 1 Axes>"
      ]
     },
     "metadata": {},
     "output_type": "display_data"
    }
   ],
   "source": [
    "from matplotlib import pyplot as plt\n",
    "# set figure size as 8 x 20 inches\n",
    "plt.figure(figsize=(20,8))\n",
    "bottom = np.zeros(pvt1.shape[0])\n",
    "for i in range(0, opt_nr_topics-1):\n",
    "    plt.bar(pvt1['Publication Year'], pvt1[i], bottom = bottom, label=f'Topic {i}')\n",
    "    bottom += pvt1[i]\n",
    "\n",
    "plt.xlabel('Year')\n",
    "plt.ylabel('Number of Articles')\n",
    "plt.title('Number of Articles per Topic per Year')\n",
    "# set ticks on x as years\n",
    "plt.xticks(np.arange(pvt1['Publication Year'].min(), pvt1['Publication Year'].max()+1, 2))\n",
    "plt.legend()\n",
    "plt.grid()\n",
    "plt.show()"
   ]
  },
  {
   "cell_type": "code",
   "execution_count": null,
   "metadata": {},
   "outputs": [
    {
     "data": {
      "text/html": [
       "<div>\n",
       "<style scoped>\n",
       "    .dataframe tbody tr th:only-of-type {\n",
       "        vertical-align: middle;\n",
       "    }\n",
       "\n",
       "    .dataframe tbody tr th {\n",
       "        vertical-align: top;\n",
       "    }\n",
       "\n",
       "    .dataframe thead th {\n",
       "        text-align: right;\n",
       "    }\n",
       "</style>\n",
       "<table border=\"1\" class=\"dataframe\">\n",
       "  <thead>\n",
       "    <tr style=\"text-align: right;\">\n",
       "      <th>Topic</th>\n",
       "      <th>Publication Year</th>\n",
       "      <th>-1</th>\n",
       "      <th>0</th>\n",
       "      <th>1</th>\n",
       "      <th>2</th>\n",
       "      <th>3</th>\n",
       "      <th>4</th>\n",
       "      <th>5</th>\n",
       "      <th>6</th>\n",
       "      <th>7</th>\n",
       "      <th>8</th>\n",
       "      <th>9</th>\n",
       "    </tr>\n",
       "  </thead>\n",
       "  <tbody>\n",
       "    <tr>\n",
       "      <th>0</th>\n",
       "      <td>2000</td>\n",
       "      <td>11</td>\n",
       "      <td>0.769231</td>\n",
       "      <td>0.076923</td>\n",
       "      <td>0.153846</td>\n",
       "      <td>0.000000</td>\n",
       "      <td>0.000000</td>\n",
       "      <td>0.000000</td>\n",
       "      <td>0.000000</td>\n",
       "      <td>0.000000</td>\n",
       "      <td>0.000000</td>\n",
       "      <td>0.000000</td>\n",
       "    </tr>\n",
       "    <tr>\n",
       "      <th>1</th>\n",
       "      <td>2001</td>\n",
       "      <td>14</td>\n",
       "      <td>0.588235</td>\n",
       "      <td>0.176471</td>\n",
       "      <td>0.000000</td>\n",
       "      <td>0.117647</td>\n",
       "      <td>0.000000</td>\n",
       "      <td>0.058824</td>\n",
       "      <td>0.058824</td>\n",
       "      <td>0.000000</td>\n",
       "      <td>0.000000</td>\n",
       "      <td>0.000000</td>\n",
       "    </tr>\n",
       "    <tr>\n",
       "      <th>2</th>\n",
       "      <td>2002</td>\n",
       "      <td>12</td>\n",
       "      <td>0.666667</td>\n",
       "      <td>0.000000</td>\n",
       "      <td>0.083333</td>\n",
       "      <td>0.125000</td>\n",
       "      <td>0.000000</td>\n",
       "      <td>0.041667</td>\n",
       "      <td>0.083333</td>\n",
       "      <td>0.000000</td>\n",
       "      <td>0.000000</td>\n",
       "      <td>0.000000</td>\n",
       "    </tr>\n",
       "    <tr>\n",
       "      <th>3</th>\n",
       "      <td>2003</td>\n",
       "      <td>9</td>\n",
       "      <td>0.842105</td>\n",
       "      <td>0.000000</td>\n",
       "      <td>0.000000</td>\n",
       "      <td>0.052632</td>\n",
       "      <td>0.000000</td>\n",
       "      <td>0.052632</td>\n",
       "      <td>0.000000</td>\n",
       "      <td>0.052632</td>\n",
       "      <td>0.000000</td>\n",
       "      <td>0.000000</td>\n",
       "    </tr>\n",
       "    <tr>\n",
       "      <th>4</th>\n",
       "      <td>2004</td>\n",
       "      <td>8</td>\n",
       "      <td>0.812500</td>\n",
       "      <td>0.062500</td>\n",
       "      <td>0.000000</td>\n",
       "      <td>0.000000</td>\n",
       "      <td>0.000000</td>\n",
       "      <td>0.000000</td>\n",
       "      <td>0.125000</td>\n",
       "      <td>0.000000</td>\n",
       "      <td>0.000000</td>\n",
       "      <td>0.000000</td>\n",
       "    </tr>\n",
       "    <tr>\n",
       "      <th>5</th>\n",
       "      <td>2005</td>\n",
       "      <td>13</td>\n",
       "      <td>0.739130</td>\n",
       "      <td>0.043478</td>\n",
       "      <td>0.086957</td>\n",
       "      <td>0.043478</td>\n",
       "      <td>0.000000</td>\n",
       "      <td>0.000000</td>\n",
       "      <td>0.043478</td>\n",
       "      <td>0.000000</td>\n",
       "      <td>0.043478</td>\n",
       "      <td>0.000000</td>\n",
       "    </tr>\n",
       "    <tr>\n",
       "      <th>6</th>\n",
       "      <td>2006</td>\n",
       "      <td>25</td>\n",
       "      <td>0.833333</td>\n",
       "      <td>0.047619</td>\n",
       "      <td>0.023810</td>\n",
       "      <td>0.023810</td>\n",
       "      <td>0.000000</td>\n",
       "      <td>0.047619</td>\n",
       "      <td>0.000000</td>\n",
       "      <td>0.023810</td>\n",
       "      <td>0.000000</td>\n",
       "      <td>0.000000</td>\n",
       "    </tr>\n",
       "    <tr>\n",
       "      <th>7</th>\n",
       "      <td>2007</td>\n",
       "      <td>28</td>\n",
       "      <td>0.846154</td>\n",
       "      <td>0.061538</td>\n",
       "      <td>0.000000</td>\n",
       "      <td>0.015385</td>\n",
       "      <td>0.015385</td>\n",
       "      <td>0.046154</td>\n",
       "      <td>0.000000</td>\n",
       "      <td>0.000000</td>\n",
       "      <td>0.015385</td>\n",
       "      <td>0.000000</td>\n",
       "    </tr>\n",
       "    <tr>\n",
       "      <th>8</th>\n",
       "      <td>2008</td>\n",
       "      <td>47</td>\n",
       "      <td>0.854167</td>\n",
       "      <td>0.041667</td>\n",
       "      <td>0.010417</td>\n",
       "      <td>0.010417</td>\n",
       "      <td>0.020833</td>\n",
       "      <td>0.041667</td>\n",
       "      <td>0.000000</td>\n",
       "      <td>0.010417</td>\n",
       "      <td>0.010417</td>\n",
       "      <td>0.000000</td>\n",
       "    </tr>\n",
       "    <tr>\n",
       "      <th>9</th>\n",
       "      <td>2009</td>\n",
       "      <td>41</td>\n",
       "      <td>0.901961</td>\n",
       "      <td>0.019608</td>\n",
       "      <td>0.019608</td>\n",
       "      <td>0.019608</td>\n",
       "      <td>0.000000</td>\n",
       "      <td>0.019608</td>\n",
       "      <td>0.009804</td>\n",
       "      <td>0.000000</td>\n",
       "      <td>0.009804</td>\n",
       "      <td>0.000000</td>\n",
       "    </tr>\n",
       "    <tr>\n",
       "      <th>10</th>\n",
       "      <td>2010</td>\n",
       "      <td>54</td>\n",
       "      <td>0.918919</td>\n",
       "      <td>0.009009</td>\n",
       "      <td>0.000000</td>\n",
       "      <td>0.000000</td>\n",
       "      <td>0.000000</td>\n",
       "      <td>0.027027</td>\n",
       "      <td>0.018018</td>\n",
       "      <td>0.018018</td>\n",
       "      <td>0.009009</td>\n",
       "      <td>0.000000</td>\n",
       "    </tr>\n",
       "    <tr>\n",
       "      <th>11</th>\n",
       "      <td>2011</td>\n",
       "      <td>74</td>\n",
       "      <td>0.781818</td>\n",
       "      <td>0.060606</td>\n",
       "      <td>0.036364</td>\n",
       "      <td>0.042424</td>\n",
       "      <td>0.024242</td>\n",
       "      <td>0.012121</td>\n",
       "      <td>0.006061</td>\n",
       "      <td>0.006061</td>\n",
       "      <td>0.024242</td>\n",
       "      <td>0.006061</td>\n",
       "    </tr>\n",
       "    <tr>\n",
       "      <th>12</th>\n",
       "      <td>2012</td>\n",
       "      <td>81</td>\n",
       "      <td>0.849398</td>\n",
       "      <td>0.048193</td>\n",
       "      <td>0.018072</td>\n",
       "      <td>0.030120</td>\n",
       "      <td>0.018072</td>\n",
       "      <td>0.006024</td>\n",
       "      <td>0.018072</td>\n",
       "      <td>0.000000</td>\n",
       "      <td>0.012048</td>\n",
       "      <td>0.000000</td>\n",
       "    </tr>\n",
       "    <tr>\n",
       "      <th>13</th>\n",
       "      <td>2013</td>\n",
       "      <td>71</td>\n",
       "      <td>0.833333</td>\n",
       "      <td>0.049020</td>\n",
       "      <td>0.039216</td>\n",
       "      <td>0.019608</td>\n",
       "      <td>0.004902</td>\n",
       "      <td>0.019608</td>\n",
       "      <td>0.014706</td>\n",
       "      <td>0.004902</td>\n",
       "      <td>0.009804</td>\n",
       "      <td>0.004902</td>\n",
       "    </tr>\n",
       "    <tr>\n",
       "      <th>14</th>\n",
       "      <td>2014</td>\n",
       "      <td>99</td>\n",
       "      <td>0.807377</td>\n",
       "      <td>0.069672</td>\n",
       "      <td>0.012295</td>\n",
       "      <td>0.028689</td>\n",
       "      <td>0.028689</td>\n",
       "      <td>0.020492</td>\n",
       "      <td>0.020492</td>\n",
       "      <td>0.000000</td>\n",
       "      <td>0.008197</td>\n",
       "      <td>0.004098</td>\n",
       "    </tr>\n",
       "    <tr>\n",
       "      <th>15</th>\n",
       "      <td>2015</td>\n",
       "      <td>106</td>\n",
       "      <td>0.828704</td>\n",
       "      <td>0.046296</td>\n",
       "      <td>0.013889</td>\n",
       "      <td>0.018519</td>\n",
       "      <td>0.046296</td>\n",
       "      <td>0.013889</td>\n",
       "      <td>0.004630</td>\n",
       "      <td>0.004630</td>\n",
       "      <td>0.009259</td>\n",
       "      <td>0.013889</td>\n",
       "    </tr>\n",
       "    <tr>\n",
       "      <th>16</th>\n",
       "      <td>2016</td>\n",
       "      <td>96</td>\n",
       "      <td>0.826484</td>\n",
       "      <td>0.059361</td>\n",
       "      <td>0.009132</td>\n",
       "      <td>0.031963</td>\n",
       "      <td>0.022831</td>\n",
       "      <td>0.013699</td>\n",
       "      <td>0.004566</td>\n",
       "      <td>0.018265</td>\n",
       "      <td>0.009132</td>\n",
       "      <td>0.004566</td>\n",
       "    </tr>\n",
       "    <tr>\n",
       "      <th>17</th>\n",
       "      <td>2017</td>\n",
       "      <td>112</td>\n",
       "      <td>0.803347</td>\n",
       "      <td>0.029289</td>\n",
       "      <td>0.041841</td>\n",
       "      <td>0.025105</td>\n",
       "      <td>0.029289</td>\n",
       "      <td>0.020921</td>\n",
       "      <td>0.012552</td>\n",
       "      <td>0.012552</td>\n",
       "      <td>0.020921</td>\n",
       "      <td>0.004184</td>\n",
       "    </tr>\n",
       "    <tr>\n",
       "      <th>18</th>\n",
       "      <td>2018</td>\n",
       "      <td>101</td>\n",
       "      <td>0.779116</td>\n",
       "      <td>0.032129</td>\n",
       "      <td>0.056225</td>\n",
       "      <td>0.028112</td>\n",
       "      <td>0.048193</td>\n",
       "      <td>0.016064</td>\n",
       "      <td>0.020080</td>\n",
       "      <td>0.008032</td>\n",
       "      <td>0.008032</td>\n",
       "      <td>0.004016</td>\n",
       "    </tr>\n",
       "    <tr>\n",
       "      <th>19</th>\n",
       "      <td>2019</td>\n",
       "      <td>129</td>\n",
       "      <td>0.826230</td>\n",
       "      <td>0.026230</td>\n",
       "      <td>0.036066</td>\n",
       "      <td>0.022951</td>\n",
       "      <td>0.029508</td>\n",
       "      <td>0.009836</td>\n",
       "      <td>0.019672</td>\n",
       "      <td>0.019672</td>\n",
       "      <td>0.006557</td>\n",
       "      <td>0.003279</td>\n",
       "    </tr>\n",
       "    <tr>\n",
       "      <th>20</th>\n",
       "      <td>2020</td>\n",
       "      <td>140</td>\n",
       "      <td>0.796774</td>\n",
       "      <td>0.051613</td>\n",
       "      <td>0.048387</td>\n",
       "      <td>0.019355</td>\n",
       "      <td>0.032258</td>\n",
       "      <td>0.019355</td>\n",
       "      <td>0.016129</td>\n",
       "      <td>0.012903</td>\n",
       "      <td>0.003226</td>\n",
       "      <td>0.000000</td>\n",
       "    </tr>\n",
       "    <tr>\n",
       "      <th>21</th>\n",
       "      <td>2021</td>\n",
       "      <td>136</td>\n",
       "      <td>0.798077</td>\n",
       "      <td>0.035256</td>\n",
       "      <td>0.051282</td>\n",
       "      <td>0.035256</td>\n",
       "      <td>0.025641</td>\n",
       "      <td>0.016026</td>\n",
       "      <td>0.012821</td>\n",
       "      <td>0.012821</td>\n",
       "      <td>0.012821</td>\n",
       "      <td>0.000000</td>\n",
       "    </tr>\n",
       "    <tr>\n",
       "      <th>22</th>\n",
       "      <td>2022</td>\n",
       "      <td>154</td>\n",
       "      <td>0.726727</td>\n",
       "      <td>0.024024</td>\n",
       "      <td>0.090090</td>\n",
       "      <td>0.051051</td>\n",
       "      <td>0.024024</td>\n",
       "      <td>0.024024</td>\n",
       "      <td>0.024024</td>\n",
       "      <td>0.021021</td>\n",
       "      <td>0.015015</td>\n",
       "      <td>0.000000</td>\n",
       "    </tr>\n",
       "    <tr>\n",
       "      <th>23</th>\n",
       "      <td>2023</td>\n",
       "      <td>127</td>\n",
       "      <td>0.797909</td>\n",
       "      <td>0.020906</td>\n",
       "      <td>0.052265</td>\n",
       "      <td>0.031359</td>\n",
       "      <td>0.034843</td>\n",
       "      <td>0.024390</td>\n",
       "      <td>0.017422</td>\n",
       "      <td>0.006969</td>\n",
       "      <td>0.010453</td>\n",
       "      <td>0.003484</td>\n",
       "    </tr>\n",
       "    <tr>\n",
       "      <th>24</th>\n",
       "      <td>2024</td>\n",
       "      <td>40</td>\n",
       "      <td>0.747253</td>\n",
       "      <td>0.021978</td>\n",
       "      <td>0.065934</td>\n",
       "      <td>0.076923</td>\n",
       "      <td>0.032967</td>\n",
       "      <td>0.021978</td>\n",
       "      <td>0.021978</td>\n",
       "      <td>0.010989</td>\n",
       "      <td>0.000000</td>\n",
       "      <td>0.000000</td>\n",
       "    </tr>\n",
       "  </tbody>\n",
       "</table>\n",
       "</div>"
      ],
      "text/plain": [
       "Topic Publication Year   -1         0         1         2         3         4  \\\n",
       "0      2000             11   0.769231  0.076923  0.153846  0.000000  0.000000   \n",
       "1      2001             14   0.588235  0.176471  0.000000  0.117647  0.000000   \n",
       "2      2002             12   0.666667  0.000000  0.083333  0.125000  0.000000   \n",
       "3      2003             9    0.842105  0.000000  0.000000  0.052632  0.000000   \n",
       "4      2004             8    0.812500  0.062500  0.000000  0.000000  0.000000   \n",
       "5      2005             13   0.739130  0.043478  0.086957  0.043478  0.000000   \n",
       "6      2006             25   0.833333  0.047619  0.023810  0.023810  0.000000   \n",
       "7      2007             28   0.846154  0.061538  0.000000  0.015385  0.015385   \n",
       "8      2008             47   0.854167  0.041667  0.010417  0.010417  0.020833   \n",
       "9      2009             41   0.901961  0.019608  0.019608  0.019608  0.000000   \n",
       "10     2010             54   0.918919  0.009009  0.000000  0.000000  0.000000   \n",
       "11     2011             74   0.781818  0.060606  0.036364  0.042424  0.024242   \n",
       "12     2012             81   0.849398  0.048193  0.018072  0.030120  0.018072   \n",
       "13     2013             71   0.833333  0.049020  0.039216  0.019608  0.004902   \n",
       "14     2014             99   0.807377  0.069672  0.012295  0.028689  0.028689   \n",
       "15     2015             106  0.828704  0.046296  0.013889  0.018519  0.046296   \n",
       "16     2016             96   0.826484  0.059361  0.009132  0.031963  0.022831   \n",
       "17     2017             112  0.803347  0.029289  0.041841  0.025105  0.029289   \n",
       "18     2018             101  0.779116  0.032129  0.056225  0.028112  0.048193   \n",
       "19     2019             129  0.826230  0.026230  0.036066  0.022951  0.029508   \n",
       "20     2020             140  0.796774  0.051613  0.048387  0.019355  0.032258   \n",
       "21     2021             136  0.798077  0.035256  0.051282  0.035256  0.025641   \n",
       "22     2022             154  0.726727  0.024024  0.090090  0.051051  0.024024   \n",
       "23     2023             127  0.797909  0.020906  0.052265  0.031359  0.034843   \n",
       "24     2024             40   0.747253  0.021978  0.065934  0.076923  0.032967   \n",
       "\n",
       "Topic         5         6         7         8         9  \n",
       "0      0.000000  0.000000  0.000000  0.000000  0.000000  \n",
       "1      0.058824  0.058824  0.000000  0.000000  0.000000  \n",
       "2      0.041667  0.083333  0.000000  0.000000  0.000000  \n",
       "3      0.052632  0.000000  0.052632  0.000000  0.000000  \n",
       "4      0.000000  0.125000  0.000000  0.000000  0.000000  \n",
       "5      0.000000  0.043478  0.000000  0.043478  0.000000  \n",
       "6      0.047619  0.000000  0.023810  0.000000  0.000000  \n",
       "7      0.046154  0.000000  0.000000  0.015385  0.000000  \n",
       "8      0.041667  0.000000  0.010417  0.010417  0.000000  \n",
       "9      0.019608  0.009804  0.000000  0.009804  0.000000  \n",
       "10     0.027027  0.018018  0.018018  0.009009  0.000000  \n",
       "11     0.012121  0.006061  0.006061  0.024242  0.006061  \n",
       "12     0.006024  0.018072  0.000000  0.012048  0.000000  \n",
       "13     0.019608  0.014706  0.004902  0.009804  0.004902  \n",
       "14     0.020492  0.020492  0.000000  0.008197  0.004098  \n",
       "15     0.013889  0.004630  0.004630  0.009259  0.013889  \n",
       "16     0.013699  0.004566  0.018265  0.009132  0.004566  \n",
       "17     0.020921  0.012552  0.012552  0.020921  0.004184  \n",
       "18     0.016064  0.020080  0.008032  0.008032  0.004016  \n",
       "19     0.009836  0.019672  0.019672  0.006557  0.003279  \n",
       "20     0.019355  0.016129  0.012903  0.003226  0.000000  \n",
       "21     0.016026  0.012821  0.012821  0.012821  0.000000  \n",
       "22     0.024024  0.024024  0.021021  0.015015  0.000000  \n",
       "23     0.024390  0.017422  0.006969  0.010453  0.003484  \n",
       "24     0.021978  0.021978  0.010989  0.000000  0.000000  "
      ]
     },
     "execution_count": 31,
     "metadata": {},
     "output_type": "execute_result"
    }
   ],
   "source": [
    "pvt2['All'] = pvt2['All'] - pvt2[-1]\n",
    "\n",
    "for i in range(0, opt_nr_topics-1):\n",
    "    pvt2[i] = pvt2[i] / pvt2['All']\n",
    "\n",
    "pvt2 = pvt2.drop('All',axis=1)\n",
    "# pvt2 = pvt2[(pvt2['Publication Year'] != 2024)]\n",
    "pvt2 = pvt2[:-1]\n",
    "pvt2\n",
    "\n"
   ]
  },
  {
   "cell_type": "code",
   "execution_count": null,
   "metadata": {},
   "outputs": [
    {
     "data": {
      "image/png": "[encoded data removed]",
      "text/plain": [
       "<Figure size 2000x800 with 1 Axes>"
      ]
     },
     "metadata": {},
     "output_type": "display_data"
    }
   ],
   "source": [
    "from matplotlib import pyplot as plt\n",
    "# set figure size as 8 x 20 inches\n",
    "plt.figure(figsize=(20,8))\n",
    "\n",
    "bottom = np.zeros(pvt1.shape[0])\n",
    "for i in range(0, opt_nr_topics-1):\n",
    "    plt.bar(pvt2['Publication Year'], pvt2[i], bottom=bottom, label=f'Topic {i}')\n",
    "    bottom += pvt2[i]\n",
    "\n",
    "plt.xlabel('Year')\n",
    "plt.ylabel('Relative number of Articles')\n",
    "plt.title('Relative number of Articles per Topic per Year')\n",
    "# set ticks on x as years\n",
    "plt.xticks(np.arange(pvt2['Publication Year'].min(), pvt2['Publication Year'].max()+1, 2))\n",
    "plt.legend(bbox_to_anchor=(1.0, 1.0), loc='upper left')\n",
    "plt.grid()\n",
    "plt.show()"
   ]
  },
  {
   "cell_type": "code",
   "execution_count": null,
   "metadata": {},
   "outputs": [
    {
     "ename": "ValueError",
     "evalue": "No engine for filetype: ''",
     "output_type": "error",
     "traceback": [
      "\u001b[1;31m---------------------------------------------------------------------------\u001b[0m",
      "\u001b[1;31mOptionError\u001b[0m                               Traceback (most recent call last)",
      "File \u001b[1;32m~\\AppData\\Roaming\\Python\\Python311\\site-packages\\pandas\\io\\excel\\_base.py:1144\u001b[0m, in \u001b[0;36mExcelWriter.__new__\u001b[1;34m(cls, path, engine, date_format, datetime_format, mode, storage_options, if_sheet_exists, engine_kwargs, **kwargs)\u001b[0m\n\u001b[0;32m   1143\u001b[0m \u001b[38;5;28;01mtry\u001b[39;00m:\n\u001b[1;32m-> 1144\u001b[0m     engine \u001b[38;5;241m=\u001b[39m config\u001b[38;5;241m.\u001b[39mget_option(\u001b[38;5;124mf\u001b[39m\u001b[38;5;124m\"\u001b[39m\u001b[38;5;124mio.excel.\u001b[39m\u001b[38;5;132;01m{\u001b[39;00mext\u001b[38;5;132;01m}\u001b[39;00m\u001b[38;5;124m.writer\u001b[39m\u001b[38;5;124m\"\u001b[39m, silent\u001b[38;5;241m=\u001b[39m\u001b[38;5;28;01mTrue\u001b[39;00m)\n\u001b[0;32m   1145\u001b[0m     \u001b[38;5;28;01mif\u001b[39;00m engine \u001b[38;5;241m==\u001b[39m \u001b[38;5;124m\"\u001b[39m\u001b[38;5;124mauto\u001b[39m\u001b[38;5;124m\"\u001b[39m:\n",
      "File \u001b[1;32m~\\AppData\\Roaming\\Python\\Python311\\site-packages\\pandas\\_config\\config.py:263\u001b[0m, in \u001b[0;36mCallableDynamicDoc.__call__\u001b[1;34m(self, *args, **kwds)\u001b[0m\n\u001b[0;32m    262\u001b[0m \u001b[38;5;28;01mdef\u001b[39;00m \u001b[38;5;21m__call__\u001b[39m(\u001b[38;5;28mself\u001b[39m, \u001b[38;5;241m*\u001b[39margs, \u001b[38;5;241m*\u001b[39m\u001b[38;5;241m*\u001b[39mkwds) \u001b[38;5;241m-\u001b[39m\u001b[38;5;241m>\u001b[39m T:\n\u001b[1;32m--> 263\u001b[0m     \u001b[38;5;28;01mreturn\u001b[39;00m \u001b[38;5;28mself\u001b[39m\u001b[38;5;241m.\u001b[39m\u001b[38;5;18m__func__\u001b[39m(\u001b[38;5;241m*\u001b[39margs, \u001b[38;5;241m*\u001b[39m\u001b[38;5;241m*\u001b[39mkwds)\n",
      "File \u001b[1;32m~\\AppData\\Roaming\\Python\\Python311\\site-packages\\pandas\\_config\\config.py:135\u001b[0m, in \u001b[0;36m_get_option\u001b[1;34m(pat, silent)\u001b[0m\n\u001b[0;32m    134\u001b[0m \u001b[38;5;28;01mdef\u001b[39;00m \u001b[38;5;21m_get_option\u001b[39m(pat: \u001b[38;5;28mstr\u001b[39m, silent: \u001b[38;5;28mbool\u001b[39m \u001b[38;5;241m=\u001b[39m \u001b[38;5;28;01mFalse\u001b[39;00m) \u001b[38;5;241m-\u001b[39m\u001b[38;5;241m>\u001b[39m Any:\n\u001b[1;32m--> 135\u001b[0m     key \u001b[38;5;241m=\u001b[39m _get_single_key(pat, silent)\n\u001b[0;32m    137\u001b[0m     \u001b[38;5;66;03m# walk the nested dict\u001b[39;00m\n",
      "File \u001b[1;32m~\\AppData\\Roaming\\Python\\Python311\\site-packages\\pandas\\_config\\config.py:121\u001b[0m, in \u001b[0;36m_get_single_key\u001b[1;34m(pat, silent)\u001b[0m\n\u001b[0;32m    120\u001b[0m         _warn_if_deprecated(pat)\n\u001b[1;32m--> 121\u001b[0m     \u001b[38;5;28;01mraise\u001b[39;00m OptionError(\u001b[38;5;124mf\u001b[39m\u001b[38;5;124m\"\u001b[39m\u001b[38;5;124mNo such keys(s): \u001b[39m\u001b[38;5;132;01m{\u001b[39;00m\u001b[38;5;28mrepr\u001b[39m(pat)\u001b[38;5;132;01m}\u001b[39;00m\u001b[38;5;124m\"\u001b[39m)\n\u001b[0;32m    122\u001b[0m \u001b[38;5;28;01mif\u001b[39;00m \u001b[38;5;28mlen\u001b[39m(keys) \u001b[38;5;241m>\u001b[39m \u001b[38;5;241m1\u001b[39m:\n",
      "\u001b[1;31mOptionError\u001b[0m: No such keys(s): 'io.excel..writer'",
      "\nThe above exception was the direct cause of the following exception:\n",
      "\u001b[1;31mValueError\u001b[0m                                Traceback (most recent call last)",
      "Cell \u001b[1;32mIn[33], line 1\u001b[0m\n\u001b[1;32m----> 1\u001b[0m art\u001b[38;5;241m.\u001b[39mto_excel(\u001b[38;5;124m'\u001b[39m\u001b[38;5;124m.\u001b[39m\u001b[38;5;124m'\u001b[39m \u001b[38;5;241m+\u001b[39m \u001b[38;5;124m'\u001b[39m\u001b[38;5;124m.xlsx\u001b[39m\u001b[38;5;124m'\u001b[39m,index\u001b[38;5;241m=\u001b[39m\u001b[38;5;28;01mFalse\u001b[39;00m)\n",
      "File \u001b[1;32m~\\AppData\\Roaming\\Python\\Python311\\site-packages\\pandas\\util\\_decorators.py:211\u001b[0m, in \u001b[0;36mdeprecate_kwarg.<locals>._deprecate_kwarg.<locals>.wrapper\u001b[1;34m(*args, **kwargs)\u001b[0m\n\u001b[0;32m    209\u001b[0m     \u001b[38;5;28;01melse\u001b[39;00m:\n\u001b[0;32m    210\u001b[0m         kwargs[new_arg_name] \u001b[38;5;241m=\u001b[39m new_arg_value\n\u001b[1;32m--> 211\u001b[0m \u001b[38;5;28;01mreturn\u001b[39;00m func(\u001b[38;5;241m*\u001b[39margs, \u001b[38;5;241m*\u001b[39m\u001b[38;5;241m*\u001b[39mkwargs)\n",
      "File \u001b[1;32m~\\AppData\\Roaming\\Python\\Python311\\site-packages\\pandas\\util\\_decorators.py:211\u001b[0m, in \u001b[0;36mdeprecate_kwarg.<locals>._deprecate_kwarg.<locals>.wrapper\u001b[1;34m(*args, **kwargs)\u001b[0m\n\u001b[0;32m    209\u001b[0m     \u001b[38;5;28;01melse\u001b[39;00m:\n\u001b[0;32m    210\u001b[0m         kwargs[new_arg_name] \u001b[38;5;241m=\u001b[39m new_arg_value\n\u001b[1;32m--> 211\u001b[0m \u001b[38;5;28;01mreturn\u001b[39;00m func(\u001b[38;5;241m*\u001b[39margs, \u001b[38;5;241m*\u001b[39m\u001b[38;5;241m*\u001b[39mkwargs)\n",
      "File \u001b[1;32m~\\AppData\\Roaming\\Python\\Python311\\site-packages\\pandas\\core\\generic.py:2374\u001b[0m, in \u001b[0;36mNDFrame.to_excel\u001b[1;34m(self, excel_writer, sheet_name, na_rep, float_format, columns, header, index, index_label, startrow, startcol, engine, merge_cells, encoding, inf_rep, verbose, freeze_panes, storage_options)\u001b[0m\n\u001b[0;32m   2361\u001b[0m \u001b[38;5;28;01mfrom\u001b[39;00m \u001b[38;5;21;01mpandas\u001b[39;00m\u001b[38;5;21;01m.\u001b[39;00m\u001b[38;5;21;01mio\u001b[39;00m\u001b[38;5;21;01m.\u001b[39;00m\u001b[38;5;21;01mformats\u001b[39;00m\u001b[38;5;21;01m.\u001b[39;00m\u001b[38;5;21;01mexcel\u001b[39;00m \u001b[38;5;28;01mimport\u001b[39;00m ExcelFormatter\n\u001b[0;32m   2363\u001b[0m formatter \u001b[38;5;241m=\u001b[39m ExcelFormatter(\n\u001b[0;32m   2364\u001b[0m     df,\n\u001b[0;32m   2365\u001b[0m     na_rep\u001b[38;5;241m=\u001b[39mna_rep,\n\u001b[1;32m   (...)\u001b[0m\n\u001b[0;32m   2372\u001b[0m     inf_rep\u001b[38;5;241m=\u001b[39minf_rep,\n\u001b[0;32m   2373\u001b[0m )\n\u001b[1;32m-> 2374\u001b[0m formatter\u001b[38;5;241m.\u001b[39mwrite(\n\u001b[0;32m   2375\u001b[0m     excel_writer,\n\u001b[0;32m   2376\u001b[0m     sheet_name\u001b[38;5;241m=\u001b[39msheet_name,\n\u001b[0;32m   2377\u001b[0m     startrow\u001b[38;5;241m=\u001b[39mstartrow,\n\u001b[0;32m   2378\u001b[0m     startcol\u001b[38;5;241m=\u001b[39mstartcol,\n\u001b[0;32m   2379\u001b[0m     freeze_panes\u001b[38;5;241m=\u001b[39mfreeze_panes,\n\u001b[0;32m   2380\u001b[0m     engine\u001b[38;5;241m=\u001b[39mengine,\n\u001b[0;32m   2381\u001b[0m     storage_options\u001b[38;5;241m=\u001b[39mstorage_options,\n\u001b[0;32m   2382\u001b[0m )\n",
      "File \u001b[1;32m~\\AppData\\Roaming\\Python\\Python311\\site-packages\\pandas\\io\\formats\\excel.py:944\u001b[0m, in \u001b[0;36mExcelFormatter.write\u001b[1;34m(self, writer, sheet_name, startrow, startcol, freeze_panes, engine, storage_options)\u001b[0m\n\u001b[0;32m    940\u001b[0m     need_save \u001b[38;5;241m=\u001b[39m \u001b[38;5;28;01mFalse\u001b[39;00m\n\u001b[0;32m    941\u001b[0m \u001b[38;5;28;01melse\u001b[39;00m:\n\u001b[0;32m    942\u001b[0m     \u001b[38;5;66;03m# error: Cannot instantiate abstract class 'ExcelWriter' with abstract\u001b[39;00m\n\u001b[0;32m    943\u001b[0m     \u001b[38;5;66;03m# attributes 'engine', 'save', 'supported_extensions' and 'write_cells'\u001b[39;00m\n\u001b[1;32m--> 944\u001b[0m     writer \u001b[38;5;241m=\u001b[39m ExcelWriter(  \u001b[38;5;66;03m# type: ignore[abstract]\u001b[39;00m\n\u001b[0;32m    945\u001b[0m         writer, engine\u001b[38;5;241m=\u001b[39mengine, storage_options\u001b[38;5;241m=\u001b[39mstorage_options\n\u001b[0;32m    946\u001b[0m     )\n\u001b[0;32m    947\u001b[0m     need_save \u001b[38;5;241m=\u001b[39m \u001b[38;5;28;01mTrue\u001b[39;00m\n\u001b[0;32m    949\u001b[0m \u001b[38;5;28;01mtry\u001b[39;00m:\n",
      "File \u001b[1;32m~\\AppData\\Roaming\\Python\\Python311\\site-packages\\pandas\\io\\excel\\_base.py:1148\u001b[0m, in \u001b[0;36mExcelWriter.__new__\u001b[1;34m(cls, path, engine, date_format, datetime_format, mode, storage_options, if_sheet_exists, engine_kwargs, **kwargs)\u001b[0m\n\u001b[0;32m   1146\u001b[0m             engine \u001b[38;5;241m=\u001b[39m get_default_engine(ext, mode\u001b[38;5;241m=\u001b[39m\u001b[38;5;124m\"\u001b[39m\u001b[38;5;124mwriter\u001b[39m\u001b[38;5;124m\"\u001b[39m)\n\u001b[0;32m   1147\u001b[0m     \u001b[38;5;28;01mexcept\u001b[39;00m \u001b[38;5;167;01mKeyError\u001b[39;00m \u001b[38;5;28;01mas\u001b[39;00m err:\n\u001b[1;32m-> 1148\u001b[0m         \u001b[38;5;28;01mraise\u001b[39;00m \u001b[38;5;167;01mValueError\u001b[39;00m(\u001b[38;5;124mf\u001b[39m\u001b[38;5;124m\"\u001b[39m\u001b[38;5;124mNo engine for filetype: \u001b[39m\u001b[38;5;124m'\u001b[39m\u001b[38;5;132;01m{\u001b[39;00mext\u001b[38;5;132;01m}\u001b[39;00m\u001b[38;5;124m'\u001b[39m\u001b[38;5;124m\"\u001b[39m) \u001b[38;5;28;01mfrom\u001b[39;00m \u001b[38;5;21;01merr\u001b[39;00m\n\u001b[0;32m   1150\u001b[0m \u001b[38;5;28;01mif\u001b[39;00m engine \u001b[38;5;241m==\u001b[39m \u001b[38;5;124m\"\u001b[39m\u001b[38;5;124mxlwt\u001b[39m\u001b[38;5;124m\"\u001b[39m:\n\u001b[0;32m   1151\u001b[0m     xls_config_engine \u001b[38;5;241m=\u001b[39m config\u001b[38;5;241m.\u001b[39mget_option(\n\u001b[0;32m   1152\u001b[0m         \u001b[38;5;124m\"\u001b[39m\u001b[38;5;124mio.excel.xls.writer\u001b[39m\u001b[38;5;124m\"\u001b[39m, silent\u001b[38;5;241m=\u001b[39m\u001b[38;5;28;01mTrue\u001b[39;00m\n\u001b[0;32m   1153\u001b[0m     )\n",
      "\u001b[1;31mValueError\u001b[0m: No engine for filetype: ''"
     ]
    }
   ],
   "source": [
    "art.to_excel('.' + '.xlsx',index=False)"
   ]
  },
  {
   "cell_type": "markdown",
   "metadata": {},
   "source": [
    "#### References\n",
    "\n",
    "- LDA gensim vs scikit-learn: https://blog.devgenius.io/working-with-sklearn-latent-dirichlet-allocation-lda-topic-modeling-on-airline-sentiment-twitter-56dfacfd58bf  - \n",
    "- Perplexity score: https://medium.com/@iqra.bismi/topic-modelling-using-lda-fe81a2a806e0#:~:text=Perplexity%20is%20a%20commonly%20used,score%20indicates%20better%20model%20performance\n",
    "- A Topic Modeling Comparison Between LDA, NMF, Top2Vec, and BERTopic to Demystify Twitter Posts: https://www.frontiersin.org/articles/10.3389/fsoc.2022.886498/full\n",
    "- https://towardsdatascience.com/visualizing-topic-models-with-scatterpies-and-t-sne-f21f228f7b02\n",
    "- https://maartengr.github.io/BERTopic/index.html "
   ]
  },
  {
   "cell_type": "markdown",
   "metadata": {},
   "source": []
  }
 ],
 "metadata": {
  "kernelspec": {
   "display_name": "Python 3",
   "language": "python",
   "name": "python3"
  },
  "language_info": {
   "codemirror_mode": {
    "name": "ipython",
    "version": 3
   },
   "file_extension": ".py",
   "mimetype": "text/x-python",
   "name": "python",
   "nbconvert_exporter": "python",
   "pygments_lexer": "ipython3",
   "version": "3.12.8"
  }
 },
 "nbformat": 4,
 "nbformat_minor": 2
}
