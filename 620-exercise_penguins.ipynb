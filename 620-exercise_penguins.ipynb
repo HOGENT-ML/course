{
  "cells": [
    {
      "attachments": {},
      "cell_type": "markdown",
      "metadata": {},
      "source": [
        "<table align=\"left\">\n",
        "  <td>\n",
        "    <a href=\"https://colab.research.google.com/github/HOGENT-ML/course/blob/main/solutions/061-exercise_penguins_solution.ipynb\" target=\"_parent\"><img src=\"https://colab.research.google.com/assets/colab-badge.svg\" alt=\"Open In Colab\"/></a>\n",
        "  </td>\n",
        "</table>"
      ]
    },
    {
      "cell_type": "code",
      "execution_count": null,
      "metadata": {
        "id": "rO-a8LratBrG"
      },
      "outputs": [],
      "source": [
        "# Importing the necessary packages\n",
        "import numpy as np                                  # \"Scientific computing\"\n",
        "import scipy.stats as stats                         # Statistical tests\n",
        "\n",
        "import pandas as pd                                 # Data Frame\n",
        "from pandas.api.types import CategoricalDtype\n",
        "\n",
        "import matplotlib.pyplot as plt                     # Basic visualisation\n",
        "\n",
        "from sklearn.model_selection import cross_val_score\n",
        "from sklearn.compose import ColumnTransformer\n",
        "from sklearn.pipeline import Pipeline\n",
        "from sklearn.preprocessing import MinMaxScaler"
      ]
    },
    {
      "cell_type": "markdown",
      "metadata": {},
      "source": [
        "![](img/penguins.png)"
      ]
    },
    {
      "cell_type": "code",
      "execution_count": null,
      "metadata": {
        "colab": {
          "base_uri": "https://localhost:8080/",
          "height": 206
        },
        "id": "u5k9dXTvtn3i",
        "outputId": "c7c597a5-e82c-471d-de13-5fcedf7f5132"
      },
      "outputs": [],
      "source": [
        "penguins = pd.read_csv('https://raw.githubusercontent.com/HOGENT-ML/course/main/datasets/penguins.csv')\n",
        "penguins.head()"
      ]
    },
    {
      "cell_type": "markdown",
      "metadata": {
        "id": "hWrct3ddbfjN"
      },
      "source": [
        "Get some general info about the dataset (type of each column, null values, ...)"
      ]
    },
    {
      "cell_type": "code",
      "execution_count": null,
      "metadata": {
        "colab": {
          "base_uri": "https://localhost:8080/"
        },
        "id": "DiWPQpAGWuPH",
        "outputId": "0d947135-d183-4bfa-830e-7c0465105204"
      },
      "outputs": [],
      "source": []
    },
    {
      "cell_type": "markdown",
      "metadata": {
        "id": "HONlbkIn-DLv"
      },
      "source": [
        "Drop rows containing NaN values.  \n",
        "Check afterwards if there are no nulls left."
      ]
    },
    {
      "cell_type": "code",
      "execution_count": null,
      "metadata": {
        "id": "HkAadEWp-BaR"
      },
      "outputs": [],
      "source": []
    },
    {
      "cell_type": "markdown",
      "metadata": {
        "id": "kRhMIz4lC96q"
      },
      "source": [
        "Is this a skewed dataset?"
      ]
    },
    {
      "cell_type": "code",
      "execution_count": null,
      "metadata": {
        "colab": {
          "base_uri": "https://localhost:8080/"
        },
        "id": "HfRaUNf_-huy",
        "outputId": "eea2218e-9303-4c4a-c877-6282f9aca304"
      },
      "outputs": [],
      "source": []
    },
    {
      "attachments": {},
      "cell_type": "markdown",
      "metadata": {},
      "source": [
        "Show the correlation matrix between all attributes and the label. "
      ]
    },
    {
      "cell_type": "code",
      "execution_count": null,
      "metadata": {
        "colab": {
          "base_uri": "https://localhost:8080/",
          "height": 352
        },
        "id": "biW9IzM1-3JL",
        "outputId": "824aec48-3d3c-445a-e4d8-31e067339d71"
      },
      "outputs": [],
      "source": []
    },
    {
      "cell_type": "markdown",
      "metadata": {
        "id": "qwUdPqUGsxsf"
      },
      "source": [
        "What is X and what is y?"
      ]
    },
    {
      "cell_type": "code",
      "execution_count": null,
      "metadata": {
        "id": "Wycq9i49DNaZ"
      },
      "outputs": [],
      "source": []
    },
    {
      "cell_type": "markdown",
      "metadata": {
        "id": "t4oQCJyaDOto"
      },
      "source": [
        "What is X_train, y_train, X_test, y_test?"
      ]
    },
    {
      "cell_type": "code",
      "execution_count": null,
      "metadata": {
        "id": "26yZ2l91s_7N"
      },
      "outputs": [],
      "source": []
    },
    {
      "cell_type": "markdown",
      "metadata": {
        "id": "0wykXUR0DitZ"
      },
      "source": [
        "What is the number of records in X_train en X_test?"
      ]
    },
    {
      "cell_type": "code",
      "execution_count": null,
      "metadata": {
        "colab": {
          "base_uri": "https://localhost:8080/"
        },
        "id": "VeTbWmXgDhGB",
        "outputId": "58829d26-bc82-40f5-a2de-403271ba6ee7"
      },
      "outputs": [],
      "source": []
    },
    {
      "cell_type": "markdown",
      "metadata": {},
      "source": [
        "Train a decision tree without any restrictions. \n",
        "- what's the depth of the resulting tree (check the documentation)?\n",
        "- find a way to check if this model suffers from overfitting"
      ]
    },
    {
      "cell_type": "code",
      "execution_count": null,
      "metadata": {},
      "outputs": [],
      "source": []
    },
    {
      "cell_type": "code",
      "execution_count": null,
      "metadata": {},
      "outputs": [],
      "source": []
    },
    {
      "cell_type": "markdown",
      "metadata": {
        "id": "GjlBSILlsudL"
      },
      "source": [
        "Try to improve this result by using GridSearchCV to find the best parameter combination.  \n",
        "Which parameters does the DecisionTreeClassifier have? See [sklearn.tree.DecisionTreeClassifier.html](https://scikit-learn.org/stable/modules/generated/sklearn.tree.DecisionTreeClassifier.html)\n",
        "\n",
        "Then use GridSearchCV to find the best values for the parameters when using the DecisionTreeClassifier.  \n",
        "\n",
        "What is the best model (a.o. tree depth) and the best score?"
      ]
    },
    {
      "cell_type": "code",
      "execution_count": null,
      "metadata": {
        "id": "KWHz7TdFvFOO"
      },
      "outputs": [],
      "source": [
        "\n"
      ]
    },
    {
      "cell_type": "code",
      "execution_count": null,
      "metadata": {
        "colab": {
          "base_uri": "https://localhost:8080/"
        },
        "id": "6NWvYWRMFGjN",
        "outputId": "0bb2abc4-a8a9-4b98-8e61-5ea8c2983d09"
      },
      "outputs": [],
      "source": []
    },
    {
      "cell_type": "markdown",
      "metadata": {},
      "source": [
        "Draw the best tree"
      ]
    },
    {
      "cell_type": "code",
      "execution_count": null,
      "metadata": {},
      "outputs": [],
      "source": []
    },
    {
      "cell_type": "markdown",
      "metadata": {},
      "source": [
        "- Check if this model corresponds with the parameters of the best estimator"
      ]
    },
    {
      "attachments": {},
      "cell_type": "markdown",
      "metadata": {
        "id": "neDWiVU_wkUv"
      },
      "source": [
        "Use the best model to make predictions on X_test.    \n",
        "Determine the accuracy on the test set.   \n",
        "Show the normalized confusion matrix on the test set."
      ]
    },
    {
      "cell_type": "code",
      "execution_count": null,
      "metadata": {
        "id": "_3znCUAJJChi"
      },
      "outputs": [],
      "source": []
    },
    {
      "cell_type": "code",
      "execution_count": null,
      "metadata": {
        "colab": {
          "base_uri": "https://localhost:8080/",
          "height": 297
        },
        "id": "YxF20NNYJGdx",
        "outputId": "766d5815-2e93-421f-86b3-54eae43d1624"
      },
      "outputs": [],
      "source": []
    },
    {
      "attachments": {},
      "cell_type": "markdown",
      "metadata": {},
      "source": [
        "Find the probabilities for each prediction on the test set.  "
      ]
    },
    {
      "cell_type": "code",
      "execution_count": null,
      "metadata": {
        "id": "UoxiW8KTysu1"
      },
      "outputs": [],
      "source": []
    }
  ],
  "metadata": {
    "colab": {
      "collapsed_sections": [],
      "name": "Decision Trees Penguins Solution.ipynb",
      "provenance": []
    },
    "kernelspec": {
      "display_name": "Python 3",
      "language": "python",
      "name": "python3"
    },
    "language_info": {
      "codemirror_mode": {
        "name": "ipython",
        "version": 3
      },
      "file_extension": ".py",
      "mimetype": "text/x-python",
      "name": "python",
      "nbconvert_exporter": "python",
      "pygments_lexer": "ipython3",
      "version": "3.11.8"
    },
    "vscode": {
      "interpreter": {
        "hash": "06695702c909af4d2de424dd0ca7f59dcd2ee8fd94cb47bf2545198e411600f7"
      }
    },
    "widgets": {
      "application/vnd.jupyter.widget-state+json": {
        "0c96874c48ff4bb68d3c194c01b22015": {
          "model_module": "@jupyter-widgets/controls",
          "model_module_version": "1.5.0",
          "model_name": "SliderStyleModel",
          "state": {
            "_model_module": "@jupyter-widgets/controls",
            "_model_module_version": "1.5.0",
            "_model_name": "SliderStyleModel",
            "_view_count": null,
            "_view_module": "@jupyter-widgets/base",
            "_view_module_version": "1.2.0",
            "_view_name": "StyleView",
            "description_width": "",
            "handle_color": null
          }
        },
        "1c0de74413d746fdb56357be4fb71ac2": {
          "model_module": "@jupyter-widgets/base",
          "model_module_version": "1.2.0",
          "model_name": "LayoutModel",
          "state": {
            "_model_module": "@jupyter-widgets/base",
            "_model_module_version": "1.2.0",
            "_model_name": "LayoutModel",
            "_view_count": null,
            "_view_module": "@jupyter-widgets/base",
            "_view_module_version": "1.2.0",
            "_view_name": "LayoutView",
            "align_content": null,
            "align_items": null,
            "align_self": null,
            "border": null,
            "bottom": null,
            "display": null,
            "flex": null,
            "flex_flow": null,
            "grid_area": null,
            "grid_auto_columns": null,
            "grid_auto_flow": null,
            "grid_auto_rows": null,
            "grid_column": null,
            "grid_gap": null,
            "grid_row": null,
            "grid_template_areas": null,
            "grid_template_columns": null,
            "grid_template_rows": null,
            "height": null,
            "justify_content": null,
            "justify_items": null,
            "left": null,
            "margin": null,
            "max_height": null,
            "max_width": null,
            "min_height": null,
            "min_width": null,
            "object_fit": null,
            "object_position": null,
            "order": null,
            "overflow": null,
            "overflow_x": null,
            "overflow_y": null,
            "padding": null,
            "right": null,
            "top": null,
            "visibility": null,
            "width": null
          }
        },
        "20f9bb3f123c4b69a1d4963760566729": {
          "model_module": "@jupyter-widgets/controls",
          "model_module_version": "1.5.0",
          "model_name": "DropdownModel",
          "state": {
            "_dom_classes": [],
            "_model_module": "@jupyter-widgets/controls",
            "_model_module_version": "1.5.0",
            "_model_name": "DropdownModel",
            "_options_labels": [
              "gini",
              "entropy"
            ],
            "_view_count": null,
            "_view_module": "@jupyter-widgets/controls",
            "_view_module_version": "1.5.0",
            "_view_name": "DropdownView",
            "description": "crit",
            "description_tooltip": null,
            "disabled": false,
            "index": 0,
            "layout": "IPY_MODEL_81f0ca17bb18452d810f1f6fe5233e67",
            "style": "IPY_MODEL_2e83c6514897473889d1dcec48506547"
          }
        },
        "2862c47c6cfc4067bde4343b01e8f2c6": {
          "model_module": "@jupyter-widgets/base",
          "model_module_version": "1.2.0",
          "model_name": "LayoutModel",
          "state": {
            "_model_module": "@jupyter-widgets/base",
            "_model_module_version": "1.2.0",
            "_model_name": "LayoutModel",
            "_view_count": null,
            "_view_module": "@jupyter-widgets/base",
            "_view_module_version": "1.2.0",
            "_view_name": "LayoutView",
            "align_content": null,
            "align_items": null,
            "align_self": null,
            "border": null,
            "bottom": null,
            "display": null,
            "flex": null,
            "flex_flow": null,
            "grid_area": null,
            "grid_auto_columns": null,
            "grid_auto_flow": null,
            "grid_auto_rows": null,
            "grid_column": null,
            "grid_gap": null,
            "grid_row": null,
            "grid_template_areas": null,
            "grid_template_columns": null,
            "grid_template_rows": null,
            "height": null,
            "justify_content": null,
            "justify_items": null,
            "left": null,
            "margin": null,
            "max_height": null,
            "max_width": null,
            "min_height": null,
            "min_width": null,
            "object_fit": null,
            "object_position": null,
            "order": null,
            "overflow": null,
            "overflow_x": null,
            "overflow_y": null,
            "padding": null,
            "right": null,
            "top": null,
            "visibility": null,
            "width": null
          }
        },
        "2a3872deb76345e689e86d5a25740514": {
          "model_module": "@jupyter-widgets/controls",
          "model_module_version": "1.5.0",
          "model_name": "FloatSliderModel",
          "state": {
            "_dom_classes": [],
            "_model_module": "@jupyter-widgets/controls",
            "_model_module_version": "1.5.0",
            "_model_name": "FloatSliderModel",
            "_view_count": null,
            "_view_module": "@jupyter-widgets/controls",
            "_view_module_version": "1.5.0",
            "_view_name": "FloatSliderView",
            "continuous_update": true,
            "description": "min_leaf",
            "description_tooltip": null,
            "disabled": false,
            "layout": "IPY_MODEL_496497138d194e66b36fa408e3d54a47",
            "max": 0.5,
            "min": 0.1,
            "orientation": "horizontal",
            "readout": true,
            "readout_format": ".2f",
            "step": 0.1,
            "style": "IPY_MODEL_0c96874c48ff4bb68d3c194c01b22015",
            "value": 0.2
          }
        },
        "2e83c6514897473889d1dcec48506547": {
          "model_module": "@jupyter-widgets/controls",
          "model_module_version": "1.5.0",
          "model_name": "DescriptionStyleModel",
          "state": {
            "_model_module": "@jupyter-widgets/controls",
            "_model_module_version": "1.5.0",
            "_model_name": "DescriptionStyleModel",
            "_view_count": null,
            "_view_module": "@jupyter-widgets/base",
            "_view_module_version": "1.2.0",
            "_view_name": "StyleView",
            "description_width": ""
          }
        },
        "3ac5cdf848ad4c9a85c0ea25ba9f731a": {
          "model_module": "@jupyter-widgets/controls",
          "model_module_version": "1.5.0",
          "model_name": "DropdownModel",
          "state": {
            "_dom_classes": [],
            "_model_module": "@jupyter-widgets/controls",
            "_model_module_version": "1.5.0",
            "_model_name": "DropdownModel",
            "_options_labels": [
              "1",
              "2",
              "3",
              "4",
              "5"
            ],
            "_view_count": null,
            "_view_module": "@jupyter-widgets/controls",
            "_view_module_version": "1.5.0",
            "_view_name": "DropdownView",
            "description": "depth",
            "description_tooltip": null,
            "disabled": false,
            "index": 0,
            "layout": "IPY_MODEL_9e959051d5444fe2a561aacaa24cb456",
            "style": "IPY_MODEL_ab9435d366ef4b59b0343a5bf6de6a36"
          }
        },
        "496497138d194e66b36fa408e3d54a47": {
          "model_module": "@jupyter-widgets/base",
          "model_module_version": "1.2.0",
          "model_name": "LayoutModel",
          "state": {
            "_model_module": "@jupyter-widgets/base",
            "_model_module_version": "1.2.0",
            "_model_name": "LayoutModel",
            "_view_count": null,
            "_view_module": "@jupyter-widgets/base",
            "_view_module_version": "1.2.0",
            "_view_name": "LayoutView",
            "align_content": null,
            "align_items": null,
            "align_self": null,
            "border": null,
            "bottom": null,
            "display": null,
            "flex": null,
            "flex_flow": null,
            "grid_area": null,
            "grid_auto_columns": null,
            "grid_auto_flow": null,
            "grid_auto_rows": null,
            "grid_column": null,
            "grid_gap": null,
            "grid_row": null,
            "grid_template_areas": null,
            "grid_template_columns": null,
            "grid_template_rows": null,
            "height": null,
            "justify_content": null,
            "justify_items": null,
            "left": null,
            "margin": null,
            "max_height": null,
            "max_width": null,
            "min_height": null,
            "min_width": null,
            "object_fit": null,
            "object_position": null,
            "order": null,
            "overflow": null,
            "overflow_x": null,
            "overflow_y": null,
            "padding": null,
            "right": null,
            "top": null,
            "visibility": null,
            "width": null
          }
        },
        "72828882d22b44cba2a316380c2c30bd": {
          "model_module": "@jupyter-widgets/controls",
          "model_module_version": "1.5.0",
          "model_name": "FloatSliderModel",
          "state": {
            "_dom_classes": [],
            "_model_module": "@jupyter-widgets/controls",
            "_model_module_version": "1.5.0",
            "_model_name": "FloatSliderModel",
            "_view_count": null,
            "_view_module": "@jupyter-widgets/controls",
            "_view_module_version": "1.5.0",
            "_view_name": "FloatSliderView",
            "continuous_update": true,
            "description": "min_split",
            "description_tooltip": null,
            "disabled": false,
            "layout": "IPY_MODEL_2862c47c6cfc4067bde4343b01e8f2c6",
            "max": 1,
            "min": 0.1,
            "orientation": "horizontal",
            "readout": true,
            "readout_format": ".2f",
            "step": 0.1,
            "style": "IPY_MODEL_c6212110629a48b29d1a7d890829729e",
            "value": 0.55
          }
        },
        "81f0ca17bb18452d810f1f6fe5233e67": {
          "model_module": "@jupyter-widgets/base",
          "model_module_version": "1.2.0",
          "model_name": "LayoutModel",
          "state": {
            "_model_module": "@jupyter-widgets/base",
            "_model_module_version": "1.2.0",
            "_model_name": "LayoutModel",
            "_view_count": null,
            "_view_module": "@jupyter-widgets/base",
            "_view_module_version": "1.2.0",
            "_view_name": "LayoutView",
            "align_content": null,
            "align_items": null,
            "align_self": null,
            "border": null,
            "bottom": null,
            "display": null,
            "flex": null,
            "flex_flow": null,
            "grid_area": null,
            "grid_auto_columns": null,
            "grid_auto_flow": null,
            "grid_auto_rows": null,
            "grid_column": null,
            "grid_gap": null,
            "grid_row": null,
            "grid_template_areas": null,
            "grid_template_columns": null,
            "grid_template_rows": null,
            "height": null,
            "justify_content": null,
            "justify_items": null,
            "left": null,
            "margin": null,
            "max_height": null,
            "max_width": null,
            "min_height": null,
            "min_width": null,
            "object_fit": null,
            "object_position": null,
            "order": null,
            "overflow": null,
            "overflow_x": null,
            "overflow_y": null,
            "padding": null,
            "right": null,
            "top": null,
            "visibility": null,
            "width": null
          }
        },
        "9e959051d5444fe2a561aacaa24cb456": {
          "model_module": "@jupyter-widgets/base",
          "model_module_version": "1.2.0",
          "model_name": "LayoutModel",
          "state": {
            "_model_module": "@jupyter-widgets/base",
            "_model_module_version": "1.2.0",
            "_model_name": "LayoutModel",
            "_view_count": null,
            "_view_module": "@jupyter-widgets/base",
            "_view_module_version": "1.2.0",
            "_view_name": "LayoutView",
            "align_content": null,
            "align_items": null,
            "align_self": null,
            "border": null,
            "bottom": null,
            "display": null,
            "flex": null,
            "flex_flow": null,
            "grid_area": null,
            "grid_auto_columns": null,
            "grid_auto_flow": null,
            "grid_auto_rows": null,
            "grid_column": null,
            "grid_gap": null,
            "grid_row": null,
            "grid_template_areas": null,
            "grid_template_columns": null,
            "grid_template_rows": null,
            "height": null,
            "justify_content": null,
            "justify_items": null,
            "left": null,
            "margin": null,
            "max_height": null,
            "max_width": null,
            "min_height": null,
            "min_width": null,
            "object_fit": null,
            "object_position": null,
            "order": null,
            "overflow": null,
            "overflow_x": null,
            "overflow_y": null,
            "padding": null,
            "right": null,
            "top": null,
            "visibility": null,
            "width": null
          }
        },
        "ab9435d366ef4b59b0343a5bf6de6a36": {
          "model_module": "@jupyter-widgets/controls",
          "model_module_version": "1.5.0",
          "model_name": "DescriptionStyleModel",
          "state": {
            "_model_module": "@jupyter-widgets/controls",
            "_model_module_version": "1.5.0",
            "_model_name": "DescriptionStyleModel",
            "_view_count": null,
            "_view_module": "@jupyter-widgets/base",
            "_view_module_version": "1.2.0",
            "_view_name": "StyleView",
            "description_width": ""
          }
        },
        "c6212110629a48b29d1a7d890829729e": {
          "model_module": "@jupyter-widgets/controls",
          "model_module_version": "1.5.0",
          "model_name": "SliderStyleModel",
          "state": {
            "_model_module": "@jupyter-widgets/controls",
            "_model_module_version": "1.5.0",
            "_model_name": "SliderStyleModel",
            "_view_count": null,
            "_view_module": "@jupyter-widgets/base",
            "_view_module_version": "1.2.0",
            "_view_name": "StyleView",
            "description_width": "",
            "handle_color": null
          }
        },
        "db79e05abf354bf8a8e16dd8af5514e2": {
          "model_module": "@jupyter-widgets/controls",
          "model_module_version": "1.5.0",
          "model_name": "VBoxModel",
          "state": {
            "_dom_classes": [
              "widget-interact"
            ],
            "_model_module": "@jupyter-widgets/controls",
            "_model_module_version": "1.5.0",
            "_model_name": "VBoxModel",
            "_view_count": null,
            "_view_module": "@jupyter-widgets/controls",
            "_view_module_version": "1.5.0",
            "_view_name": "VBoxView",
            "box_style": "",
            "children": [
              "IPY_MODEL_20f9bb3f123c4b69a1d4963760566729",
              "IPY_MODEL_3ac5cdf848ad4c9a85c0ea25ba9f731a",
              "IPY_MODEL_72828882d22b44cba2a316380c2c30bd",
              "IPY_MODEL_2a3872deb76345e689e86d5a25740514",
              "IPY_MODEL_f2036dc812274d1b9f2c7358533dc3dd"
            ],
            "layout": "IPY_MODEL_f16dfe4e37eb42fa97f3c7adb29169c2"
          }
        },
        "f16dfe4e37eb42fa97f3c7adb29169c2": {
          "model_module": "@jupyter-widgets/base",
          "model_module_version": "1.2.0",
          "model_name": "LayoutModel",
          "state": {
            "_model_module": "@jupyter-widgets/base",
            "_model_module_version": "1.2.0",
            "_model_name": "LayoutModel",
            "_view_count": null,
            "_view_module": "@jupyter-widgets/base",
            "_view_module_version": "1.2.0",
            "_view_name": "LayoutView",
            "align_content": null,
            "align_items": null,
            "align_self": null,
            "border": null,
            "bottom": null,
            "display": null,
            "flex": null,
            "flex_flow": null,
            "grid_area": null,
            "grid_auto_columns": null,
            "grid_auto_flow": null,
            "grid_auto_rows": null,
            "grid_column": null,
            "grid_gap": null,
            "grid_row": null,
            "grid_template_areas": null,
            "grid_template_columns": null,
            "grid_template_rows": null,
            "height": null,
            "justify_content": null,
            "justify_items": null,
            "left": null,
            "margin": null,
            "max_height": null,
            "max_width": null,
            "min_height": null,
            "min_width": null,
            "object_fit": null,
            "object_position": null,
            "order": null,
            "overflow": null,
            "overflow_x": null,
            "overflow_y": null,
            "padding": null,
            "right": null,
            "top": null,
            "visibility": null,
            "width": null
          }
        },
        "f2036dc812274d1b9f2c7358533dc3dd": {
          "model_module": "@jupyter-widgets/output",
          "model_module_version": "1.0.0",
          "model_name": "OutputModel",
          "state": {
            "_dom_classes": [],
            "_model_module": "@jupyter-widgets/output",
            "_model_module_version": "1.0.0",
            "_model_name": "OutputModel",
            "_view_count": null,
            "_view_module": "@jupyter-widgets/output",
            "_view_module_version": "1.0.0",
            "_view_name": "OutputView",
            "layout": "IPY_MODEL_1c0de74413d746fdb56357be4fb71ac2",
            "msg_id": "",
            "outputs": [
              {
                "data": {
                  "image/svg+xml": "<svg height=\"195pt\" viewBox=\"0.00 0.00 289.50 195.00\" width=\"290pt\" xmlns=\"http://www.w3.org/2000/svg\" xmlns:xlink=\"http://www.w3.org/1999/xlink\">\n<g class=\"graph\" id=\"graph0\" transform=\"scale(1 1) rotate(0) translate(4 191)\">\n<title>Tree</title>\n<polygon fill=\"#ffffff\" points=\"-4,4 -4,-191 285.5,-191 285.5,4 -4,4\" stroke=\"transparent\"/>\n<!-- 0 -->\n<g class=\"node\" id=\"node1\">\n<title>0</title>\n<polygon fill=\"#fef8f4\" points=\"228.5,-187 61.5,-187 61.5,-104 228.5,-104 228.5,-187\" stroke=\"#000000\"/>\n<text fill=\"#000000\" font-family=\"Helvetica,sans-Serif\" font-size=\"14.00\" text-anchor=\"middle\" x=\"145\" y=\"-171.8\">FlipperLength &lt;= 0.602</text>\n<text fill=\"#000000\" font-family=\"Helvetica,sans-Serif\" font-size=\"14.00\" text-anchor=\"middle\" x=\"145\" y=\"-156.8\">gini = 0.639</text>\n<text fill=\"#000000\" font-family=\"Helvetica,sans-Serif\" font-size=\"14.00\" text-anchor=\"middle\" x=\"145\" y=\"-141.8\">samples = 256</text>\n<text fill=\"#000000\" font-family=\"Helvetica,sans-Serif\" font-size=\"14.00\" text-anchor=\"middle\" x=\"145\" y=\"-126.8\">value = [107, 98, 51]</text>\n<text fill=\"#000000\" font-family=\"Helvetica,sans-Serif\" font-size=\"14.00\" text-anchor=\"middle\" x=\"145\" y=\"-111.8\">class = 0</text>\n</g>\n<!-- 1 -->\n<g class=\"node\" id=\"node2\">\n<title>1</title>\n<polygon fill=\"#f1ba92\" points=\"140,-68 0,-68 0,0 140,0 140,-68\" stroke=\"#000000\"/>\n<text fill=\"#000000\" font-family=\"Helvetica,sans-Serif\" font-size=\"14.00\" text-anchor=\"middle\" x=\"70\" y=\"-52.8\">gini = 0.433</text>\n<text fill=\"#000000\" font-family=\"Helvetica,sans-Serif\" font-size=\"14.00\" text-anchor=\"middle\" x=\"70\" y=\"-37.8\">samples = 154</text>\n<text fill=\"#000000\" font-family=\"Helvetica,sans-Serif\" font-size=\"14.00\" text-anchor=\"middle\" x=\"70\" y=\"-22.8\">value = [106, 1, 47]</text>\n<text fill=\"#000000\" font-family=\"Helvetica,sans-Serif\" font-size=\"14.00\" text-anchor=\"middle\" x=\"70\" y=\"-7.8\">class = 0</text>\n</g>\n<!-- 0&#45;&gt;1 -->\n<g class=\"edge\" id=\"edge1\">\n<title>0-&gt;1</title>\n<path d=\"M117.0728,-103.9815C111.0762,-95.0666 104.7296,-85.6313 98.7041,-76.6734\" fill=\"none\" stroke=\"#000000\"/>\n<polygon fill=\"#000000\" points=\"101.5328,-74.6078 93.0473,-68.2637 95.7245,-78.5147 101.5328,-74.6078\" stroke=\"#000000\"/>\n<text fill=\"#000000\" font-family=\"Helvetica,sans-Serif\" font-size=\"14.00\" text-anchor=\"middle\" x=\"88.2456\" y=\"-89.0982\">True</text>\n</g>\n<!-- 2 -->\n<g class=\"node\" id=\"node3\">\n<title>2</title>\n<polygon fill=\"#43e687\" points=\"281.5,-68 158.5,-68 158.5,0 281.5,0 281.5,-68\" stroke=\"#000000\"/>\n<text fill=\"#000000\" font-family=\"Helvetica,sans-Serif\" font-size=\"14.00\" text-anchor=\"middle\" x=\"220\" y=\"-52.8\">gini = 0.094</text>\n<text fill=\"#000000\" font-family=\"Helvetica,sans-Serif\" font-size=\"14.00\" text-anchor=\"middle\" x=\"220\" y=\"-37.8\">samples = 102</text>\n<text fill=\"#000000\" font-family=\"Helvetica,sans-Serif\" font-size=\"14.00\" text-anchor=\"middle\" x=\"220\" y=\"-22.8\">value = [1, 97, 4]</text>\n<text fill=\"#000000\" font-family=\"Helvetica,sans-Serif\" font-size=\"14.00\" text-anchor=\"middle\" x=\"220\" y=\"-7.8\">class = 1</text>\n</g>\n<!-- 0&#45;&gt;2 -->\n<g class=\"edge\" id=\"edge2\">\n<title>0-&gt;2</title>\n<path d=\"M172.9272,-103.9815C178.9238,-95.0666 185.2704,-85.6313 191.2959,-76.6734\" fill=\"none\" stroke=\"#000000\"/>\n<polygon fill=\"#000000\" points=\"194.2755,-78.5147 196.9527,-68.2637 188.4672,-74.6078 194.2755,-78.5147\" stroke=\"#000000\"/>\n<text fill=\"#000000\" font-family=\"Helvetica,sans-Serif\" font-size=\"14.00\" text-anchor=\"middle\" x=\"201.7544\" y=\"-89.0982\">False</text>\n</g>\n</g>\n</svg>",
                  "text/plain": "<IPython.core.display.SVG object>"
                },
                "metadata": {},
                "output_type": "display_data"
              },
              {
                "data": {
                  "image/png": "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\n",
                  "text/plain": "<Figure size 432x288 with 1 Axes>"
                },
                "metadata": {
                  "needs_background": "light"
                },
                "output_type": "display_data"
              }
            ]
          }
        }
      }
    }
  },
  "nbformat": 4,
  "nbformat_minor": 0
}
