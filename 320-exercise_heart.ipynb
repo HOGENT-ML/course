{
  "cells": [
    {
      "cell_type": "code",
      "execution_count": 1,
      "metadata": {
        "id": "rO-a8LratBrG"
      },
      "outputs": [],
      "source": [
        "# Python ≥3.7 is required\n",
        "import sys\n",
        "assert sys.version_info >= (3, 7)\n",
        "\n",
        "# Is this notebook running on Colab or Kaggle?\n",
        "IS_COLAB = \"google.colab\" in sys.modules\n",
        "\n",
        "# Scikit-Learn ≥1.0.1 is required\n",
        "from packaging import version\n",
        "import sklearn\n",
        "\n",
        "assert version.parse(sklearn.__version__) >= version.parse(\"1.0.1\")\n",
        "\n",
        "# Common imports\n",
        "import numpy as np\n",
        "import os\n",
        "\n",
        "# to make this notebook's output stable across runs\n",
        "np.random.seed(42)\n",
        "\n",
        "# To plot pretty figures\n",
        "import matplotlib.pyplot as plt\n",
        "\n",
        "plt.rc('font', size=14)\n",
        "plt.rc('axes', labelsize=14, titlesize=14)\n",
        "plt.rc('legend', fontsize=14)\n",
        "plt.rc('xtick', labelsize=10)\n",
        "plt.rc('ytick', labelsize=10)\n",
        "\n",
        "import pandas as pd"
      ]
    },
    {
      "cell_type": "markdown",
      "metadata": {
        "id": "UlSAWVUST66t"
      },
      "source": [
        "Deze dataset bevat data van cardiotocogrammen die gemaakt werden bij prenatale echo's. Door 3 experten werd een classificatie gedaan, zowel met betrekking tot het morfologisch patroon (CLASS) als met betrekking tot de toestand van de foetus (NSP). Dus zowel de kolom CLASS als de kolom NSP bevatten een 'score' die de 3 experten aan de data gaven.  \n",
        "Daarom kan deze dataset gebruikt worden voor een 10-class of voor een 3-class classificatie.  \n",
        "\n",
        "\n",
        "* LB - FHR-basislijn (slagen per minuut)    \n",
        "* AC - aantal versnellingen per seconde  \n",
        "* FM - aantal foetale bewegingen per seconde  \n",
        "* UC - aantal baarmoedersamentrekkingen per seconde  \n",
        "* DL - aantal lichtvertragingen per seconde  \n",
        "* DS - aantal ernstige vertragingen per seconde  \n",
        "* DP - aantal langdurige vertragingen per seconde  \n",
        "* ASTV - percentage van de tijd met abnormale kortetermijnvariabiliteit  \n",
        "* MSTV - gemiddelde waarde van kortetermijnvariabiliteit  \n",
        "* ALTV - percentage van de tijd met abnormale langetermijnvariabiliteit  \n",
        "* MLTV - gemiddelde waarde van langetermijnvariabiliteit  \n",
        "* Width - breedte van FHR-histogram  \n",
        "* Min - minimum van FHR-histogram  \n",
        "* Max - Maximum van FHR-histogram  \n",
        "* Nmax - aantal histogrampieken  \n",
        "* Nzeros - aantal histogramnullen  \n",
        "* Mode - histogrammodus  \n",
        "* Mean - histogram gemiddelde  \n",
        "* Median - histogram mediaan  \n",
        "* Variance - histogramvariantie  \n",
        "* Tendency - histogramtendens  \n",
        "* CLASS - klassecode van de FHR (1 tot 10)\n",
        "* NSP - klassecode van de toestand van de foetus (1 -> N=normaal; 2 -> S=verdacht (suspect); 3 -> P=pathologisch (= dit wijst op een ziekte))\n",
        "\n",
        "\n",
        "Bron: https://archive.ics.uci.edu/ml/datasets/cardiotocography "
      ]
    },
    {
      "cell_type": "code",
      "execution_count": 2,
      "metadata": {
        "colab": {
          "base_uri": "https://localhost:8080/"
        },
        "id": "9DDydng9tKwj",
        "outputId": "e3e855e8-9764-4883-c9c8-be2dd5b0348c"
      },
      "outputs": [
        {
          "name": "stdout",
          "output_type": "stream",
          "text": [
            "You are not running on Google Colab\n"
          ]
        }
      ],
      "source": [
        "if 'google.colab' in str(get_ipython()):\n",
        "    colab = True\n",
        "    print ('You are running on Google Colab')\n",
        "else:\n",
        "    colab = False\n",
        "    print ('You are not running on Google Colab')\n",
        "\n",
        "if colab:\n",
        "    from google.colab import drive\n",
        "    drive.mount('/content/gdrive')"
      ]
    },
    {
      "cell_type": "code",
      "execution_count": 3,
      "metadata": {
        "colab": {
          "base_uri": "https://localhost:8080/",
          "height": 235
        },
        "id": "u5k9dXTvtn3i",
        "outputId": "346449d7-6088-47ae-986c-6c845738bc2b"
      },
      "outputs": [
        {
          "data": {
            "text/html": [
              "<div>\n",
              "<style scoped>\n",
              "    .dataframe tbody tr th:only-of-type {\n",
              "        vertical-align: middle;\n",
              "    }\n",
              "\n",
              "    .dataframe tbody tr th {\n",
              "        vertical-align: top;\n",
              "    }\n",
              "\n",
              "    .dataframe thead th {\n",
              "        text-align: right;\n",
              "    }\n",
              "</style>\n",
              "<table border=\"1\" class=\"dataframe\">\n",
              "  <thead>\n",
              "    <tr style=\"text-align: right;\">\n",
              "      <th></th>\n",
              "      <th>LB</th>\n",
              "      <th>AC</th>\n",
              "      <th>FM</th>\n",
              "      <th>UC</th>\n",
              "      <th>DL</th>\n",
              "      <th>DS</th>\n",
              "      <th>DP</th>\n",
              "      <th>ASTV</th>\n",
              "      <th>MSTV</th>\n",
              "      <th>ALTV</th>\n",
              "      <th>...</th>\n",
              "      <th>Max</th>\n",
              "      <th>Nmax</th>\n",
              "      <th>Nzeros</th>\n",
              "      <th>Mode</th>\n",
              "      <th>Mean</th>\n",
              "      <th>Median</th>\n",
              "      <th>Variance</th>\n",
              "      <th>Tendency</th>\n",
              "      <th>CLASS</th>\n",
              "      <th>NSP</th>\n",
              "    </tr>\n",
              "  </thead>\n",
              "  <tbody>\n",
              "    <tr>\n",
              "      <th>0</th>\n",
              "      <td>120.0</td>\n",
              "      <td>0.000</td>\n",
              "      <td>0.0</td>\n",
              "      <td>0.000</td>\n",
              "      <td>0.000</td>\n",
              "      <td>0.0</td>\n",
              "      <td>0.0</td>\n",
              "      <td>73.0</td>\n",
              "      <td>0.5</td>\n",
              "      <td>43.0</td>\n",
              "      <td>...</td>\n",
              "      <td>126.0</td>\n",
              "      <td>2.0</td>\n",
              "      <td>0.0</td>\n",
              "      <td>120.0</td>\n",
              "      <td>137.0</td>\n",
              "      <td>121.0</td>\n",
              "      <td>73.0</td>\n",
              "      <td>1.0</td>\n",
              "      <td>9</td>\n",
              "      <td>2.0</td>\n",
              "    </tr>\n",
              "    <tr>\n",
              "      <th>1</th>\n",
              "      <td>132.0</td>\n",
              "      <td>0.006</td>\n",
              "      <td>0.0</td>\n",
              "      <td>0.006</td>\n",
              "      <td>0.003</td>\n",
              "      <td>0.0</td>\n",
              "      <td>0.0</td>\n",
              "      <td>17.0</td>\n",
              "      <td>2.1</td>\n",
              "      <td>0.0</td>\n",
              "      <td>...</td>\n",
              "      <td>198.0</td>\n",
              "      <td>6.0</td>\n",
              "      <td>1.0</td>\n",
              "      <td>141.0</td>\n",
              "      <td>136.0</td>\n",
              "      <td>140.0</td>\n",
              "      <td>12.0</td>\n",
              "      <td>0.0</td>\n",
              "      <td>6</td>\n",
              "      <td>1.0</td>\n",
              "    </tr>\n",
              "    <tr>\n",
              "      <th>2</th>\n",
              "      <td>133.0</td>\n",
              "      <td>0.003</td>\n",
              "      <td>0.0</td>\n",
              "      <td>0.008</td>\n",
              "      <td>0.003</td>\n",
              "      <td>0.0</td>\n",
              "      <td>0.0</td>\n",
              "      <td>16.0</td>\n",
              "      <td>2.1</td>\n",
              "      <td>0.0</td>\n",
              "      <td>...</td>\n",
              "      <td>198.0</td>\n",
              "      <td>5.0</td>\n",
              "      <td>1.0</td>\n",
              "      <td>141.0</td>\n",
              "      <td>135.0</td>\n",
              "      <td>138.0</td>\n",
              "      <td>13.0</td>\n",
              "      <td>0.0</td>\n",
              "      <td>6</td>\n",
              "      <td>1.0</td>\n",
              "    </tr>\n",
              "    <tr>\n",
              "      <th>3</th>\n",
              "      <td>134.0</td>\n",
              "      <td>0.003</td>\n",
              "      <td>0.0</td>\n",
              "      <td>0.008</td>\n",
              "      <td>0.003</td>\n",
              "      <td>0.0</td>\n",
              "      <td>0.0</td>\n",
              "      <td>16.0</td>\n",
              "      <td>2.4</td>\n",
              "      <td>0.0</td>\n",
              "      <td>...</td>\n",
              "      <td>170.0</td>\n",
              "      <td>11.0</td>\n",
              "      <td>0.0</td>\n",
              "      <td>137.0</td>\n",
              "      <td>134.0</td>\n",
              "      <td>137.0</td>\n",
              "      <td>13.0</td>\n",
              "      <td>1.0</td>\n",
              "      <td>6</td>\n",
              "      <td>1.0</td>\n",
              "    </tr>\n",
              "    <tr>\n",
              "      <th>4</th>\n",
              "      <td>132.0</td>\n",
              "      <td>0.007</td>\n",
              "      <td>0.0</td>\n",
              "      <td>0.008</td>\n",
              "      <td>0.000</td>\n",
              "      <td>0.0</td>\n",
              "      <td>0.0</td>\n",
              "      <td>16.0</td>\n",
              "      <td>2.4</td>\n",
              "      <td>0.0</td>\n",
              "      <td>...</td>\n",
              "      <td>170.0</td>\n",
              "      <td>9.0</td>\n",
              "      <td>0.0</td>\n",
              "      <td>137.0</td>\n",
              "      <td>136.0</td>\n",
              "      <td>138.0</td>\n",
              "      <td>11.0</td>\n",
              "      <td>1.0</td>\n",
              "      <td>2</td>\n",
              "      <td>1.0</td>\n",
              "    </tr>\n",
              "  </tbody>\n",
              "</table>\n",
              "<p>5 rows × 23 columns</p>\n",
              "</div>"
            ],
            "text/plain": [
              "      LB     AC   FM     UC     DL   DS   DP  ASTV  MSTV  ALTV  ...    Max  \\\n",
              "0  120.0  0.000  0.0  0.000  0.000  0.0  0.0  73.0   0.5  43.0  ...  126.0   \n",
              "1  132.0  0.006  0.0  0.006  0.003  0.0  0.0  17.0   2.1   0.0  ...  198.0   \n",
              "2  133.0  0.003  0.0  0.008  0.003  0.0  0.0  16.0   2.1   0.0  ...  198.0   \n",
              "3  134.0  0.003  0.0  0.008  0.003  0.0  0.0  16.0   2.4   0.0  ...  170.0   \n",
              "4  132.0  0.007  0.0  0.008  0.000  0.0  0.0  16.0   2.4   0.0  ...  170.0   \n",
              "\n",
              "   Nmax  Nzeros   Mode   Mean  Median  Variance  Tendency  CLASS  NSP  \n",
              "0   2.0     0.0  120.0  137.0   121.0      73.0       1.0      9  2.0  \n",
              "1   6.0     1.0  141.0  136.0   140.0      12.0       0.0      6  1.0  \n",
              "2   5.0     1.0  141.0  135.0   138.0      13.0       0.0      6  1.0  \n",
              "3  11.0     0.0  137.0  134.0   137.0      13.0       1.0      6  1.0  \n",
              "4   9.0     0.0  137.0  136.0   138.0      11.0       1.0      2  1.0  \n",
              "\n",
              "[5 rows x 23 columns]"
            ]
          },
          "execution_count": 3,
          "metadata": {},
          "output_type": "execute_result"
        }
      ],
      "source": [
        "if colab:\n",
        "    df = pd.read_csv('/content/gdrive/MyDrive/DataEchos.csv', delimiter=\";\")\n",
        "else:\n",
        "    df = pd.read_csv('https://raw.githubusercontent.com/HOGENT-ML/course/main/datasets/DataEchos.csv', delimiter=\";\")\n",
        "df.head()"
      ]
    },
    {
      "cell_type": "markdown",
      "metadata": {
        "id": "hWrct3ddbfjN"
      },
      "source": [
        "Geef algemene informatie over de  dataset (type van elke kolom, null waarden, ...)"
      ]
    },
    {
      "cell_type": "code",
      "execution_count": 4,
      "metadata": {
        "colab": {
          "base_uri": "https://localhost:8080/"
        },
        "id": "DiWPQpAGWuPH",
        "outputId": "2c7b4ac5-3669-47a2-f956-c0e3cfa035d6"
      },
      "outputs": [
        {
          "name": "stdout",
          "output_type": "stream",
          "text": [
            "<class 'pandas.core.frame.DataFrame'>\n",
            "RangeIndex: 2126 entries, 0 to 2125\n",
            "Data columns (total 23 columns):\n",
            " #   Column    Non-Null Count  Dtype  \n",
            "---  ------    --------------  -----  \n",
            " 0   LB        2126 non-null   float64\n",
            " 1   AC        2126 non-null   float64\n",
            " 2   FM        2126 non-null   float64\n",
            " 3   UC        2126 non-null   float64\n",
            " 4   DL        2126 non-null   float64\n",
            " 5   DS        2126 non-null   float64\n",
            " 6   DP        2126 non-null   float64\n",
            " 7   ASTV      2126 non-null   float64\n",
            " 8   MSTV      2126 non-null   float64\n",
            " 9   ALTV      2126 non-null   float64\n",
            " 10  MLTV      2126 non-null   float64\n",
            " 11  Width     2126 non-null   float64\n",
            " 12  Min       2126 non-null   float64\n",
            " 13  Max       2126 non-null   float64\n",
            " 14  Nmax      2126 non-null   float64\n",
            " 15  Nzeros    2126 non-null   float64\n",
            " 16  Mode      2126 non-null   float64\n",
            " 17  Mean      2126 non-null   float64\n",
            " 18  Median    2126 non-null   float64\n",
            " 19  Variance  2126 non-null   float64\n",
            " 20  Tendency  2126 non-null   float64\n",
            " 21  CLASS     2126 non-null   int64  \n",
            " 22  NSP       2126 non-null   float64\n",
            "dtypes: float64(22), int64(1)\n",
            "memory usage: 382.1 KB\n"
          ]
        }
      ],
      "source": [
        "df.info()"
      ]
    },
    {
      "cell_type": "markdown",
      "metadata": {
        "id": "3Zo4eNCD5n5c"
      },
      "source": [
        "Is dit een scheve (skewed) dataset? Geef het aantal records voor NSP = 1, 2 en 3."
      ]
    },
    {
      "cell_type": "code",
      "execution_count": null,
      "metadata": {
        "colab": {
          "base_uri": "https://localhost:8080/"
        },
        "id": "Glj6bSs65mof",
        "outputId": "ce0c7b8d-6f1d-42f8-d6e7-ccd0435f999b"
      },
      "outputs": [],
      "source": []
    },
    {
      "attachments": {},
      "cell_type": "markdown",
      "metadata": {
        "id": "rAad8r0Y0zL4"
      },
      "source": [
        "We willen de de classificatie doen op basis van NSP (en níet CLASS).  \n",
        "Wat is X? Wat is y?"
      ]
    },
    {
      "cell_type": "code",
      "execution_count": null,
      "metadata": {
        "id": "AJELc5MV1GjS"
      },
      "outputs": [],
      "source": []
    },
    {
      "cell_type": "markdown",
      "metadata": {
        "id": "Vc4ZvkTt1bm9"
      },
      "source": [
        "Wat is X_train, y_train, X_test, y_test?"
      ]
    },
    {
      "cell_type": "code",
      "execution_count": null,
      "metadata": {
        "id": "1G7hJhzp1auG"
      },
      "outputs": [],
      "source": []
    },
    {
      "cell_type": "markdown",
      "metadata": {
        "id": "emWmYaom2Ocu"
      },
      "source": [
        "Wat zijn de numerieke kolommen in X?"
      ]
    },
    {
      "cell_type": "code",
      "execution_count": null,
      "metadata": {
        "colab": {
          "base_uri": "https://localhost:8080/"
        },
        "id": "EeCjTDN22Mkm",
        "outputId": "da092fe0-23c3-4d30-a3c9-eba9f6c6c663"
      },
      "outputs": [],
      "source": []
    },
    {
      "cell_type": "markdown",
      "metadata": {
        "id": "7gzC7vfeIgcd"
      },
      "source": [
        "Geef de unieke waarden in NSP **gesorteerd** van klein naar groot."
      ]
    },
    {
      "cell_type": "code",
      "execution_count": null,
      "metadata": {
        "colab": {
          "base_uri": "https://localhost:8080/"
        },
        "id": "I_D44r9MlujM",
        "outputId": "31dbb840-5bde-4672-89e6-c1994fd15daa"
      },
      "outputs": [],
      "source": []
    },
    {
      "attachments": {},
      "cell_type": "markdown",
      "metadata": {
        "id": "3PLWp4ZH2yag"
      },
      "source": [
        "Standardiseer de waarden in de numerieke kolommen."
      ]
    },
    {
      "cell_type": "code",
      "execution_count": null,
      "metadata": {
        "id": "72MFbKsX2WGW"
      },
      "outputs": [],
      "source": []
    },
    {
      "cell_type": "code",
      "execution_count": null,
      "metadata": {},
      "outputs": [],
      "source": []
    },
    {
      "attachments": {},
      "cell_type": "markdown",
      "metadata": {
        "id": "mc2mlDo8XYnr"
      },
      "source": [
        "Creëer een model op basis van een Random Forest Classifier.  \n",
        "Bepaal  de optimale waarden voor de parameters gebruik makend van GridSearchCV.  \n",
        "Gebruik volgende parametercombinaties: \n",
        "- bootstrap = True, n_estimators = 3,10,30  max_features = 4,6,8\n",
        "- bootstrap = False, n_estimators = 3,10  max_features = 2,3,4\n",
        "Geef de gevonden optimale waarden voor de classifier.  \n",
        "Geef de accuracy."
      ]
    },
    {
      "cell_type": "markdown",
      "metadata": {
        "id": "4Aok88xHmujr"
      },
      "source": [
        "### RandomForestClassifier\n"
      ]
    },
    {
      "cell_type": "code",
      "execution_count": null,
      "metadata": {
        "colab": {
          "base_uri": "https://localhost:8080/"
        },
        "id": "ISmO8mtUmujy",
        "outputId": "c7ef4e75-4c19-4a8d-b7b8-8ff5135e958b"
      },
      "outputs": [],
      "source": []
    },
    {
      "attachments": {},
      "cell_type": "markdown",
      "metadata": {},
      "source": [
        "Stel de confusion matrix (zowel als numeriek cijferdiagramma en als genormaliseerd kleurdiagramma) op m.b.v. de TEST set en interpreteer. "
      ]
    },
    {
      "cell_type": "code",
      "execution_count": null,
      "metadata": {},
      "outputs": [],
      "source": []
    },
    {
      "cell_type": "code",
      "execution_count": null,
      "metadata": {},
      "outputs": [],
      "source": []
    },
    {
      "cell_type": "code",
      "execution_count": null,
      "metadata": {
        "colab": {
          "base_uri": "https://localhost:8080/",
          "height": 297
        },
        "id": "BUv191fPSmCF",
        "outputId": "46652ae4-61b5-4b20-abe2-b0cc2c7948d5"
      },
      "outputs": [],
      "source": []
    },
    {
      "cell_type": "markdown",
      "metadata": {
        "id": "pK8zyrOlJ-vq"
      },
      "source": [
        "Bekijk de confusion matrix goed. Hoewel de accuracy best ok lijkt, zijn de feitelijke resultaten niet goed."
      ]
    },
    {
      "attachments": {},
      "cell_type": "markdown",
      "metadata": {
        "id": "-D_xpDOqKOzS"
      },
      "source": [
        "Stel dat we NSP = 2 (Suspect) en 3 (Pathologisch) zonder onderscheid volledig samennemen als zijnde Positief (~ er is iets aan de hand) en NSP = 1 (Normaal) beschouwen als zijnde Negatief (~ er is niets aan de hand).  \n",
        "Bereken en geef dan de precision op basis van de voorgaande numerieke confusion matrix."
      ]
    },
    {
      "cell_type": "code",
      "execution_count": null,
      "metadata": {
        "colab": {
          "base_uri": "https://localhost:8080/"
        },
        "id": "qRCkN2DdKNyg",
        "outputId": "7401994b-ba19-4897-b6ea-aba919090c9b"
      },
      "outputs": [],
      "source": []
    },
    {
      "cell_type": "markdown",
      "metadata": {
        "id": "eM0Z7eetKYW0"
      },
      "source": [
        "Bereken en geef dan de recall op basis van de voorgaande confusion matrix."
      ]
    },
    {
      "cell_type": "code",
      "execution_count": null,
      "metadata": {
        "colab": {
          "base_uri": "https://localhost:8080/"
        },
        "id": "c5ts1AsKKXTH",
        "outputId": "0d187ce0-39b8-401b-b66d-f47b4e4998b8"
      },
      "outputs": [],
      "source": []
    },
    {
      "cell_type": "markdown",
      "metadata": {
        "id": "DsaunsJSK0ry"
      },
      "source": [
        "Wat is belangrijker in dit geval: precision of recall? Leg kort uit."
      ]
    },
    {
      "cell_type": "code",
      "execution_count": null,
      "metadata": {
        "id": "d-kcCebcKMtK"
      },
      "outputs": [],
      "source": []
    },
    {
      "cell_type": "markdown",
      "metadata": {
        "id": "vRkT4zjkf02d"
      },
      "source": [
        "Wat is een mogelijke verklaring voor de slechte resultaten?"
      ]
    },
    {
      "cell_type": "code",
      "execution_count": null,
      "metadata": {
        "id": "ztMRhPMrf3ic"
      },
      "outputs": [],
      "source": []
    },
    {
      "attachments": {},
      "cell_type": "markdown",
      "metadata": {},
      "source": [
        "Teken de ROC curve voor de testset en bereken de AUC voor de binaire classifier waarbij negatief beschouwd wordt als NSP = 1 en positief als NSP = 2 of 3. Herwerk hiervoor de dataset. \n",
        "Aangezien Random Forest geen decision function heeft, moeten we gebruik maken van de functie `predict_proba()` op de classifier. "
      ]
    },
    {
      "cell_type": "code",
      "execution_count": null,
      "metadata": {},
      "outputs": [],
      "source": []
    },
    {
      "cell_type": "code",
      "execution_count": null,
      "metadata": {},
      "outputs": [],
      "source": []
    },
    {
      "cell_type": "code",
      "execution_count": null,
      "metadata": {},
      "outputs": [],
      "source": []
    },
    {
      "cell_type": "code",
      "execution_count": null,
      "metadata": {},
      "outputs": [],
      "source": []
    },
    {
      "cell_type": "code",
      "execution_count": null,
      "metadata": {},
      "outputs": [],
      "source": []
    },
    {
      "cell_type": "code",
      "execution_count": null,
      "metadata": {},
      "outputs": [],
      "source": []
    },
    {
      "cell_type": "code",
      "execution_count": null,
      "metadata": {},
      "outputs": [],
      "source": []
    },
    {
      "cell_type": "code",
      "execution_count": null,
      "metadata": {},
      "outputs": [],
      "source": []
    }
  ],
  "metadata": {
    "colab": {
      "collapsed_sections": [],
      "name": "Examen Machine Learning Juni 2022.ipynb",
      "provenance": []
    },
    "kernelspec": {
      "display_name": "Python 3",
      "language": "python",
      "name": "python3"
    },
    "language_info": {
      "codemirror_mode": {
        "name": "ipython",
        "version": 3
      },
      "file_extension": ".py",
      "mimetype": "text/x-python",
      "name": "python",
      "nbconvert_exporter": "python",
      "pygments_lexer": "ipython3",
      "version": "3.12.8"
    },
    "vscode": {
      "interpreter": {
        "hash": "6e919314690ba078a9c4cab482e45708028526432cf77d9e4e02ebe923b94e34"
      }
    }
  },
  "nbformat": 4,
  "nbformat_minor": 0
}
