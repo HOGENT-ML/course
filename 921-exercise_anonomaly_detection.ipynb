{
 "cells": [
  {
   "cell_type": "markdown",
   "id": "9c7decf8",
   "metadata": {},
   "source": [
    "We zoeken outliers in de kijkcijfers van het 7-uur journaal op VRT1 en proberen deze te verklaren. "
   ]
  },
  {
   "cell_type": "code",
   "execution_count": 1,
   "id": "20fb77a6",
   "metadata": {},
   "outputs": [],
   "source": [
    "import numpy as np  \n",
    "import pandas as pd"
   ]
  },
  {
   "cell_type": "code",
   "execution_count": 2,
   "id": "6ce7079e",
   "metadata": {},
   "outputs": [
    {
     "name": "stdout",
     "output_type": "stream",
     "text": [
      "<class 'pandas.core.frame.DataFrame'>\n",
      "RangeIndex: 2878 entries, 0 to 2877\n",
      "Data columns (total 2 columns):\n",
      " #   Column   Non-Null Count  Dtype \n",
      "---  ------   --------------  ----- \n",
      " 0   datum    2878 non-null   object\n",
      " 1   kijkers  2878 non-null   object\n",
      "dtypes: object(2)\n",
      "memory usage: 45.1+ KB\n"
     ]
    }
   ],
   "source": [
    "kijkcijfers_journaal = pd.read_csv('datasets/kijkcijfers_journaal_7uur.csv', sep=';')\n",
    "kijkcijfers_journaal.info()"
   ]
  },
  {
   "cell_type": "markdown",
   "id": "529b30af",
   "metadata": {},
   "source": [
    "Leidt uit deze data de nodige kolommen af voor het opsporen van outliers. Betrek geen externe data. "
   ]
  },
  {
   "cell_type": "code",
   "execution_count": null,
   "id": "77df8f06",
   "metadata": {},
   "outputs": [],
   "source": []
  },
  {
   "cell_type": "code",
   "execution_count": null,
   "id": "9da924a9",
   "metadata": {},
   "outputs": [],
   "source": []
  },
  {
   "cell_type": "markdown",
   "id": "27cba4af",
   "metadata": {},
   "source": [
    "Maak een scatterplot om de correlaties tussen de kolommen te visualiseren. "
   ]
  },
  {
   "cell_type": "code",
   "execution_count": null,
   "id": "0438283b",
   "metadata": {},
   "outputs": [],
   "source": []
  },
  {
   "cell_type": "markdown",
   "id": "3f1edd3d",
   "metadata": {},
   "source": [
    "Maak een clustering van de data met Gaussian Mixture. Kies een \"beredeneerd\" aantal clusters. "
   ]
  },
  {
   "cell_type": "code",
   "execution_count": null,
   "id": "80041bc0",
   "metadata": {},
   "outputs": [],
   "source": []
  },
  {
   "cell_type": "markdown",
   "id": "6a2efb8a",
   "metadata": {},
   "source": [
    "Convergeert het algoritme? "
   ]
  },
  {
   "cell_type": "code",
   "execution_count": null,
   "id": "5690ea7e",
   "metadata": {},
   "outputs": [],
   "source": []
  },
  {
   "cell_type": "markdown",
   "id": "b2a57f27",
   "metadata": {},
   "source": [
    "Selecteer de 10 grootste outliers (op basis van de density score) en koppel ze terug aan de oorspronkelijke data. \n"
   ]
  },
  {
   "cell_type": "code",
   "execution_count": null,
   "id": "9077bcd3",
   "metadata": {},
   "outputs": [],
   "source": []
  },
  {
   "cell_type": "code",
   "execution_count": null,
   "id": "dfbfeb5d",
   "metadata": {},
   "outputs": [],
   "source": []
  },
  {
   "cell_type": "code",
   "execution_count": null,
   "id": "ee4856cb",
   "metadata": {},
   "outputs": [],
   "source": []
  },
  {
   "cell_type": "code",
   "execution_count": null,
   "id": "c1370c35",
   "metadata": {},
   "outputs": [],
   "source": []
  },
  {
   "cell_type": "code",
   "execution_count": null,
   "id": "e03cb8cb",
   "metadata": {},
   "outputs": [],
   "source": []
  },
  {
   "cell_type": "markdown",
   "id": "50129218",
   "metadata": {},
   "source": [
    "Zoek op het internet de nieuwsuitzending met het grootste aantal kijkcijfers. Kun je dit uitzonderlijk hoge aantal verklaren? "
   ]
  },
  {
   "cell_type": "markdown",
   "id": "bab5537d",
   "metadata": {},
   "source": [
    "--> "
   ]
  },
  {
   "cell_type": "markdown",
   "id": "6784076e",
   "metadata": {},
   "source": [
    "Zou het model beter kunnen worden door eerste de meest extreme outliers te verwijderen? "
   ]
  },
  {
   "cell_type": "markdown",
   "id": "7dd969d4",
   "metadata": {},
   "source": [
    "--> "
   ]
  }
 ],
 "metadata": {
  "kernelspec": {
   "display_name": "Python 3",
   "language": "python",
   "name": "python3"
  },
  "language_info": {
   "codemirror_mode": {
    "name": "ipython",
    "version": 3
   },
   "file_extension": ".py",
   "mimetype": "text/x-python",
   "name": "python",
   "nbconvert_exporter": "python",
   "pygments_lexer": "ipython3",
   "version": "3.12.8"
  }
 },
 "nbformat": 4,
 "nbformat_minor": 5
}
