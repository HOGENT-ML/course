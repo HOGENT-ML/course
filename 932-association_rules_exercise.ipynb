{
  "cells": [
    {
      "attachments": {},
      "cell_type": "markdown",
      "metadata": {
        "id": "cpyKTkHAkZUK"
      },
      "source": [
        "Use the data from the csv file adventureworks_assoc.csv.  Determine which items are often bought together when\n",
        "\n",
        "* “together” means “same order”\n",
        "* “together” means “same customer”\n",
        "\n",
        "Play around with the values for support and lift to limit the number of rules. \n"
      ]
    },
    {
      "cell_type": "code",
      "execution_count": 1,
      "metadata": {
        "id": "uZJ1ktATkZUN",
        "outputId": "1839ed07-be2f-4053-ce62-d3bce665dee0"
      },
      "outputs": [
        {
          "data": {
            "text/plain": [
              "(32166, 4)"
            ]
          },
          "execution_count": 1,
          "metadata": {},
          "output_type": "execute_result"
        }
      ],
      "source": [
        "import pandas as pd\n",
        "url = 'https://raw.githubusercontent.com/HOGENT-ML/course/main/datasets/adventureworks.csv'\n",
        "df = pd.read_csv(url,sep=';')\n",
        "df.shape"
      ]
    },
    {
      "cell_type": "code",
      "execution_count": 2,
      "metadata": {
        "id": "VYIhf_I2kZUO"
      },
      "outputs": [
        {
          "data": {
            "text/html": [
              "<div>\n",
              "<style scoped>\n",
              "    .dataframe tbody tr th:only-of-type {\n",
              "        vertical-align: middle;\n",
              "    }\n",
              "\n",
              "    .dataframe tbody tr th {\n",
              "        vertical-align: top;\n",
              "    }\n",
              "\n",
              "    .dataframe thead th {\n",
              "        text-align: right;\n",
              "    }\n",
              "</style>\n",
              "<table border=\"1\" class=\"dataframe\">\n",
              "  <thead>\n",
              "    <tr style=\"text-align: right;\">\n",
              "      <th></th>\n",
              "      <th>OrderNumber</th>\n",
              "      <th>CustomerKey</th>\n",
              "      <th>LineNumber</th>\n",
              "      <th>Model</th>\n",
              "    </tr>\n",
              "  </thead>\n",
              "  <tbody>\n",
              "    <tr>\n",
              "      <th>0</th>\n",
              "      <td>SO72773</td>\n",
              "      <td>11001</td>\n",
              "      <td>4</td>\n",
              "      <td>Sport-100</td>\n",
              "    </tr>\n",
              "    <tr>\n",
              "      <th>1</th>\n",
              "      <td>SO72773</td>\n",
              "      <td>11001</td>\n",
              "      <td>1</td>\n",
              "      <td>Road-750</td>\n",
              "    </tr>\n",
              "    <tr>\n",
              "      <th>2</th>\n",
              "      <td>SO72773</td>\n",
              "      <td>11001</td>\n",
              "      <td>2</td>\n",
              "      <td>Water Bottle</td>\n",
              "    </tr>\n",
              "    <tr>\n",
              "      <th>3</th>\n",
              "      <td>SO72773</td>\n",
              "      <td>11001</td>\n",
              "      <td>3</td>\n",
              "      <td>Road Bottle Cage</td>\n",
              "    </tr>\n",
              "    <tr>\n",
              "      <th>4</th>\n",
              "      <td>SO68413</td>\n",
              "      <td>11012</td>\n",
              "      <td>1</td>\n",
              "      <td>Road Tire Tube</td>\n",
              "    </tr>\n",
              "  </tbody>\n",
              "</table>\n",
              "</div>"
            ],
            "text/plain": [
              "  OrderNumber  CustomerKey  LineNumber             Model\n",
              "0     SO72773        11001           4         Sport-100\n",
              "1     SO72773        11001           1          Road-750\n",
              "2     SO72773        11001           2      Water Bottle\n",
              "3     SO72773        11001           3  Road Bottle Cage\n",
              "4     SO68413        11012           1    Road Tire Tube"
            ]
          },
          "execution_count": 2,
          "metadata": {},
          "output_type": "execute_result"
        }
      ],
      "source": [
        "df.head()"
      ]
    }
  ],
  "metadata": {
    "colab": {
      "name": "association_rules_exercise.ipynb",
      "provenance": []
    },
    "kernelspec": {
      "display_name": "Python 3",
      "language": "python",
      "name": "python3"
    },
    "language_info": {
      "codemirror_mode": {
        "name": "ipython",
        "version": 3
      },
      "file_extension": ".py",
      "mimetype": "text/x-python",
      "name": "python",
      "nbconvert_exporter": "python",
      "pygments_lexer": "ipython3",
      "version": "3.11.8"
    },
    "orig_nbformat": 2
  },
  "nbformat": 4,
  "nbformat_minor": 0
}
