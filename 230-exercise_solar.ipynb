{
 "cells": [
  {
   "cell_type": "markdown",
   "metadata": {},
   "source": [
    "# Situering\n",
    "- De eigenaar van een huishoudelijke zonnepaneelinstallatie zou graag continu een voorspelling hebben van de opbrengst van zijn panelen gedurende de komende uren om het eigen verbruik te optimaliseren: bij een verwachte hoge opbrengst kan hij dan bijv. beslissen om de wasmachine aan te zetten. \n",
    "- Hij beschikt over de meterstand per uur sedert ongeveer één jaar (solar.csv). \n",
    "- Daarnaast zijn ook de gegevens van de waarnemingen van het weer (weather.csv) en \n",
    "- de uren van zonsopgang en –ondergang in dezelfde periode periode (sunrise-sunset.xlsx). \n",
    "\n",
    "# Vraag\n",
    "- Stel een regressiemodel op om de opbrengst per uur te voorspellen. \n",
    "- Kies een optimaal regressiemodel door verschillende modellen uit te proberen en te vergelijken volgens de \"best practices\". \n",
    "- Kies als maatstaf de gemiddelde afwijking van de absolute waarde op uurbasis.\n",
    "\n",
    "\n"
   ]
  },
  {
   "cell_type": "code",
   "execution_count": null,
   "metadata": {},
   "outputs": [],
   "source": [
    "import sys\n",
    "import sklearn\n",
    "import numpy as np\n",
    "import pandas as pd\n",
    "import os\n",
    "import matplotlib as mpl\n",
    "import matplotlib.pyplot as plt\n",
    "from datetime import datetime"
   ]
  },
  {
   "cell_type": "markdown",
   "metadata": {},
   "source": [
    "## Preparation and cleanup of solar data"
   ]
  },
  {
   "cell_type": "code",
   "execution_count": null,
   "metadata": {},
   "outputs": [],
   "source": [
    "def prepare_solar():\n",
    "    solar = pd.read_csv('datasets/solar.csv')  \n",
    "    print(solar.head(10))\n",
    "    print('-------------')\n",
    "    print(solar.tail(10))\n",
    "    solar['datetime'] = pd.to_datetime(solar['timestamp'].str[0:19],format='%Y-%m-%d %H:%M:%S')      \n",
    "    solar['datetime_tz'] = solar['datetime'].dt.tz_localize('Europe/Berlin',ambiguous='NaT')\n",
    "    solar['datetime_utc'] = solar['datetime_tz'].dt.tz_convert('UTC')\n",
    "    solar['date'] = solar['datetime_utc'].dt.date\n",
    "    solar['hour'] = solar['datetime_utc'].dt.hour\n",
    "    solar = solar[['date','hour','kwh']]\n",
    "    solar.dropna(inplace=True)\n",
    "    solar.drop_duplicates(inplace=True)\n",
    "    # todo timediff en alles > 1u er uit. \n",
    "    return solar\n",
    "\n",
    "solar = prepare_solar()\n",
    "solar.info()\n",
    "solar.head()"
   ]
  },
  {
   "cell_type": "code",
   "execution_count": null,
   "metadata": {},
   "outputs": [],
   "source": [
    "solar.tail()"
   ]
  },
  {
   "cell_type": "markdown",
   "metadata": {},
   "source": [
    "## Preparation and cleanup of weather data"
   ]
  },
  {
   "cell_type": "code",
   "execution_count": null,
   "metadata": {},
   "outputs": [],
   "source": [
    "def prepare_weather():\n",
    "    weather = pd.read_csv(\"datasets/weather.csv\")\n",
    "    print(weather.head(10))\n",
    "    weather = weather[['timestamp','temp','pressure','cloudiness','humidity_relative']]\n",
    "    weather = weather.groupby(by=['timestamp']).mean().reset_index()\n",
    "    weather['datetime'] = pd.to_datetime(weather['timestamp'],format='%Y-%m-%dT%H:%M:%S')\n",
    "    weather['date'] = weather['datetime'].dt.date\n",
    "    weather['hour'] = weather['datetime'].dt.hour   \n",
    "    weather = weather[['date','hour','temp','pressure','cloudiness','humidity_relative']]\n",
    "    weather.drop_duplicates(inplace=True)\n",
    "    return weather\n",
    "\n",
    "weather = prepare_weather()\n",
    "weather.info()\n",
    "weather.head(30)\n"
   ]
  },
  {
   "cell_type": "markdown",
   "metadata": {},
   "source": [
    "## Preparation and cleanup of sunrise/sunset data"
   ]
  },
  {
   "cell_type": "code",
   "execution_count": null,
   "metadata": {},
   "outputs": [],
   "source": [
    "!pip install openpyxl"
   ]
  },
  {
   "cell_type": "code",
   "execution_count": null,
   "metadata": {},
   "outputs": [],
   "source": [
    "def prepare_sunrise_sunset():\n",
    "    sunrise_sunset = pd.read_excel(\"datasets/sunrise-sunset.xlsx\") \n",
    "    print(sunrise_sunset.head(10))\n",
    "    sunrise_sunset.rename(columns={'datum':'date'}, inplace=True)\n",
    "    sunrise_sunset['sunrise'] = [pd.Timestamp.combine(d,t) for d,t in zip(sunrise_sunset['date'],sunrise_sunset['Opkomst'])]\n",
    "    sunrise_sunset['noon'] = [pd.Timestamp.combine(d,t) for d,t in zip(sunrise_sunset['date'],sunrise_sunset['Op ware middag'])]\n",
    "    sunrise_sunset['sunset'] = [pd.Timestamp.combine(d,t) for d,t in zip(sunrise_sunset['date'],sunrise_sunset['Ondergang'])]\n",
    "    sunrise_sunset['sunrise'] = sunrise_sunset['sunrise'].dt.tz_localize('Europe/Berlin',ambiguous='NaT')\n",
    "    sunrise_sunset['sunrise'] = sunrise_sunset['sunrise'].dt.tz_convert('UTC')\n",
    "    sunrise_sunset['sunset'] = sunrise_sunset['sunset'].dt.tz_localize('Europe/Berlin',ambiguous='NaT')\n",
    "    sunrise_sunset['sunset'] = sunrise_sunset['sunset'].dt.tz_convert('UTC')\n",
    "    sunrise_sunset['date'] = sunrise_sunset['date'].dt.date\n",
    "    sunrise_sunset = sunrise_sunset[['date','sunrise','sunset']]\n",
    "    return sunrise_sunset\n",
    "\n",
    "sunrise_sunset = prepare_sunrise_sunset()\n",
    "sunrise_sunset.info()\n",
    "sunrise_sunset.head()"
   ]
  },
  {
   "cell_type": "markdown",
   "metadata": {},
   "source": [
    "Combine solar and weather data in a single dataframe. "
   ]
  },
  {
   "cell_type": "code",
   "execution_count": null,
   "metadata": {},
   "outputs": [],
   "source": []
  },
  {
   "cell_type": "markdown",
   "metadata": {},
   "source": [
    "Now also combine this dataset with sunrise_sunset. "
   ]
  },
  {
   "cell_type": "code",
   "execution_count": null,
   "metadata": {},
   "outputs": [],
   "source": []
  },
  {
   "cell_type": "code",
   "execution_count": null,
   "metadata": {},
   "outputs": [],
   "source": []
  },
  {
   "cell_type": "code",
   "execution_count": null,
   "metadata": {},
   "outputs": [],
   "source": []
  },
  {
   "cell_type": "markdown",
   "metadata": {},
   "source": [
    "## Feature Engineering\n",
    "Only keep following features: \n",
    "- dayinyear: number of the day in de year (1/1 = 1, 31/12 = 365)\n",
    "- sunrise_delta: hours after sunrise\n",
    "- sunset_delta: hours before sunset\n",
    "- temp\n",
    "- pressure\n",
    "- cloudiness\n",
    "- humidity\n",
    "- production (kW): yield of the current hour"
   ]
  },
  {
   "cell_type": "code",
   "execution_count": null,
   "metadata": {},
   "outputs": [],
   "source": []
  },
  {
   "cell_type": "markdown",
   "metadata": {},
   "source": [
    "Create a histogram for all numerical features"
   ]
  },
  {
   "cell_type": "code",
   "execution_count": null,
   "metadata": {},
   "outputs": [],
   "source": []
  },
  {
   "cell_type": "markdown",
   "metadata": {},
   "source": [
    "Which column requires further attention? Declare the odd data en fix it. "
   ]
  },
  {
   "cell_type": "code",
   "execution_count": null,
   "metadata": {},
   "outputs": [],
   "source": []
  },
  {
   "cell_type": "code",
   "execution_count": null,
   "metadata": {},
   "outputs": [],
   "source": []
  },
  {
   "cell_type": "code",
   "execution_count": null,
   "metadata": {},
   "outputs": [],
   "source": []
  },
  {
   "cell_type": "code",
   "execution_count": null,
   "metadata": {},
   "outputs": [],
   "source": []
  },
  {
   "cell_type": "markdown",
   "metadata": {},
   "source": [
    "Store the current dataframe to a csv file so we can use it later. "
   ]
  },
  {
   "cell_type": "code",
   "execution_count": null,
   "metadata": {},
   "outputs": [],
   "source": []
  },
  {
   "cell_type": "markdown",
   "metadata": {},
   "source": [
    "Read the data from the csv file"
   ]
  },
  {
   "cell_type": "code",
   "execution_count": null,
   "metadata": {},
   "outputs": [],
   "source": []
  },
  {
   "cell_type": "markdown",
   "metadata": {},
   "source": [
    "Split the dataset in a training and a testset"
   ]
  },
  {
   "cell_type": "code",
   "execution_count": null,
   "metadata": {},
   "outputs": [],
   "source": []
  },
  {
   "cell_type": "markdown",
   "metadata": {},
   "source": [
    "Create a Random Forest model to predict the hourly production. \n",
    "- Create a pipeline with a StandardScaler and and a random forest regressor\n",
    "- Find the optimal parameter combination amongst\n",
    "  - bootstrap: False, True\n",
    "  - n_estimators: 50 - 200 with steps of 50\n",
    "  - max_depth: 10 - 50 with steps of 10 "
   ]
  },
  {
   "cell_type": "code",
   "execution_count": null,
   "metadata": {},
   "outputs": [],
   "source": []
  },
  {
   "cell_type": "markdown",
   "metadata": {},
   "source": [
    "Determine the mean absolute error on the test set. Is this a useful model? "
   ]
  },
  {
   "cell_type": "code",
   "execution_count": null,
   "metadata": {},
   "outputs": [],
   "source": []
  },
  {
   "cell_type": "markdown",
   "metadata": {},
   "source": [
    "Explain the concept of noise in this context"
   ]
  },
  {
   "cell_type": "markdown",
   "metadata": {},
   "source": [
    "."
   ]
  },
  {
   "cell_type": "markdown",
   "metadata": {},
   "source": [
    "Store the model to a file. "
   ]
  },
  {
   "cell_type": "code",
   "execution_count": null,
   "metadata": {},
   "outputs": [],
   "source": []
  }
 ],
 "metadata": {
  "kernelspec": {
   "display_name": "Python 3",
   "language": "python",
   "name": "python3"
  },
  "language_info": {
   "codemirror_mode": {
    "name": "ipython",
    "version": 3
   },
   "file_extension": ".py",
   "mimetype": "text/x-python",
   "name": "python",
   "nbconvert_exporter": "python",
   "pygments_lexer": "ipython3",
   "version": "3.12.8"
  }
 },
 "nbformat": 4,
 "nbformat_minor": 2
}
